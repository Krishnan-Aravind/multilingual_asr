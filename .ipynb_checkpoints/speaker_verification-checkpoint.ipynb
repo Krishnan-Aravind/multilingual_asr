{
 "cells": [
  {
   "attachments": {},
   "cell_type": "markdown",
   "metadata": {},
   "source": [
    "# Speaker verification\n",
    "- Identify which layer has the highest performance. Plot this.\n",
    "- Use XLSR model"
   ]
  },
  {
   "cell_type": "code",
   "execution_count": 3,
   "metadata": {},
   "outputs": [
    {
     "name": "stdout",
     "output_type": "stream",
     "text": [
      "2.0.1\n",
      "2.0.2\n",
      "cpu\n"
     ]
    }
   ],
   "source": [
    "### import packages ###\n",
    "import torch\n",
    "import torchaudio\n",
    "\n",
    "print(torch.__version__)\n",
    "print(torchaudio.__version__)\n",
    "torch.random.manual_seed(0)\n",
    "device = torch.device(\"cuda\" if torch.cuda.is_available() else \"cpu\")\n",
    "print(device)\n",
    "\n",
    "import IPython\n",
    "import matplotlib.pyplot as plt\n",
    "from torchaudio.utils import download_asset\n",
    "from tqdm import tqdm\n",
    "import numpy as np\n",
    "import os\n",
    "import seaborn as sns\n",
    "from sklearn.manifold import TSNE\n",
    "import pandas as pd\n",
    "import pickle\n",
    "import random \n",
    "import itertools \n",
    "from sklearn.linear_model import LogisticRegression, SGDClassifier\n",
    "from sklearn.neural_network import MLPClassifier"
   ]
  },
  {
   "attachments": {},
   "cell_type": "markdown",
   "metadata": {},
   "source": [
    "## Initialization steps"
   ]
  },
  {
   "cell_type": "code",
   "execution_count": 70,
   "metadata": {},
   "outputs": [],
   "source": [
    "# Path to speaker .wav files\n",
    "AUDIO = \"./speaker_audio/\" \n",
    "UTTERANCES_PER_SPEAKER = 50 # number of audio utterances per speaker to gather embeddings from\n",
    "NUM_LAYERS = 24 # number of layers in ASR model\n",
    "NUM_SPEAKERS = 10 # number of unique speakers in training data\n",
    "NUM_SAMPLES = 2000 # number of u,v feature representations (elements in X) on which to train\n",
    "NUM_SAME = int(NUM_SAMPLES / 2)\n",
    "NUM_DIFF = int(NUM_SAMPLES / 2)\n",
    "\n",
    "# Path to ouput compressed data\n",
    "EMBEDDINGS = \"./audio_embeddings/\"\n",
    "\n",
    "# Load audio embeddings from XLS-R model [Babu et al., 2021] (torchaudio.pipelines.WAV2VEC2_XLSR_300M)\n",
    "with open(os.path.join(EMBEDDINGS, \"training_embeddings.pickle\"), \"rb\") as f:\n",
    "    training_embeddings = pickle.load(f)\n",
    "\n",
    "with open(os.path.join(EMBEDDINGS, \"eval_embeddings.pickle\"), \"rb\") as f:\n",
    "    eval_embeddings = pickle.load(f)\n",
    "\n",
    "# Set up for plots\n",
    "sns.set(rc={'figure.figsize':(7,5)})\n",
    "palette = sns.color_palette(\"bright\", 10)\n",
    "# fig, ax = plt.subplots(6,2,figsize=(11,8.5))\n"
   ]
  },
  {
   "attachments": {},
   "cell_type": "markdown",
   "metadata": {},
   "source": [
    "## Functions"
   ]
  },
  {
   "cell_type": "code",
   "execution_count": 6,
   "metadata": {},
   "outputs": [],
   "source": [
    "def hear_audio(AUDIO_FILE):\n",
    "    audio, sr = torchaudio.load(AUDIO_FILE)\n",
    "    print(\"\\t\", end=\"\")\n",
    "    IPython.display.display(IPython.display.Audio(data=audio, rate=sr))"
   ]
  },
  {
   "cell_type": "code",
   "execution_count": 7,
   "metadata": {},
   "outputs": [],
   "source": [
    "def get_feature_vector(sp_embeddings, sp, layer, index):\n",
    "    \"\"\"\n",
    "    Returns the torch.Size([1024]) utterance embedding.\n",
    "\n",
    "    param: sp_embeddings, list of sp_embeddings for all speakers, all layers, all utterances e.g. shape (10, 24, 50, 1024)\n",
    "    param: sp, int speaker\n",
    "    param: layer, int layer of the utterance embedding in range [0,NUM_LAYERS]\n",
    "    param: index, int representing which utterance in range [0,NUM_UTTERANCES)\n",
    "    \"\"\"\n",
    "    return sp_embeddings[sp][layer-1][index]"
   ]
  },
  {
   "cell_type": "code",
   "execution_count": 8,
   "metadata": {},
   "outputs": [],
   "source": [
    "def pickle_data(data_object, filepath):\n",
    "    \"\"\"\n",
    "    Pickle a given data_object into the given filename, \n",
    "    saved to computer at filepath.\n",
    "    \"\"\"\n",
    "    with open(filepath, \"wb\") as f:\n",
    "        pickle.dump(data_object, f)"
   ]
  },
  {
   "attachments": {},
   "cell_type": "markdown",
   "metadata": {},
   "source": [
    "## Check that pickling worked\n"
   ]
  },
  {
   "cell_type": "code",
   "execution_count": 65,
   "metadata": {},
   "outputs": [
    {
     "name": "stdout",
     "output_type": "stream",
     "text": [
      "<class 'list'>\n"
     ]
    },
    {
     "data": {
      "text/plain": [
       "(10, 24, 50, 1024)"
      ]
     },
     "execution_count": 65,
     "metadata": {},
     "output_type": "execute_result"
    }
   ],
   "source": [
    "print(type(training_embeddings))\n",
    "len(training_embeddings[0])\n",
    "np.asarray(training_embeddings).shape # 10 speakers, 24 layers, 50 utterances, 1024 features"
   ]
  },
  {
   "cell_type": "code",
   "execution_count": 10,
   "metadata": {},
   "outputs": [
    {
     "name": "stdout",
     "output_type": "stream",
     "text": [
      "<class 'list'>\n"
     ]
    },
    {
     "data": {
      "text/plain": [
       "(10, 24, 50, 1024)"
      ]
     },
     "execution_count": 10,
     "metadata": {},
     "output_type": "execute_result"
    }
   ],
   "source": [
    "print(type(eval_embeddings))\n",
    "len(eval_embeddings)\n",
    "np.asarray(eval_embeddings).shape # 10 speakers, 24 layers, 50 utterances, 1024 features"
   ]
  },
  {
   "cell_type": "code",
   "execution_count": 11,
   "metadata": {},
   "outputs": [
    {
     "name": "stdout",
     "output_type": "stream",
     "text": [
      "(1024,)\n",
      "[ 16.21347   -4.025654  12.113341 ... -10.794706   9.452261  43.080956]\n"
     ]
    }
   ],
   "source": [
    "print(eval_embeddings[0][23][0].shape)\n",
    "print(eval_embeddings[0][23][0])"
   ]
  },
  {
   "attachments": {},
   "cell_type": "markdown",
   "metadata": {},
   "source": [
    "## Speaker verification probing task with linear classifier\n"
   ]
  },
  {
   "attachments": {},
   "cell_type": "markdown",
   "metadata": {},
   "source": [
    "### Build X, y from training embeddings\n",
    "- X matrix of computed {u,v} vectors\n",
    "- y vector of labels {1,0} for {same,different}"
   ]
  },
  {
   "cell_type": "code",
   "execution_count": 80,
   "metadata": {},
   "outputs": [],
   "source": [
    "def build_sample_indices(NUM_SAMPLES, UTTERANCES_PER_SPEAKER):\n",
    "\n",
    "    # TODO: make this cleaner and integrated with the NUM_UTTERANCES constant for easy changing/testing\n",
    "    # TODO: increase more samples (various ways, but as long as there are more samples)\n",
    "\n",
    "    # choose from 10 speakers x 50 utterances\n",
    "    # 500 pairs of same, 500 pairs of diff\n",
    "\n",
    "    print(\"NUM_SAMPLES:\", NUM_SAMPLES)\n",
    "    print(f\"\\tNUM_SAME = {NUM_SAME}\\n\\tNUM_DIFF = {NUM_DIFF}\")\n",
    "\n",
    "\n",
    "    # For same:\n",
    "    # 50 pairs per speaker 0-9 = 50*10 = 500\n",
    "    # within the 50 pairs: 0-49, 1-48, ... 24-25, 25-\n",
    "    # num_utts_per_speaker = int((NUM_SAMPLES/2) / NUM_SPEAKERS)\n",
    "    num_utts_per_speaker = UTTERANCES_PER_SPEAKER\n",
    "    print(num_utts_per_speaker)\n",
    "    # assert num_utts_per_speaker * NUM_SPEAKERS == NUM_SAMPLES/2, f\"Choose a value for NUM_SAMPLES/2 that is divisible by NUM_SPEAKERS, which is currently set to ({NUM_SPEAKERS}) \"\n",
    "\n",
    "    indices = [i for i in range(num_utts_per_speaker)]\n",
    "    pairs = list(itertools.combinations(indices, 2))\n",
    "    random.shuffle(pairs)\n",
    "    num_selected_per_speaker = int(NUM_SAME / NUM_SPEAKERS)\n",
    "    assert num_selected_per_speaker * NUM_SPEAKERS == NUM_SAME\n",
    "    selected = pairs[0:num_selected_per_speaker]\n",
    "\n",
    "    print(\"indices:\", indices)\n",
    "\n",
    "    # indexed_audio_same = [selected for sp in range(10)]\n",
    "    indexed_audio_same = []\n",
    "    for sp in range(NUM_SPEAKERS):\n",
    "        for pair in selected:\n",
    "            sp_audio_u = (sp, pair[0])\n",
    "            sp_audio_v = (sp, pair[1])\n",
    "            new_pair = (sp_audio_u, sp_audio_v)\n",
    "            indexed_audio_same.append(new_pair)\n",
    "\n",
    "    print(\"indexed_audio_same shape:\", np.asarray(indexed_audio_same).shape) # (500, 2, 2) = 500 pairs of [[sp, audio], [sp, audio]] indices\n",
    "    # print(indexed_audio_same[0:5])\n",
    "\n",
    "    # For diff:\n",
    "    # 1000 utts / 10 speakers = 100 utts per speaker, to make 500 pairs\n",
    "    # 100 utts / 9 other speakers = ~ group 11 utts with each other speaker (or select randomly)\n",
    "\n",
    "    indices_per_sp = np.tile(indices, 2) # 50 utts x 2 = 100 utts\n",
    "    print(\"indices_per_sp:\", indices_per_sp)\n",
    "\n",
    "    sp_audio_tuples = []\n",
    "    for sp in range(NUM_SPEAKERS):\n",
    "        for audio in indices_per_sp:\n",
    "            sp_audio = (sp, audio)\n",
    "            sp_audio_tuples.append(sp_audio)\n",
    "\n",
    "    pairs_diff = list(itertools.combinations(sp_audio_tuples, 2))\n",
    "    random.shuffle(pairs_diff)\n",
    "    selected = pairs_diff[0:NUM_DIFF]\n",
    "\n",
    "    indexed_audio_diff = selected\n",
    "    print(\"indexed_audio_diff shape:\", np.asarray(indexed_audio_diff).shape) # (500, 2, 2) = 500 pairs of [[sp_u, audio], [sp_v, audio]] indices\n",
    "    print(indexed_audio_diff[0:5])\n",
    "    print(indexed_audio_diff[6])\n",
    "\n",
    "    return (indexed_audio_same, indexed_audio_diff)\n"
   ]
  },
  {
   "cell_type": "code",
   "execution_count": 85,
   "metadata": {},
   "outputs": [],
   "source": [
    "def build_X(indexed_audio_same_diff, embeddings, NUM_SAMPLES, NUM_LAYERS):\n",
    "    \n",
    "    indexed_audio_same, indexed_audio_diff = indexed_audio_same_diff\n",
    "    \n",
    "    X_all_layers = []\n",
    "\n",
    "    for layer in range(NUM_LAYERS):\n",
    "        X = []\n",
    "        for match_type in [indexed_audio_same, indexed_audio_diff]:\n",
    "            for pair in match_type:\n",
    "                sp_u = pair[0][0]\n",
    "                sp_v = pair[1][0]\n",
    "                audio_u = pair[0][1]\n",
    "                audio_v = pair[1][1]\n",
    "                u = get_feature_vector(embeddings, sp_u, layer, audio_u)\n",
    "                v = get_feature_vector(embeddings, sp_v, layer, audio_v)\n",
    "                \n",
    "                # concatenate u and v vectors: [|u-v| + (u ⊙ v)]\n",
    "                concat = np.concatenate([abs(np.subtract(u, v)), np.multiply(u, v)])\n",
    "\n",
    "                X.append(concat)\n",
    "        \n",
    "        X_all_layers.append(X)\n",
    "\n",
    "    y = np.repeat([1,0], int(NUM_SAMPLES/2)) # 500 same 1, 500 diff 0\n",
    "\n",
    "    print(np.asarray(X_all_layers).shape)\n",
    "    print(np.asarray(X_all_layers[0]).shape)\n",
    "    assert np.asarray(X_all_layers[0]).shape[0] == NUM_SAMPLES\n",
    "    print(f\"NUM_SAMPLES ({NUM_SAMPLES}) == num elements in each X matrix ? {NUM_SAMPLES==np.asarray(X_all_layers[0]).shape[0]}\")\n",
    "    print(len(y))\n",
    "\n",
    "    print(type(X[0]), X[0], X[0].shape, sep=\"\\n\")\n",
    "\n",
    "    return X_all_layers"
   ]
  },
  {
   "cell_type": "code",
   "execution_count": 103,
   "metadata": {},
   "outputs": [],
   "source": [
    "def build_X_new(indexed_audio_same_diff, embeddings, NUM_SAMPLES, NUM_LAYERS):\n",
    "    \n",
    "    indexed_audio_same, indexed_audio_diff = indexed_audio_same_diff\n",
    "    \n",
    "    X_all_layers = []\n",
    "\n",
    "    for layer in range(NUM_LAYERS):\n",
    "        X = []\n",
    "        for match_type in [indexed_audio_same, indexed_audio_diff]:\n",
    "            for pair in match_type:\n",
    "                sp_u = pair[0][0]\n",
    "                sp_v = pair[1][0]\n",
    "                audio_u = pair[0][1]\n",
    "                audio_v = pair[1][1]\n",
    "                u = get_feature_vector(embeddings, sp_u, layer, audio_u)\n",
    "                v = get_feature_vector(embeddings, sp_v, layer, audio_v)\n",
    "                \n",
    "                # concatenate u and v vectors: [|u-v| + (u ⊙ v)]\n",
    "                concat = np.concatenate([u,v])\n",
    "\n",
    "                X.append(concat)\n",
    "        \n",
    "        X_all_layers.append(X)\n",
    "\n",
    "    y = np.repeat([1,0], int(NUM_SAMPLES/2)) # 500 same 1, 500 diff 0\n",
    "\n",
    "    print(np.asarray(X_all_layers).shape)\n",
    "    print(np.asarray(X_all_layers[0]).shape)\n",
    "    assert np.asarray(X_all_layers[0]).shape[0] == NUM_SAMPLES\n",
    "    print(f\"NUM_SAMPLES ({NUM_SAMPLES}) == num elements in each X matrix ? {NUM_SAMPLES==np.asarray(X_all_layers[0]).shape[0]}\")\n",
    "    print(len(y))\n",
    "\n",
    "    print(type(X[0]), X[0], X[0].shape, sep=\"\\n\")\n",
    "\n",
    "    return X_all_layers"
   ]
  },
  {
   "cell_type": "code",
   "execution_count": 107,
   "metadata": {},
   "outputs": [],
   "source": [
    "def build_X_concat(indexed_audio_same_diff, embeddings, NUM_SAMPLES, NUM_LAYERS):\n",
    "    \n",
    "    indexed_audio_same, indexed_audio_diff = indexed_audio_same_diff\n",
    "    \n",
    "    X_all_layers = []\n",
    "\n",
    "    for layer in range(NUM_LAYERS):\n",
    "        X = []\n",
    "        for match_type in [indexed_audio_same, indexed_audio_diff]:\n",
    "            for pair in match_type:\n",
    "                sp_u = pair[0][0]\n",
    "                sp_v = pair[1][0]\n",
    "                audio_u = pair[0][1]\n",
    "                audio_v = pair[1][1]\n",
    "                u = get_feature_vector(embeddings, sp_u, layer, audio_u)\n",
    "                v = get_feature_vector(embeddings, sp_v, layer, audio_v)\n",
    "                \n",
    "                # concatenate u and v vectors: [|u-v| + (u ⊙ v)]\n",
    "                concat = np.concatenate([u, v, abs(np.subtract(u, v)), np.multiply(u, v)])\n",
    "\n",
    "                X.append(concat)\n",
    "        \n",
    "        X_all_layers.append(X)\n",
    "\n",
    "    y = np.repeat([1,0], int(NUM_SAMPLES/2)) # 500 same 1, 500 diff 0\n",
    "\n",
    "    print(np.asarray(X_all_layers).shape)\n",
    "    print(np.asarray(X_all_layers[0]).shape)\n",
    "    assert np.asarray(X_all_layers[0]).shape[0] == NUM_SAMPLES\n",
    "    print(f\"NUM_SAMPLES ({NUM_SAMPLES}) == num elements in each X matrix ? {NUM_SAMPLES==np.asarray(X_all_layers[0]).shape[0]}\")\n",
    "    print(len(y))\n",
    "\n",
    "    print(type(X[0]), X[0], X[0].shape, sep=\"\\n\")\n",
    "\n",
    "    return X_all_layers"
   ]
  },
  {
   "cell_type": "code",
   "execution_count": 83,
   "metadata": {},
   "outputs": [
    {
     "name": "stdout",
     "output_type": "stream",
     "text": [
      "NUM_SAMPLES: 2000\n",
      "\tNUM_SAME = 1000\n",
      "\tNUM_DIFF = 1000\n",
      "50\n",
      "indices: [0, 1, 2, 3, 4, 5, 6, 7, 8, 9, 10, 11, 12, 13, 14, 15, 16, 17, 18, 19, 20, 21, 22, 23, 24, 25, 26, 27, 28, 29, 30, 31, 32, 33, 34, 35, 36, 37, 38, 39, 40, 41, 42, 43, 44, 45, 46, 47, 48, 49]\n",
      "indexed_audio_same shape: (1000, 2, 2)\n",
      "indices_per_sp: [ 0  1  2  3  4  5  6  7  8  9 10 11 12 13 14 15 16 17 18 19 20 21 22 23\n",
      " 24 25 26 27 28 29 30 31 32 33 34 35 36 37 38 39 40 41 42 43 44 45 46 47\n",
      " 48 49  0  1  2  3  4  5  6  7  8  9 10 11 12 13 14 15 16 17 18 19 20 21\n",
      " 22 23 24 25 26 27 28 29 30 31 32 33 34 35 36 37 38 39 40 41 42 43 44 45\n",
      " 46 47 48 49]\n",
      "indexed_audio_diff shape: (1000, 2, 2)\n",
      "[((1, 14), (9, 23)), ((1, 15), (7, 16)), ((3, 17), (8, 43)), ((3, 22), (9, 27)), ((0, 26), (3, 26))]\n",
      "((0, 19), (7, 26))\n"
     ]
    }
   ],
   "source": [
    "indexed_audio_same_diff = build_sample_indices(NUM_SAMPLES, UTTERANCES_PER_SPEAKER)"
   ]
  },
  {
   "cell_type": "code",
   "execution_count": 89,
   "metadata": {},
   "outputs": [
    {
     "name": "stdout",
     "output_type": "stream",
     "text": [
      "(24, 2000, 2048)\n",
      "(2000, 2048)\n",
      "NUM_SAMPLES (2000) == num elements in each X matrix ? True\n",
      "2000\n",
      "<class 'numpy.ndarray'>\n",
      "[3.4801292e-01 1.7270350e+00 3.0420547e+00 ... 2.0204884e+02 9.7382488e+00\n",
      " 1.4272496e+03]\n",
      "(2048,)\n",
      "len(y):2000\n"
     ]
    }
   ],
   "source": [
    "# Build training X\n",
    "X_all_layers = build_X(indexed_audio_same_diff, training_embeddings, NUM_SAMPLES, NUM_LAYERS)\n",
    "y = np.repeat([1,0], int(NUM_SAMPLES/2)) \n",
    "\n",
    "print(f\"len(y): {len(y)}\")"
   ]
  },
  {
   "attachments": {},
   "cell_type": "markdown",
   "metadata": {},
   "source": [
    "### Build X test set from EVALUATION embeddings\n",
    "- X matrix of computed {u,v} vectors\n",
    "- y vector of labels {1,0} for {same,different} is the same as for training set"
   ]
  },
  {
   "cell_type": "code",
   "execution_count": 86,
   "metadata": {},
   "outputs": [
    {
     "name": "stdout",
     "output_type": "stream",
     "text": [
      "(24, 2000, 2048)\n",
      "(2000, 2048)\n",
      "NUM_SAMPLES (2000) == num elements in each X matrix ? True\n",
      "2000\n",
      "<class 'numpy.ndarray'>\n",
      "[   5.236721     3.0003624    6.4331274 ...  184.84256     14.38203\n",
      " 1428.4341   ]\n",
      "(2048,)\n"
     ]
    }
   ],
   "source": [
    "# Build evaluation X\n",
    "X_test = build_X(indexed_audio_same_diff, eval_embeddings, NUM_SAMPLES, NUM_LAYERS)"
   ]
  },
  {
   "cell_type": "code",
   "execution_count": 90,
   "metadata": {},
   "outputs": [
    {
     "name": "stderr",
     "output_type": "stream",
     "text": [
      "/Library/Frameworks/Python.framework/Versions/3.11/lib/python3.11/site-packages/sklearn/linear_model/_logistic.py:458: ConvergenceWarning: lbfgs failed to converge (status=1):\n",
      "STOP: TOTAL NO. of ITERATIONS REACHED LIMIT.\n",
      "\n",
      "Increase the number of iterations (max_iter) or scale the data as shown in:\n",
      "    https://scikit-learn.org/stable/modules/preprocessing.html\n",
      "Please also refer to the documentation for alternative solver options:\n",
      "    https://scikit-learn.org/stable/modules/linear_model.html#logistic-regression\n",
      "  n_iter_i = _check_optimize_result(\n"
     ]
    },
    {
     "name": "stdout",
     "output_type": "stream",
     "text": [
      "0.9955\n",
      "clf.score layer 1: 0.588\n",
      "0.991\n",
      "clf.score layer 2: 0.69\n",
      "0.9925\n",
      "clf.score layer 3: 0.636\n",
      "0.9955\n",
      "clf.score layer 4: 0.6265\n",
      "0.995\n",
      "clf.score layer 5: 0.697\n",
      "0.9955\n",
      "clf.score layer 6: 0.7385\n",
      "0.995\n",
      "clf.score layer 7: 0.734\n",
      "0.994\n",
      "clf.score layer 8: 0.7575\n",
      "0.9935\n",
      "clf.score layer 9: 0.72\n",
      "0.9925\n",
      "clf.score layer 10: 0.684\n",
      "0.9925\n",
      "clf.score layer 11: 0.7185\n",
      "0.993\n",
      "clf.score layer 12: 0.659\n",
      "0.9955\n",
      "clf.score layer 13: 0.6765\n",
      "0.9955\n",
      "clf.score layer 14: 0.6735\n",
      "0.995\n",
      "clf.score layer 15: 0.6905\n",
      "0.9955\n",
      "clf.score layer 16: 0.614\n",
      "0.9955\n",
      "clf.score layer 17: 0.614\n",
      "0.9955\n",
      "clf.score layer 18: 0.619\n",
      "0.9955\n",
      "clf.score layer 19: 0.7415\n",
      "0.9955\n",
      "clf.score layer 20: 0.669\n",
      "0.9955\n",
      "clf.score layer 21: 0.6465\n"
     ]
    },
    {
     "name": "stderr",
     "output_type": "stream",
     "text": [
      "/Library/Frameworks/Python.framework/Versions/3.11/lib/python3.11/site-packages/sklearn/linear_model/_logistic.py:458: ConvergenceWarning: lbfgs failed to converge (status=1):\n",
      "STOP: TOTAL NO. of ITERATIONS REACHED LIMIT.\n",
      "\n",
      "Increase the number of iterations (max_iter) or scale the data as shown in:\n",
      "    https://scikit-learn.org/stable/modules/preprocessing.html\n",
      "Please also refer to the documentation for alternative solver options:\n",
      "    https://scikit-learn.org/stable/modules/linear_model.html#logistic-regression\n",
      "  n_iter_i = _check_optimize_result(\n"
     ]
    },
    {
     "name": "stdout",
     "output_type": "stream",
     "text": [
      "0.9955\n",
      "clf.score layer 22: 0.669\n"
     ]
    },
    {
     "name": "stderr",
     "output_type": "stream",
     "text": [
      "/Library/Frameworks/Python.framework/Versions/3.11/lib/python3.11/site-packages/sklearn/linear_model/_logistic.py:458: ConvergenceWarning: lbfgs failed to converge (status=1):\n",
      "STOP: TOTAL NO. of ITERATIONS REACHED LIMIT.\n",
      "\n",
      "Increase the number of iterations (max_iter) or scale the data as shown in:\n",
      "    https://scikit-learn.org/stable/modules/preprocessing.html\n",
      "Please also refer to the documentation for alternative solver options:\n",
      "    https://scikit-learn.org/stable/modules/linear_model.html#logistic-regression\n",
      "  n_iter_i = _check_optimize_result(\n"
     ]
    },
    {
     "name": "stdout",
     "output_type": "stream",
     "text": [
      "0.995\n",
      "clf.score layer 23: 0.649\n",
      "0.957\n",
      "clf.score layer 24: 0.562\n"
     ]
    },
    {
     "name": "stderr",
     "output_type": "stream",
     "text": [
      "/Library/Frameworks/Python.framework/Versions/3.11/lib/python3.11/site-packages/sklearn/linear_model/_logistic.py:458: ConvergenceWarning: lbfgs failed to converge (status=1):\n",
      "STOP: TOTAL NO. of ITERATIONS REACHED LIMIT.\n",
      "\n",
      "Increase the number of iterations (max_iter) or scale the data as shown in:\n",
      "    https://scikit-learn.org/stable/modules/preprocessing.html\n",
      "Please also refer to the documentation for alternative solver options:\n",
      "    https://scikit-learn.org/stable/modules/linear_model.html#logistic-regression\n",
      "  n_iter_i = _check_optimize_result(\n"
     ]
    }
   ],
   "source": [
    "\n",
    "\"\"\"\n",
    "from sklearn.linear_model import LogisticRegression\n",
    "# X, y = \n",
    "clf = LogisticRegression(random_state=0).fit(X, y)\n",
    "clf.predict(X[:2, :])\n",
    "clf.predict_proba(X[:2, :])\n",
    "clf.score(X, y)\n",
    "\"\"\"\n",
    "\n",
    "\"\"\"\n",
    "tips to address convergence warning:\n",
    "- try different solvers: https://scikit-learn.org/stable/modules/linear_model.html#solvers (default is lbfgs)\n",
    "\n",
    "\"\"\"\n",
    "\n",
    "layer_accuracy = []\n",
    "\n",
    "# Q: max_iter? A: solved by using a different optimization algorithm\n",
    "# clf = LogisticRegression(solver=\"liblinear\",random_state=0, max_iter=10000).fit(X, y)\n",
    "# print(\"clf.score(X, y):\", clf.score(X, y))\n",
    "\n",
    "# print(clf.predict(X[0:5]))\n",
    "# print(clf.predict(X[900:905]))\n",
    "# print(clf.predict_proba(X[900:905]))\n",
    "\n",
    "for i, X in enumerate(X_all_layers):\n",
    "    # train linear classifier. Fit the model according to the given *training* data.\n",
    "    clf = LogisticRegression(solver=\"lbfgs\",random_state=0, max_iter=10000).fit(X, y)\n",
    "    print(clf.score(X, y))\n",
    "\n",
    "    # Return the mean accuracy on the given *test* data and labels.\n",
    "    score = clf.score(X_test[i], y)\n",
    "    layer_accuracy.append(score)\n",
    "    print(f\"clf.score layer {i+1}:\", score)\n",
    "    \n"
   ]
  },
  {
   "cell_type": "code",
   "execution_count": 40,
   "metadata": {},
   "outputs": [
    {
     "data": {
      "text/plain": [
       "0.844"
      ]
     },
     "execution_count": 40,
     "metadata": {},
     "output_type": "execute_result"
    }
   ],
   "source": [
    "max(layer_accuracy) # layer 4, when num_samples = 1000"
   ]
  },
  {
   "cell_type": "code",
   "execution_count": null,
   "metadata": {},
   "outputs": [],
   "source": [
    "# Try reducing iterations --> all convergence warnings\n",
    "\n",
    "layer_accuracy_5 = []\n",
    "\n",
    "for i, X in enumerate(X_all_layers):\n",
    "    # train linear classifier. Fit the model according to the given *training* data.\n",
    "    clf = LogisticRegression(solver=\"lbfgs\",random_state=0, max_iter=100).fit(X, y)\n",
    "    print(clf.score(X, y))\n",
    "\n",
    "    # Return the mean accuracy on the given *test* data and labels.\n",
    "    score = clf.score(X_test[i], y)\n",
    "    layer_accuracy_5.append(score)"
   ]
  },
  {
   "cell_type": "code",
   "execution_count": 99,
   "metadata": {},
   "outputs": [
    {
     "name": "stdout",
     "output_type": "stream",
     "text": [
      "Layer accuracy using LogisticRegression liblinear:\n",
      "0.9955\n",
      "clf.score layer 1: 0.585\n",
      "0.991\n",
      "clf.score layer 2: 0.688\n",
      "0.9925\n",
      "clf.score layer 3: 0.6365\n",
      "0.9955\n",
      "clf.score layer 4: 0.626\n",
      "0.995\n",
      "clf.score layer 5: 0.697\n",
      "0.9955\n",
      "clf.score layer 6: 0.74\n",
      "0.995\n",
      "clf.score layer 7: 0.732\n",
      "0.994\n",
      "clf.score layer 8: 0.7595\n",
      "0.9935\n",
      "clf.score layer 9: 0.7205\n",
      "0.9935\n",
      "clf.score layer 10: 0.6855\n",
      "0.9925\n",
      "clf.score layer 11: 0.7185\n",
      "0.993\n",
      "clf.score layer 12: 0.6615\n",
      "0.995\n",
      "clf.score layer 13: 0.6775\n",
      "0.9955\n",
      "clf.score layer 14: 0.6755\n",
      "0.995\n",
      "clf.score layer 15: 0.693\n",
      "0.9955\n",
      "clf.score layer 16: 0.614\n",
      "0.9955\n",
      "clf.score layer 17: 0.6155\n",
      "0.9955\n",
      "clf.score layer 18: 0.614\n",
      "0.9955\n",
      "clf.score layer 19: 0.7395\n",
      "0.9955\n",
      "clf.score layer 20: 0.6705\n",
      "0.9955\n",
      "clf.score layer 21: 0.6475\n",
      "0.9955\n",
      "clf.score layer 22: 0.6805\n",
      "0.9955\n",
      "clf.score layer 23: 0.629\n",
      "0.9955\n",
      "clf.score layer 24: 0.5455\n"
     ]
    }
   ],
   "source": [
    "layer_accuracy_3 = []\n",
    "\n",
    "print(f\"Layer accuracy using LogisticRegression liblinear:\")\n",
    "for i, X in enumerate(X_all_layers):\n",
    "    # train linear classifier. Fit the model according to the given *training* data.\n",
    "    clf = LogisticRegression(solver=\"liblinear\",random_state=0, max_iter=10000).fit(X, y)\n",
    "    print(clf.score(X, y))\n",
    "\n",
    "    # Return the mean accuracy on the given *test* data and labels.\n",
    "    score = clf.score(X_test[i], y)\n",
    "    layer_accuracy_3.append(score)\n",
    "    print(f\"clf.score layer {i+1}:\", score)"
   ]
  },
  {
   "cell_type": "code",
   "execution_count": 100,
   "metadata": {},
   "outputs": [
    {
     "name": "stdout",
     "output_type": "stream",
     "text": [
      "0.5\n",
      "clf.score layer 1: 0.5\n",
      "0.9\n",
      "clf.score layer 2: 0.787\n",
      "0.7855\n",
      "clf.score layer 3: 0.5925\n",
      "0.928\n",
      "clf.score layer 4: 0.8765\n",
      "0.9125\n",
      "clf.score layer 5: 0.8545\n",
      "0.901\n",
      "clf.score layer 6: 0.7885\n",
      "0.861\n",
      "clf.score layer 7: 0.742\n",
      "0.832\n",
      "clf.score layer 8: 0.742\n",
      "0.8175\n",
      "clf.score layer 9: 0.7145\n",
      "0.8\n",
      "clf.score layer 10: 0.6995\n",
      "0.7865\n",
      "clf.score layer 11: 0.7\n",
      "0.502\n",
      "clf.score layer 12: 0.5055\n",
      "0.7435\n",
      "clf.score layer 13: 0.6835\n",
      "0.5\n",
      "clf.score layer 14: 0.5\n",
      "0.763\n",
      "clf.score layer 15: 0.661\n",
      "0.5\n",
      "clf.score layer 16: 0.5\n",
      "0.5\n",
      "clf.score layer 17: 0.5\n",
      "0.561\n",
      "clf.score layer 18: 0.5155\n",
      "0.8115\n",
      "clf.score layer 19: 0.718\n",
      "0.6815\n",
      "clf.score layer 20: 0.5715\n",
      "0.511\n",
      "clf.score layer 21: 0.512\n",
      "0.5\n",
      "clf.score layer 22: 0.5\n",
      "0.5\n",
      "clf.score layer 23: 0.5\n",
      "0.5\n",
      "clf.score layer 24: 0.5\n"
     ]
    }
   ],
   "source": [
    "\n",
    "layer_accuracy_2 = []\n",
    "\n",
    "\n",
    "for i, X in enumerate(X_all_layers):\n",
    "    # train linear classifier. Fit the model according to the given *training* data.\n",
    "\n",
    "    # clf = MLPClassifier(random_state=1, max_iter=300).fit(X, y)\n",
    "    clf = SGDClassifier(loss=\"squared_hinge\", penalty=\"l2\", random_state=0).fit(X,y) \n",
    "    # clf = LogisticRegression(random_state=0, max_iter=10000).fit(X, y)\n",
    "    print(clf.score(X, y))\n",
    "\n",
    "    # Return the mean accuracy on the given *test* data and labels.\n",
    "    score = clf.score(X_test[i], y)\n",
    "    layer_accuracy_2.append(score)\n",
    "    print(f\"clf.score layer {i+1}:\", score)"
   ]
  },
  {
   "cell_type": "code",
   "execution_count": 98,
   "metadata": {},
   "outputs": [
    {
     "data": {
      "text/plain": [
       "0.855"
      ]
     },
     "execution_count": 98,
     "metadata": {},
     "output_type": "execute_result"
    }
   ],
   "source": [
    "max(layer_accuracy_2) # layer 2"
   ]
  },
  {
   "cell_type": "code",
   "execution_count": 101,
   "metadata": {},
   "outputs": [
    {
     "name": "stdout",
     "output_type": "stream",
     "text": [
      "0.5\n",
      "clf.score layer 1: 0.5\n",
      "0.962\n",
      "clf.score layer 2: 0.8325\n",
      "0.995\n",
      "clf.score layer 3: 0.7515\n",
      "0.9525\n",
      "clf.score layer 4: 0.676\n",
      "0.995\n",
      "clf.score layer 5: 0.778\n",
      "0.9825\n",
      "clf.score layer 6: 0.776\n",
      "0.9805\n",
      "clf.score layer 7: 0.862\n",
      "0.9835\n",
      "clf.score layer 8: 0.7645\n",
      "0.965\n",
      "clf.score layer 9: 0.745\n",
      "0.8915\n",
      "clf.score layer 10: 0.619\n",
      "0.94\n",
      "clf.score layer 11: 0.8255\n",
      "0.8885\n",
      "clf.score layer 12: 0.802\n",
      "0.9095\n",
      "clf.score layer 13: 0.7955\n",
      "0.932\n",
      "clf.score layer 14: 0.73\n",
      "0.931\n",
      "clf.score layer 15: 0.7145\n",
      "0.904\n",
      "clf.score layer 16: 0.7805\n",
      "0.948\n",
      "clf.score layer 17: 0.7995\n",
      "0.93\n",
      "clf.score layer 18: 0.593\n",
      "0.883\n",
      "clf.score layer 19: 0.864\n",
      "0.9435\n",
      "clf.score layer 20: 0.8675\n",
      "0.9205\n",
      "clf.score layer 21: 0.721\n",
      "0.9415\n",
      "clf.score layer 22: 0.858\n",
      "0.5\n",
      "clf.score layer 23: 0.5\n",
      "0.54\n",
      "clf.score layer 24: 0.496\n"
     ]
    }
   ],
   "source": [
    "layer_accuracy_4 = []\n",
    "\n",
    "for i, X in enumerate(X_all_layers):\n",
    "    # train linear classifier. Fit the model according to the given *training* data.\n",
    "\n",
    "    clf = MLPClassifier(random_state=1, max_iter=300).fit(X, y)\n",
    "    print(clf.score(X, y))\n",
    "\n",
    "    # Return the mean accuracy on the given *test* data and labels.\n",
    "    score = clf.score(X_test[i], y)\n",
    "    layer_accuracy_4.append(score)\n",
    "    print(f\"clf.score layer {i+1}:\", score)"
   ]
  },
  {
   "cell_type": "code",
   "execution_count": 104,
   "metadata": {},
   "outputs": [
    {
     "name": "stdout",
     "output_type": "stream",
     "text": [
      "(24, 2000, 2048)\n",
      "(2000, 2048)\n",
      "NUM_SAMPLES (2000) == num elements in each X matrix ? True\n",
      "2000\n",
      "<class 'numpy.ndarray'>\n",
      "[ 21.701027   -4.839901   -1.4761006 ... -16.792784    5.7009068\n",
      "  36.963272 ]\n",
      "(2048,)\n",
      "(24, 2000, 2048)\n",
      "(2000, 2048)\n",
      "NUM_SAMPLES (2000) == num elements in each X matrix ? True\n",
      "2000\n",
      "<class 'numpy.ndarray'>\n",
      "[ 18.729002   -1.5524691   5.3402205 ... -12.456214    1.8552047\n",
      "  40.80391  ]\n",
      "(2048,)\n"
     ]
    }
   ],
   "source": [
    "X_all_layers = build_X_new(indexed_audio_same_diff, training_embeddings, NUM_SAMPLES, NUM_LAYERS)\n",
    "X_test = build_X_new(indexed_audio_same_diff, eval_embeddings, NUM_SAMPLES, NUM_LAYERS)"
   ]
  },
  {
   "cell_type": "code",
   "execution_count": 105,
   "metadata": {},
   "outputs": [
    {
     "name": "stdout",
     "output_type": "stream",
     "text": [
      "0.9955\n",
      "clf.score layer 1: 0.5235\n",
      "0.9555\n",
      "clf.score layer 2: 0.5105\n",
      "0.971\n",
      "clf.score layer 3: 0.5155\n",
      "0.9765\n",
      "clf.score layer 4: 0.529\n",
      "0.9845\n",
      "clf.score layer 5: 0.521\n",
      "0.9895\n",
      "clf.score layer 6: 0.511\n",
      "0.985\n",
      "clf.score layer 7: 0.4975\n",
      "0.981\n",
      "clf.score layer 8: 0.482\n",
      "0.9825\n",
      "clf.score layer 9: 0.5175\n",
      "0.9795\n",
      "clf.score layer 10: 0.5265\n",
      "0.975\n",
      "clf.score layer 11: 0.5315\n",
      "0.9805\n",
      "clf.score layer 12: 0.541\n",
      "0.987\n",
      "clf.score layer 13: 0.538\n",
      "0.9845\n",
      "clf.score layer 14: 0.5375\n",
      "0.989\n",
      "clf.score layer 15: 0.537\n",
      "0.989\n",
      "clf.score layer 16: 0.548\n",
      "0.9885\n",
      "clf.score layer 17: 0.557\n",
      "0.9875\n",
      "clf.score layer 18: 0.553\n",
      "0.9925\n",
      "clf.score layer 19: 0.5475\n",
      "0.9935\n",
      "clf.score layer 20: 0.5675\n",
      "0.994\n",
      "clf.score layer 21: 0.55\n",
      "0.995\n",
      "clf.score layer 22: 0.555\n",
      "0.995\n",
      "clf.score layer 23: 0.558\n",
      "0.9955\n",
      "clf.score layer 24: 0.5175\n"
     ]
    }
   ],
   "source": [
    "layer_accuracy_6 = []\n",
    "\n",
    "for i, X in enumerate(X_all_layers):\n",
    "    # train linear classifier. Fit the model according to the given *training* data.\n",
    "\n",
    "    # clf = MLPClassifier(random_state=1, max_iter=300).fit(X, y)\n",
    "    # clf = SGDClassifier(loss=\"squared_hinge\", penalty=\"l2\", random_state=0).fit(X,y) \n",
    "    clf = LogisticRegression(random_state=0, max_iter=10000).fit(X, y)\n",
    "    print(clf.score(X, y))\n",
    "\n",
    "    # Return the mean accuracy on the given *test* data and labels.\n",
    "    score = clf.score(X_test[i], y)\n",
    "    layer_accuracy_6.append(score)\n",
    "    print(f\"clf.score layer {i+1}:\", score)"
   ]
  },
  {
   "cell_type": "code",
   "execution_count": 106,
   "metadata": {},
   "outputs": [
    {
     "name": "stdout",
     "output_type": "stream",
     "text": [
      "0.5345\n",
      "clf.score layer 1: 0.499\n",
      "0.9485\n",
      "clf.score layer 2: 0.6395\n",
      "0.9415\n",
      "clf.score layer 3: 0.597\n",
      "0.9565\n",
      "clf.score layer 4: 0.568\n",
      "0.9575\n",
      "clf.score layer 5: 0.563\n",
      "0.991\n",
      "clf.score layer 6: 0.5075\n",
      "0.9885\n",
      "clf.score layer 7: 0.583\n",
      "0.9545\n",
      "clf.score layer 8: 0.491\n",
      "0.981\n",
      "clf.score layer 9: 0.552\n",
      "0.949\n",
      "clf.score layer 10: 0.561\n",
      "0.9635\n",
      "clf.score layer 11: 0.575\n",
      "0.978\n",
      "clf.score layer 12: 0.5755\n",
      "0.8145\n",
      "clf.score layer 13: 0.5055\n",
      "0.9815\n",
      "clf.score layer 14: 0.562\n",
      "0.963\n",
      "clf.score layer 15: 0.52\n",
      "0.977\n",
      "clf.score layer 16: 0.553\n",
      "0.984\n",
      "clf.score layer 17: 0.5825\n",
      "0.975\n",
      "clf.score layer 18: 0.5795\n",
      "0.9985\n",
      "clf.score layer 19: 0.5985\n",
      "0.9845\n",
      "clf.score layer 20: 0.481\n",
      "0.951\n",
      "clf.score layer 21: 0.4795\n",
      "0.9535\n",
      "clf.score layer 22: 0.58\n",
      "0.5035\n",
      "clf.score layer 23: 0.501\n",
      "0.5\n",
      "clf.score layer 24: 0.5\n"
     ]
    }
   ],
   "source": [
    "layer_accuracy_6 = []\n",
    "\n",
    "for i, X in enumerate(X_all_layers):\n",
    "    # train linear classifier. Fit the model according to the given *training* data.\n",
    "\n",
    "    clf = MLPClassifier(random_state=1, max_iter=300).fit(X, y)\n",
    "    # clf = SGDClassifier(loss=\"squared_hinge\", penalty=\"l2\", random_state=0).fit(X,y) \n",
    "    # clf = LogisticRegression(random_state=0, max_iter=10000).fit(X, y)\n",
    "    print(clf.score(X, y))\n",
    "\n",
    "    # Return the mean accuracy on the given *test* data and labels.\n",
    "    score = clf.score(X_test[i], y)\n",
    "    layer_accuracy_6.append(score)\n",
    "    print(f\"clf.score layer {i+1}:\", score)"
   ]
  },
  {
   "cell_type": "code",
   "execution_count": 108,
   "metadata": {},
   "outputs": [
    {
     "name": "stdout",
     "output_type": "stream",
     "text": [
      "(24, 2000, 4096)\n",
      "(2000, 4096)\n",
      "NUM_SAMPLES (2000) == num elements in each X matrix ? True\n",
      "2000\n",
      "<class 'numpy.ndarray'>\n",
      "[  21.701027    -4.839901    -1.4761006 ...  202.04884      9.738249\n",
      " 1427.2496   ]\n",
      "(4096,)\n",
      "(24, 2000, 4096)\n",
      "(2000, 4096)\n",
      "NUM_SAMPLES (2000) == num elements in each X matrix ? True\n",
      "2000\n",
      "<class 'numpy.ndarray'>\n",
      "[  18.729002    -1.5524691    5.3402205 ...  184.84256     14.38203\n",
      " 1428.4341   ]\n",
      "(4096,)\n"
     ]
    }
   ],
   "source": [
    "X_all_layers = build_X_concat(indexed_audio_same_diff, training_embeddings, NUM_SAMPLES, NUM_LAYERS)\n",
    "X_test = build_X_concat(indexed_audio_same_diff, eval_embeddings, NUM_SAMPLES, NUM_LAYERS)"
   ]
  },
  {
   "cell_type": "code",
   "execution_count": 109,
   "metadata": {},
   "outputs": [],
   "source": [
    "layer_accuracy_6 = []\n",
    "\n",
    "for i, X in enumerate(X_all_layers):\n",
    "    # train linear classifier. Fit the model according to the given *training* data.\n",
    "\n",
    "    # clf = MLPClassifier(random_state=1, max_iter=300).fit(X, y)\n",
    "    # clf = SGDClassifier(loss=\"squared_hinge\", penalty=\"l2\", random_state=0).fit(X,y) \n",
    "    clf = LogisticRegression(solver=\"liblinear\", random_state=0, max_iter=10000).fit(X, y)\n",
    "    print(clf.score(X, y))\n",
    "\n",
    "    # Return the mean accuracy on the given *test* data and labels.\n",
    "    score = clf.score(X_test[i], y)\n",
    "    layer_accuracy_6.append(score)\n",
    "    print(f\"clf.score layer {i+1}:\", score)"
   ]
  },
  {
   "cell_type": "code",
   "execution_count": null,
   "metadata": {},
   "outputs": [],
   "source": [
    "layer_accuracy_6 = []\n",
    "\n",
    "for i, X in enumerate(X_all_layers):\n",
    "    # train linear classifier. Fit the model according to the given *training* data.\n",
    "\n",
    "    clf = MLPClassifier(random_state=1, max_iter=300).fit(X, y)\n",
    "    # clf = SGDClassifier(loss=\"squared_hinge\", penalty=\"l2\", random_state=0).fit(X,y) \n",
    "    # clf = LogisticRegression(random_state=0, max_iter=10000).fit(X, y)\n",
    "    print(clf.score(X, y))\n",
    "\n",
    "    # Return the mean accuracy on the given *test* data and labels.\n",
    "    score = clf.score(X_test[i], y)\n",
    "    layer_accuracy_6.append(score)\n",
    "    print(f\"clf.score layer {i+1}:\", score)"
   ]
  },
  {
   "attachments": {},
   "cell_type": "markdown",
   "metadata": {},
   "source": [
    "## Extra"
   ]
  },
  {
   "cell_type": "code",
   "execution_count": 93,
   "metadata": {},
   "outputs": [
    {
     "name": "stdout",
     "output_type": "stream",
     "text": [
      "[1 1 1 ... 0 1 1]\n",
      "0.6615\n"
     ]
    }
   ],
   "source": [
    "clf = LogisticRegression(solver=\"liblinear\",random_state=0, max_iter=10000).fit(X_all_layers[12-1], y)\n",
    "layer_predictions = clf.predict(X_test[12-1])\n",
    "print(layer_predictions)\n",
    "print(clf.score(X_test[12-1], y))"
   ]
  },
  {
   "cell_type": "code",
   "execution_count": 94,
   "metadata": {},
   "outputs": [
    {
     "name": "stdout",
     "output_type": "stream",
     "text": [
      "(2000, 2, 2)\n",
      "(2000, 2) [(0, 0), (0, 0), (0, 0), (0, 0), (0, 0), (0, 0), (0, 0), (0, 0), (0, 0), (0, 0), (0, 0), (0, 0), (0, 0), (0, 0), (0, 0), (0, 0), (0, 0), (0, 0), (0, 0), (0, 0), (0, 0), (0, 0), (0, 0), (0, 0), (0, 0), (0, 0), (0, 0), (0, 0), (0, 0), (0, 0), (0, 0), (0, 0), (0, 0), (0, 0), (0, 0), (0, 0), (0, 0), (0, 0), (0, 0), (0, 0), (0, 0), (0, 0), (0, 0), (0, 0), (0, 0), (0, 0), (0, 0), (0, 0), (0, 0), (0, 0), (0, 0), (0, 0), (0, 0), (0, 0), (0, 0), (0, 0), (0, 0), (0, 0), (0, 0), (0, 0), (0, 0), (0, 0), (0, 0), (0, 0), (0, 0), (0, 0), (0, 0), (0, 0), (0, 0), (0, 0), (0, 0), (0, 0), (0, 0), (0, 0), (0, 0), (0, 0), (0, 0), (0, 0), (0, 0), (0, 0), (0, 0), (0, 0), (0, 0), (0, 0), (0, 0), (0, 0), (0, 0), (0, 0), (0, 0), (0, 0), (0, 0), (0, 0), (0, 0), (0, 0), (0, 0), (0, 0), (0, 0), (0, 0), (0, 0), (0, 0), (1, 1), (1, 1), (1, 1), (1, 1), (1, 1), (1, 1), (1, 1), (1, 1), (1, 1), (1, 1), (1, 1), (1, 1), (1, 1), (1, 1), (1, 1), (1, 1), (1, 1), (1, 1), (1, 1), (1, 1), (1, 1), (1, 1), (1, 1), (1, 1), (1, 1), (1, 1), (1, 1), (1, 1), (1, 1), (1, 1), (1, 1), (1, 1), (1, 1), (1, 1), (1, 1), (1, 1), (1, 1), (1, 1), (1, 1), (1, 1), (1, 1), (1, 1), (1, 1), (1, 1), (1, 1), (1, 1), (1, 1), (1, 1), (1, 1), (1, 1), (1, 1), (1, 1), (1, 1), (1, 1), (1, 1), (1, 1), (1, 1), (1, 1), (1, 1), (1, 1), (1, 1), (1, 1), (1, 1), (1, 1), (1, 1), (1, 1), (1, 1), (1, 1), (1, 1), (1, 1), (1, 1), (1, 1), (1, 1), (1, 1), (1, 1), (1, 1), (1, 1), (1, 1), (1, 1), (1, 1), (1, 1), (1, 1), (1, 1), (1, 1), (1, 1), (1, 1), (1, 1), (1, 1), (1, 1), (1, 1), (1, 1), (1, 1), (1, 1), (1, 1), (1, 1), (1, 1), (1, 1), (1, 1), (1, 1), (1, 1), (2, 2), (2, 2), (2, 2), (2, 2), (2, 2), (2, 2), (2, 2), (2, 2), (2, 2), (2, 2), (2, 2), (2, 2), (2, 2), (2, 2), (2, 2), (2, 2), (2, 2), (2, 2), (2, 2), (2, 2), (2, 2), (2, 2), (2, 2), (2, 2), (2, 2), (2, 2), (2, 2), (2, 2), (2, 2), (2, 2), (2, 2), (2, 2), (2, 2), (2, 2), (2, 2), (2, 2), (2, 2), (2, 2), (2, 2), (2, 2), (2, 2), (2, 2), (2, 2), (2, 2), (2, 2), (2, 2), (2, 2), (2, 2), (2, 2), (2, 2), (2, 2), (2, 2), (2, 2), (2, 2), (2, 2), (2, 2), (2, 2), (2, 2), (2, 2), (2, 2), (2, 2), (2, 2), (2, 2), (2, 2), (2, 2), (2, 2), (2, 2), (2, 2), (2, 2), (2, 2), (2, 2), (2, 2), (2, 2), (2, 2), (2, 2), (2, 2), (2, 2), (2, 2), (2, 2), (2, 2), (2, 2), (2, 2), (2, 2), (2, 2), (2, 2), (2, 2), (2, 2), (2, 2), (2, 2), (2, 2), (2, 2), (2, 2), (2, 2), (2, 2), (2, 2), (2, 2), (2, 2), (2, 2), (2, 2), (2, 2), (3, 3), (3, 3), (3, 3), (3, 3), (3, 3), (3, 3), (3, 3), (3, 3), (3, 3), (3, 3), (3, 3), (3, 3), (3, 3), (3, 3), (3, 3), (3, 3), (3, 3), (3, 3), (3, 3), (3, 3), (3, 3), (3, 3), (3, 3), (3, 3), (3, 3), (3, 3), (3, 3), (3, 3), (3, 3), (3, 3), (3, 3), (3, 3), (3, 3), (3, 3), (3, 3), (3, 3), (3, 3), (3, 3), (3, 3), (3, 3), (3, 3), (3, 3), (3, 3), (3, 3), (3, 3), (3, 3), (3, 3), (3, 3), (3, 3), (3, 3), (3, 3), (3, 3), (3, 3), (3, 3), (3, 3), (3, 3), (3, 3), (3, 3), (3, 3), (3, 3), (3, 3), (3, 3), (3, 3), (3, 3), (3, 3), (3, 3), (3, 3), (3, 3), (3, 3), (3, 3), (3, 3), (3, 3), (3, 3), (3, 3), (3, 3), (3, 3), (3, 3), (3, 3), (3, 3), (3, 3), (3, 3), (3, 3), (3, 3), (3, 3), (3, 3), (3, 3), (3, 3), (3, 3), (3, 3), (3, 3), (3, 3), (3, 3), (3, 3), (3, 3), (3, 3), (3, 3), (3, 3), (3, 3), (3, 3), (3, 3), (4, 4), (4, 4), (4, 4), (4, 4), (4, 4), (4, 4), (4, 4), (4, 4), (4, 4), (4, 4), (4, 4), (4, 4), (4, 4), (4, 4), (4, 4), (4, 4), (4, 4), (4, 4), (4, 4), (4, 4), (4, 4), (4, 4), (4, 4), (4, 4), (4, 4), (4, 4), (4, 4), (4, 4), (4, 4), (4, 4), (4, 4), (4, 4), (4, 4), (4, 4), (4, 4), (4, 4), (4, 4), (4, 4), (4, 4), (4, 4), (4, 4), (4, 4), (4, 4), (4, 4), (4, 4), (4, 4), (4, 4), (4, 4), (4, 4), (4, 4), (4, 4), (4, 4), (4, 4), (4, 4), (4, 4), (4, 4), (4, 4), (4, 4), (4, 4), (4, 4), (4, 4), (4, 4), (4, 4), (4, 4), (4, 4), (4, 4), (4, 4), (4, 4), (4, 4), (4, 4), (4, 4), (4, 4), (4, 4), (4, 4), (4, 4), (4, 4), (4, 4), (4, 4), (4, 4), (4, 4), (4, 4), (4, 4), (4, 4), (4, 4), (4, 4), (4, 4), (4, 4), (4, 4), (4, 4), (4, 4), (4, 4), (4, 4), (4, 4), (4, 4), (4, 4), (4, 4), (4, 4), (4, 4), (4, 4), (4, 4), (5, 5), (5, 5), (5, 5), (5, 5), (5, 5), (5, 5), (5, 5), (5, 5), (5, 5), (5, 5), (5, 5), (5, 5), (5, 5), (5, 5), (5, 5), (5, 5), (5, 5), (5, 5), (5, 5), (5, 5), (5, 5), (5, 5), (5, 5), (5, 5), (5, 5), (5, 5), (5, 5), (5, 5), (5, 5), (5, 5), (5, 5), (5, 5), (5, 5), (5, 5), (5, 5), (5, 5), (5, 5), (5, 5), (5, 5), (5, 5), (5, 5), (5, 5), (5, 5), (5, 5), (5, 5), (5, 5), (5, 5), (5, 5), (5, 5), (5, 5), (5, 5), (5, 5), (5, 5), (5, 5), (5, 5), (5, 5), (5, 5), (5, 5), (5, 5), (5, 5), (5, 5), (5, 5), (5, 5), (5, 5), (5, 5), (5, 5), (5, 5), (5, 5), (5, 5), (5, 5), (5, 5), (5, 5), (5, 5), (5, 5), (5, 5), (5, 5), (5, 5), (5, 5), (5, 5), (5, 5), (5, 5), (5, 5), (5, 5), (5, 5), (5, 5), (5, 5), (5, 5), (5, 5), (5, 5), (5, 5), (5, 5), (5, 5), (5, 5), (5, 5), (5, 5), (5, 5), (5, 5), (5, 5), (5, 5), (5, 5), (6, 6), (6, 6), (6, 6), (6, 6), (6, 6), (6, 6), (6, 6), (6, 6), (6, 6), (6, 6), (6, 6), (6, 6), (6, 6), (6, 6), (6, 6), (6, 6), (6, 6), (6, 6), (6, 6), (6, 6), (6, 6), (6, 6), (6, 6), (6, 6), (6, 6), (6, 6), (6, 6), (6, 6), (6, 6), (6, 6), (6, 6), (6, 6), (6, 6), (6, 6), (6, 6), (6, 6), (6, 6), (6, 6), (6, 6), (6, 6), (6, 6), (6, 6), (6, 6), (6, 6), (6, 6), (6, 6), (6, 6), (6, 6), (6, 6), (6, 6), (6, 6), (6, 6), (6, 6), (6, 6), (6, 6), (6, 6), (6, 6), (6, 6), (6, 6), (6, 6), (6, 6), (6, 6), (6, 6), (6, 6), (6, 6), (6, 6), (6, 6), (6, 6), (6, 6), (6, 6), (6, 6), (6, 6), (6, 6), (6, 6), (6, 6), (6, 6), (6, 6), (6, 6), (6, 6), (6, 6), (6, 6), (6, 6), (6, 6), (6, 6), (6, 6), (6, 6), (6, 6), (6, 6), (6, 6), (6, 6), (6, 6), (6, 6), (6, 6), (6, 6), (6, 6), (6, 6), (6, 6), (6, 6), (6, 6), (6, 6), (7, 7), (7, 7), (7, 7), (7, 7), (7, 7), (7, 7), (7, 7), (7, 7), (7, 7), (7, 7), (7, 7), (7, 7), (7, 7), (7, 7), (7, 7), (7, 7), (7, 7), (7, 7), (7, 7), (7, 7), (7, 7), (7, 7), (7, 7), (7, 7), (7, 7), (7, 7), (7, 7), (7, 7), (7, 7), (7, 7), (7, 7), (7, 7), (7, 7), (7, 7), (7, 7), (7, 7), (7, 7), (7, 7), (7, 7), (7, 7), (7, 7), (7, 7), (7, 7), (7, 7), (7, 7), (7, 7), (7, 7), (7, 7), (7, 7), (7, 7), (7, 7), (7, 7), (7, 7), (7, 7), (7, 7), (7, 7), (7, 7), (7, 7), (7, 7), (7, 7), (7, 7), (7, 7), (7, 7), (7, 7), (7, 7), (7, 7), (7, 7), (7, 7), (7, 7), (7, 7), (7, 7), (7, 7), (7, 7), (7, 7), (7, 7), (7, 7), (7, 7), (7, 7), (7, 7), (7, 7), (7, 7), (7, 7), (7, 7), (7, 7), (7, 7), (7, 7), (7, 7), (7, 7), (7, 7), (7, 7), (7, 7), (7, 7), (7, 7), (7, 7), (7, 7), (7, 7), (7, 7), (7, 7), (7, 7), (7, 7), (8, 8), (8, 8), (8, 8), (8, 8), (8, 8), (8, 8), (8, 8), (8, 8), (8, 8), (8, 8), (8, 8), (8, 8), (8, 8), (8, 8), (8, 8), (8, 8), (8, 8), (8, 8), (8, 8), (8, 8), (8, 8), (8, 8), (8, 8), (8, 8), (8, 8), (8, 8), (8, 8), (8, 8), (8, 8), (8, 8), (8, 8), (8, 8), (8, 8), (8, 8), (8, 8), (8, 8), (8, 8), (8, 8), (8, 8), (8, 8), (8, 8), (8, 8), (8, 8), (8, 8), (8, 8), (8, 8), (8, 8), (8, 8), (8, 8), (8, 8), (8, 8), (8, 8), (8, 8), (8, 8), (8, 8), (8, 8), (8, 8), (8, 8), (8, 8), (8, 8), (8, 8), (8, 8), (8, 8), (8, 8), (8, 8), (8, 8), (8, 8), (8, 8), (8, 8), (8, 8), (8, 8), (8, 8), (8, 8), (8, 8), (8, 8), (8, 8), (8, 8), (8, 8), (8, 8), (8, 8), (8, 8), (8, 8), (8, 8), (8, 8), (8, 8), (8, 8), (8, 8), (8, 8), (8, 8), (8, 8), (8, 8), (8, 8), (8, 8), (8, 8), (8, 8), (8, 8), (8, 8), (8, 8), (8, 8), (8, 8), (9, 9), (9, 9), (9, 9), (9, 9), (9, 9), (9, 9), (9, 9), (9, 9), (9, 9), (9, 9), (9, 9), (9, 9), (9, 9), (9, 9), (9, 9), (9, 9), (9, 9), (9, 9), (9, 9), (9, 9), (9, 9), (9, 9), (9, 9), (9, 9), (9, 9), (9, 9), (9, 9), (9, 9), (9, 9), (9, 9), (9, 9), (9, 9), (9, 9), (9, 9), (9, 9), (9, 9), (9, 9), (9, 9), (9, 9), (9, 9), (9, 9), (9, 9), (9, 9), (9, 9), (9, 9), (9, 9), (9, 9), (9, 9), (9, 9), (9, 9), (9, 9), (9, 9), (9, 9), (9, 9), (9, 9), (9, 9), (9, 9), (9, 9), (9, 9), (9, 9), (9, 9), (9, 9), (9, 9), (9, 9), (9, 9), (9, 9), (9, 9), (9, 9), (9, 9), (9, 9), (9, 9), (9, 9), (9, 9), (9, 9), (9, 9), (9, 9), (9, 9), (9, 9), (9, 9), (9, 9), (9, 9), (9, 9), (9, 9), (9, 9), (9, 9), (9, 9), (9, 9), (9, 9), (9, 9), (9, 9), (9, 9), (9, 9), (9, 9), (9, 9), (9, 9), (9, 9), (9, 9), (9, 9), (9, 9), (9, 9), (1, 9), (1, 7), (3, 8), (3, 9), (0, 3), (1, 2), (0, 7), (8, 9), (0, 6), (4, 5), (3, 6), (2, 3), (4, 7), (2, 3), (0, 1), (5, 9), (1, 5), (3, 5), (5, 5), (0, 3), (1, 6), (4, 7), (2, 3), (3, 5), (6, 8), (2, 5), (6, 9), (3, 5), (2, 9), (0, 9), (2, 3), (2, 7), (0, 1), (1, 9), (4, 7), (0, 4), (2, 9), (2, 5), (8, 8), (1, 6), (1, 9), (1, 4), (0, 8), (8, 9), (0, 3), (1, 8), (3, 7), (0, 9), (0, 6), (4, 5), (4, 4), (1, 4), (3, 6), (1, 9), (5, 8), (2, 7), (3, 4), (6, 8), (5, 5), (6, 7), (1, 4), (1, 1), (1, 5), (0, 1), (2, 4), (0, 5), (2, 5), (4, 6), (1, 7), (1, 6), (6, 8), (6, 6), (7, 9), (1, 2), (3, 9), (1, 5), (0, 6), (1, 5), (2, 4), (5, 6), (3, 6), (2, 7), (2, 4), (0, 0), (5, 8), (2, 6), (8, 9), (0, 6), (1, 7), (3, 9), (5, 5), (7, 9), (2, 9), (2, 4), (1, 5), (3, 3), (5, 8), (4, 8), (2, 9), (4, 6), (6, 8), (7, 9), (1, 7), (2, 3), (5, 9), (6, 6), (2, 6), (4, 9), (0, 3), (3, 7), (4, 9), (5, 7), (0, 3), (0, 2), (0, 4), (1, 5), (4, 7), (7, 9), (0, 7), (1, 5), (2, 5), (0, 3), (0, 8), (4, 9), (0, 7), (1, 8), (1, 5), (3, 6), (0, 0), (5, 6), (0, 2), (0, 6), (2, 2), (2, 4), (1, 4), (4, 9), (0, 3), (0, 4), (3, 3), (9, 9), (3, 5), (4, 8), (3, 6), (2, 2), (0, 9), (7, 9), (7, 7), (3, 9), (3, 8), (3, 8), (4, 5), (3, 9), (0, 8), (0, 6), (6, 7), (1, 5), (0, 2), (2, 7), (3, 7), (1, 6), (7, 8), (2, 9), (4, 4), (1, 3), (4, 6), (0, 2), (3, 8), (0, 3), (2, 3), (0, 4), (1, 6), (3, 8), (3, 5), (2, 6), (7, 8), (2, 3), (1, 7), (4, 5), (3, 8), (1, 4), (1, 1), (4, 8), (0, 7), (3, 9), (1, 7), (8, 8), (6, 8), (4, 8), (7, 8), (1, 1), (6, 8), (2, 2), (1, 8), (5, 9), (6, 7), (3, 3), (0, 7), (2, 4), (0, 8), (3, 8), (4, 4), (5, 5), (3, 9), (4, 6), (5, 9), (3, 6), (0, 6), (0, 6), (4, 5), (1, 3), (1, 5), (3, 7), (1, 9), (6, 9), (0, 9), (0, 9), (5, 8), (0, 9), (1, 5), (2, 2), (2, 4), (3, 6), (1, 6), (0, 5), (4, 6), (0, 1), (1, 5), (7, 8), (1, 6), (3, 3), (7, 8), (1, 3), (2, 8), (0, 8), (0, 7), (3, 9), (5, 9), (3, 8), (3, 8), (3, 8), (2, 3), (1, 1), (1, 4), (3, 8), (0, 7), (0, 0), (0, 6), (2, 6), (3, 9), (2, 6), (8, 9), (3, 4), (1, 4), (1, 1), (0, 7), (2, 6), (9, 9), (3, 9), (1, 4), (0, 7), (2, 5), (2, 6), (0, 0), (3, 8), (1, 4), (1, 9), (3, 6), (4, 6), (3, 4), (5, 7), (4, 9), (7, 9), (2, 2), (3, 9), (2, 5), (3, 6), (1, 6), (3, 4), (1, 2), (2, 8), (7, 9), (1, 5), (8, 9), (0, 2), (1, 6), (7, 9), (2, 9), (3, 9), (3, 9), (3, 7), (1, 6), (0, 2), (1, 6), (2, 7), (1, 4), (1, 7), (2, 3), (0, 4), (4, 5), (6, 6), (2, 4), (0, 9), (9, 9), (2, 3), (7, 9), (1, 3), (7, 8), (4, 8), (2, 3), (7, 8), (3, 8), (1, 8), (2, 9), (0, 9), (2, 7), (0, 6), (1, 2), (3, 8), (1, 6), (6, 9), (0, 4), (5, 7), (4, 6), (1, 9), (4, 5), (0, 7), (1, 7), (5, 8), (1, 5), (0, 7), (7, 9), (3, 7), (2, 5), (2, 4), (5, 9), (4, 5), (3, 4), (0, 8), (3, 7), (5, 6), (4, 6), (5, 7), (0, 4), (4, 6), (7, 9), (0, 9), (2, 5), (7, 8), (1, 4), (8, 8), (3, 7), (0, 0), (2, 8), (0, 1), (4, 9), (7, 8), (7, 7), (3, 5), (2, 7), (7, 9), (3, 3), (3, 6), (7, 7), (1, 7), (5, 6), (2, 4), (1, 4), (1, 8), (3, 8), (2, 7), (6, 9), (0, 8), (3, 7), (8, 9), (4, 4), (6, 7), (8, 9), (4, 4), (5, 9), (4, 5), (2, 3), (1, 5), (0, 6), (0, 5), (2, 7), (1, 3), (0, 9), (1, 1), (1, 8), (2, 2), (2, 9), (7, 8), (0, 4), (4, 8), (2, 5), (4, 9), (5, 5), (1, 2), (6, 9), (0, 1), (3, 5), (0, 7), (5, 6), (1, 2), (2, 8), (0, 3), (6, 8), (5, 7), (2, 3), (2, 5), (4, 9), (1, 9), (4, 6), (7, 9), (0, 6), (0, 3), (1, 1), (6, 6), (0, 5), (6, 7), (6, 7), (7, 9), (2, 8), (2, 3), (3, 4), (6, 9), (0, 9), (6, 7), (2, 6), (2, 8), (3, 7), (0, 2), (5, 8), (2, 2), (4, 6), (3, 4), (2, 7), (0, 9), (0, 8), (6, 7), (1, 9), (3, 9), (0, 7), (4, 9), (0, 5), (3, 9), (2, 2), (1, 9), (0, 8), (2, 4), (3, 6), (0, 3), (0, 6), (1, 5), (0, 8), (2, 5), (0, 9), (3, 4), (4, 4), (3, 9), (4, 9), (7, 7), (1, 5), (2, 7), (4, 8), (4, 8), (2, 7), (2, 8), (7, 9), (1, 9), (1, 2), (2, 9), (2, 3), (1, 9), (6, 7), (9, 9), (1, 1), (1, 3), (4, 5), (1, 2), (1, 5), (0, 7), (0, 2), (4, 6), (7, 9), (1, 7), (3, 8), (4, 8), (2, 2), (6, 9), (5, 9), (5, 7), (2, 6), (5, 6), (1, 6), (1, 7), (3, 4), (0, 5), (6, 7), (5, 6), (7, 9), (2, 6), (1, 9), (3, 7), (0, 6), (6, 9), (1, 7), (5, 9), (2, 8), (4, 8), (1, 3), (0, 1), (3, 8), (0, 2), (5, 7), (2, 8), (5, 6), (4, 5), (7, 9), (3, 7), (3, 7), (1, 5), (2, 3), (0, 7), (2, 5), (6, 9), (6, 9), (5, 6), (0, 6), (0, 7), (1, 3), (7, 8), (3, 6), (1, 4), (3, 6), (0, 5), (0, 7), (0, 4), (3, 4), (5, 9), (2, 6), (0, 4), (1, 8), (1, 1), (5, 8), (6, 8), (4, 4), (3, 8), (2, 9), (1, 6), (2, 9), (3, 7), (0, 8), (4, 5), (0, 5), (0, 9), (2, 8), (1, 7), (3, 6), (0, 3), (0, 4), (1, 8), (3, 4), (2, 6), (5, 8), (4, 7), (3, 3), (4, 8), (0, 7), (9, 9), (0, 2), (2, 3), (6, 6), (0, 8), (1, 3), (0, 5), (4, 8), (1, 9), (0, 3), (3, 7), (1, 3), (3, 9), (1, 2), (0, 8), (1, 5), (2, 6), (3, 6), (3, 5), (3, 7), (5, 7), (3, 7), (3, 6), (1, 7), (7, 8), (4, 4), (0, 1), (7, 9), (4, 9), (1, 9), (0, 6), (5, 8), (1, 3), (4, 8), (4, 6), (3, 6), (9, 9), (1, 2), (2, 8), (3, 8), (0, 2), (8, 8), (0, 8), (2, 9), (1, 5), (3, 8), (0, 5), (4, 7), (3, 5), (7, 9), (3, 8), (7, 8), (0, 2), (0, 0), (4, 9), (7, 9), (1, 4), (7, 9), (0, 2), (0, 7), (4, 9), (2, 5), (4, 9), (2, 7), (2, 6), (0, 5), (4, 8), (2, 8), (3, 6), (4, 5), (1, 3), (2, 4), (1, 6), (1, 9), (6, 7), (4, 6), (3, 9), (3, 4), (4, 8), (6, 9), (3, 6), (4, 8), (3, 7), (2, 3), (0, 5), (6, 6), (3, 7), (1, 7), (4, 9), (1, 9), (5, 8), (0, 9), (0, 1), (5, 6), (3, 5), (2, 3), (2, 5), (4, 5), (5, 6), (1, 8), (1, 9), (0, 9), (0, 2), (4, 9), (2, 2), (1, 4), (6, 9), (0, 3), (2, 9), (3, 7), (6, 9), (1, 5), (7, 8), (2, 6), (2, 7), (5, 8), (0, 2), (5, 8), (0, 8), (6, 7), (5, 9), (4, 5), (0, 3), (1, 8), (7, 8), (0, 8), (4, 9), (4, 5), (6, 9), (0, 3), (7, 8), (3, 6), (1, 7), (3, 8), (8, 9), (0, 4), (3, 6), (1, 4), (0, 5), (1, 4), (1, 3), (4, 8), (3, 6), (1, 2), (2, 8), (0, 7), (1, 9), (3, 5), (5, 7), (6, 6), (0, 7), (4, 9), (7, 9), (6, 9), (3, 5), (1, 8), (0, 6), (1, 4), (0, 8), (0, 3), (2, 5), (3, 6), (4, 5), (1, 2), (3, 7), (2, 3), (4, 8), (2, 3), (4, 5), (0, 3), (2, 6), (0, 1), (5, 5), (0, 2), (6, 7), (1, 5), (3, 5), (3, 6), (1, 3), (3, 3), (0, 9), (6, 7), (1, 2), (9, 9), (0, 2), (5, 5), (4, 8), (2, 5), (3, 6), (2, 4), (0, 9), (5, 8), (7, 8), (6, 7), (2, 5), (4, 7), (3, 9), (8, 9), (1, 8), (4, 4), (4, 9), (0, 9), (0, 4), (1, 3), (2, 8), (0, 1), (5, 7), (0, 4), (3, 4), (8, 9), (3, 7), (4, 4), (6, 9), (1, 5), (1, 7), (4, 7), (0, 0), (1, 7), (1, 7), (7, 9), (4, 8), (1, 1), (3, 7), (2, 3), (3, 4), (1, 2), (0, 5), (1, 6), (3, 4), (2, 9), (2, 2), (1, 9), (1, 7), (1, 8), (1, 4), (1, 7), (3, 9), (1, 9), (0, 6), (0, 9), (5, 9), (3, 8), (4, 8), (4, 9), (0, 1), (3, 3), (6, 6), (2, 7), (1, 2), (2, 9), (1, 3), (2, 9), (4, 9), (6, 7), (1, 2), (2, 8), (7, 9), (6, 7), (0, 1), (4, 4), (1, 7), (5, 9), (8, 9), (3, 7), (0, 1), (2, 8), (0, 6), (0, 3), (2, 3), (1, 2), (5, 6), (4, 4), (8, 9), (1, 2), (4, 9), (4, 9), (0, 6), (8, 9), (3, 7), (1, 6), (0, 8), (2, 5), (4, 7), (0, 8), (7, 9), (6, 8), (8, 9), (5, 5), (8, 9), (0, 4), (4, 6), (7, 7), (6, 9), (1, 8), (3, 6), (6, 8), (1, 2), (0, 3), (0, 0), (7, 7), (9, 9), (5, 6), (0, 2), (5, 5), (3, 9), (4, 4), (4, 5), (3, 4), (4, 5), (9, 9), (2, 5), (1, 6), (0, 6), (2, 9), (3, 9), (0, 3), (0, 7), (0, 0), (0, 4), (3, 5), (1, 3), (2, 5), (3, 9), (0, 1), (4, 7), (0, 8), (0, 5), (5, 6), (0, 9), (0, 5), (8, 9), (0, 4), (3, 5), (1, 9), (2, 5), (8, 9), (6, 8), (1, 3), (4, 6), (4, 8), (1, 5), (2, 7), (7, 9), (3, 8), (4, 8), (5, 9), (2, 9), (2, 7), (1, 3), (2, 3), (1, 5), (5, 6), (7, 9), (4, 9), (6, 8), (5, 7), (4, 7), (5, 6), (6, 7), (2, 2), (1, 5), (3, 3), (7, 9), (0, 5), (0, 6), (0, 5), (0, 5), (7, 9), (3, 4), (0, 9), (2, 3), (0, 4), (5, 9), (3, 9), (5, 6), (4, 5), (0, 9), (3, 5), (0, 7), (3, 7), (7, 8), (5, 9), (1, 8), (2, 2), (4, 4), (1, 9), (5, 6), (3, 6), (2, 8), (6, 9), (2, 6), (5, 8), (5, 7), (1, 9), (1, 4), (7, 7), (3, 7), (1, 5), (8, 9), (0, 7), (1, 8), (1, 4), (0, 5), (5, 6), (4, 5), (4, 5), (2, 4), (6, 8), (1, 3), (1, 2), (4, 5), (1, 5), (4, 4), (7, 9), (1, 3), (9, 9), (0, 5), (1, 1), (1, 7), (1, 9), (4, 6), (2, 7), (0, 3), (2, 4), (2, 9), (0, 6), (1, 4), (0, 5), (3, 6), (1, 6), (0, 0)]\n",
      "(2000,)\n"
     ]
    },
    {
     "data": {
      "text/plain": [
       "Text(54.75, 0.5, 'speaker v')"
      ]
     },
     "execution_count": 94,
     "metadata": {},
     "output_type": "execute_result"
    },
    {
     "data": {
      "image/png": "[encoded data removed]",
      "text/plain": [
       "<Figure size 700x500 with 2 Axes>"
      ]
     },
     "metadata": {},
     "output_type": "display_data"
    }
   ],
   "source": [
    "indexed_audio_same, indexed_audio_diff = indexed_audio_same_diff\n",
    "sp_indices = indexed_audio_same + indexed_audio_diff\n",
    "print(np.asarray(sp_indices).shape)\n",
    "sp_indices = [(sp[0][0],sp[1][0]) for sp in sp_indices]\n",
    "print(np.asarray(sp_indices).shape, sp_indices)\n",
    "print(np.asarray(layer_predictions).shape)\n",
    "\n",
    "df = pd.DataFrame()\n",
    "df[\"predictions\"] = layer_predictions\n",
    "df[[\"x\", \"y\"]] = sp_indices\n",
    "heatmap = df.pivot_table(index='x', columns='y', values='predictions')\n",
    "\n",
    "sns.heatmap(heatmap)\n",
    "plt.xlabel(\"speaker u\")\n",
    "plt.ylabel(\"speaker v\")"
   ]
  },
  {
   "attachments": {},
   "cell_type": "markdown",
   "metadata": {},
   "source": [
    "## Layer-wise analysis / plotting"
   ]
  },
  {
   "cell_type": "code",
   "execution_count": 95,
   "metadata": {},
   "outputs": [
    {
     "name": "stdout",
     "output_type": "stream",
     "text": [
      "(24,)\n",
      "[0.588  0.69   0.636  0.6265 0.697  0.7385 0.734  0.7575 0.72   0.684\n",
      " 0.7185 0.659  0.6765 0.6735 0.6905 0.614  0.614  0.619  0.7415 0.669\n",
      " 0.6465 0.669  0.649  0.562 ]\n"
     ]
    }
   ],
   "source": [
    "print(np.asarray(layer_accuracy).shape)\n",
    "\n",
    "print(np.asarray(layer_accuracy))\n"
   ]
  }
 ],
 "metadata": {
  "kernelspec": {
   "display_name": ".env",
   "language": "python",
   "name": "python3"
  },
  "language_info": {
   "codemirror_mode": {
    "name": "ipython",
    "version": 3
   },
   "file_extension": ".py",
   "mimetype": "text/x-python",
   "name": "python",
   "nbconvert_exporter": "python",
   "pygments_lexer": "ipython3",
   "version": "3.11.4"
  },
  "orig_nbformat": 4
 },
 "nbformat": 4,
 "nbformat_minor": 2
}
