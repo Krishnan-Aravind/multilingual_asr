{
 "cells": [
  {
   "cell_type": "markdown",
   "metadata": {
    "id": "LBSYoWbi-45k"
   },
   "source": [
    "# **Fine-tuning XLS-R for Multi-Lingual ASR with 🤗 Transformers**\n",
    "\n",
    "***New (11/2021)***: *This blog post has been updated to feature XLSR's successor, called [XLS-R](https://huggingface.co/models?other=xls_r)*."
   ]
  },
  {
   "cell_type": "markdown",
   "metadata": {
    "id": "V7YOT2mnUiea"
   },
   "source": [
    "**Wav2Vec2** is a pretrained model for Automatic Speech Recognition (ASR) and was released in [September 2020](https://ai.facebook.com/blog/wav2vec-20-learning-the-structure-of-speech-from-raw-audio/) by *Alexei Baevski, Michael Auli, and Alex Conneau*.  Soon after the superior performance of Wav2Vec2 was demonstrated on one of the most popular English datasets for ASR, called [LibriSpeech](https://huggingface.co/datasets/librispeech_asr), *Facebook AI* presented a multi-lingual version of Wav2Vec2, called [XLSR](https://arxiv.org/abs/2006.13979). XLSR stands for *cross-lingual speech representations* and refers to model's ability to learn speech representations that are useful across multiple languages.\n",
    "\n",
    "XLSR's successor, simply called **XLS-R** (refering to the [*''XLM-R*](https://ai.facebook.com/blog/-xlm-r-state-of-the-art-cross-lingual-understanding-through-self-supervision/) *for Speech''*), was released in [November 2021](https://ai.facebook.com/blog/xls-r-self-supervised-speech-processing-for-128-languages) by *Arun Babu, Changhan Wang, Andros Tjandra, et al.* XLS-R used almost **half a million** hours of audio data in 128 languages for self-supervised pre-training and comes in sizes ranging from 300 milion up to **two billion** parameters. You can find the pretrained checkpoints on the 🤗 Hub:\n",
    "\n",
    "- [**Wav2Vec2-XLS-R-300M**](https://huggingface.co/facebook/wav2vec2-xls-r-300m)\n",
    "- [**Wav2Vec2-XLS-R-1B**](https://huggingface.co/facebook/wav2vec2-xls-r-1b)\n",
    "- [**Wav2Vec2-XLS-R-2B**](https://huggingface.co/facebook/wav2vec2-xls-r-2b)\n",
    "\n",
    "Similar to [BERT's masked language modeling objective](http://jalammar.github.io/illustrated-bert/), XLS-R learns contextualized speech representations by randomly masking feature vectors before passing them to a transformer network during self-supervised pre-training (*i.e.* diagram on the left below).\n",
    "\n",
    "For fine-tuning, a single linear layer is added on top of the pre-trained network to train the model on labeled data of audio downstream tasks such as speech recognition, speech translation and audio classification (*i.e.* diagram on the right below).\n",
    "\n",
    "![wav2vec2_structure](https://raw.githubusercontent.com/patrickvonplaten/scientific_images/master/xls_r.png)\n",
    "\n",
    "XLS-R shows impressive improvements over previous state-of-the-art results on both speech recognition, speech translation and speaker/language identification, *cf.* with Table 3-6, Table 7-10, and Table 11-12 respectively of the official [paper](https://ai.facebook.com/blog/xls-r-self-supervised-speech-processing-for-128-languages)."
   ]
  },
  {
   "cell_type": "markdown",
   "metadata": {
    "id": "nT_QrfWtsxIz"
   },
   "source": [
    "## Notebook Setup"
   ]
  },
  {
   "cell_type": "markdown",
   "metadata": {
    "id": "kruqixOYHaIo"
   },
   "source": [
    "\n",
    "In this notebook, we will give an in-detail explanation of how XLS-R - more specifically the pre-trained checkpoint [**Wav2Vec2-XLS-R-300M**](https://huggingface.co/facebook/wav2vec2-xls-r-300m) - can be fine-tuned for ASR.  \n",
    "\n",
    "For demonstration purposes, we fine-tune the model on the low resource ASR dataset of [Common Voice](https://huggingface.co/datasets/common_voice) that contains only *ca.* 4h of validated training data."
   ]
  },
  {
   "cell_type": "markdown",
   "metadata": {
    "id": "Gx9OdDYrCtQ1"
   },
   "source": [
    "XLS-R is fine-tuned using Connectionist Temporal Classification (CTC), which is an algorithm that is used to train neural networks for sequence-to-sequence problems, such as ASR and handwriting recognition.\n",
    "\n",
    "I highly recommend reading the well-written blog post [*Sequence Modeling with CTC (2017)*](https://distill.pub/2017/ctc/) by Awni Hannun."
   ]
  },
  {
   "cell_type": "markdown",
   "metadata": {
    "id": "wcHuXIaWyHZU"
   },
   "source": [
    "First, let's try to get a good GPU in our colab! With Google Colab's free version it's sadly becoming much harder to get access to a good GPU. With Google Colab Pro, however, one should easily get either a V100 or P100 GPU."
   ]
  },
  {
   "cell_type": "markdown",
   "metadata": {
    "id": "e335hPmdtASZ"
   },
   "source": [
    "Before we start, let's install `datasets` and `transformers`. Also, we need the `torchaudio` to load audio files and `jiwer` to evaluate our fine-tuned model using the [word error rate (WER)](https://huggingface.co/metrics/wer) metric ${}^1$."
   ]
  },
  {
   "cell_type": "markdown",
   "metadata": {
    "id": "0xxt_LwxDQlO"
   },
   "source": [
    "We strongly suggest to upload your training checkpoints directly to the [🤗 Hub](https://huggingface.co/) while training. The [🤗 Hub](https://huggingface.co/) has integrated version control so you can be sure that no model checkpoint is getting lost during training.\n",
    "\n",
    "To do so you have to store your authentication token from the Hugging Face website (sign up [here](https://huggingface.co/join) if you haven't already!)"
   ]
  },
  {
   "cell_type": "markdown",
   "metadata": {
    "id": "0mW-C1Nt-j7k"
   },
   "source": [
    "## Prepare Data, Tokenizer, Feature Extractor"
   ]
  },
  {
   "cell_type": "markdown",
   "metadata": {
    "id": "BeBosnY9BH3e"
   },
   "source": [
    "ASR models transcribe speech to text, which means that we both need a feature extractor that processes the speech signal to the model's input format, *e.g.* a feature vector, and a tokenizer that processes the model's output format to text.\n",
    "\n",
    "In 🤗 Transformers, the XLS-R model is thus accompanied by both a tokenizer, called [Wav2Vec2CTCTokenizer](https://huggingface.co/transformers/master/model_doc/wav2vec2.html#wav2vec2ctctokenizer), and a feature extractor, called [Wav2Vec2FeatureExtractor](https://huggingface.co/transformers/master/model_doc/wav2vec2.html#wav2vec2featureextractor).\n",
    "\n",
    "Let's start by creating the tokenizer to decode the predicted output classes to the output transcription."
   ]
  },
  {
   "cell_type": "markdown",
   "metadata": {
    "id": "sEXEWEJGQPqD"
   },
   "source": [
    "### Create `Wav2Vec2CTCTokenizer`"
   ]
  },
  {
   "cell_type": "markdown",
   "metadata": {
    "id": "tWmMikuNEKl_"
   },
   "source": [
    "A pre-trained XLS-R model maps the speech signal to a sequence of context representations as illustrated in the figure above. However, for speech recognition the model has to to map this sequence of context representations to its corresponding transcription which means that a linear layer has to be added on top of the transformer block (shown in yellow in the diagram above). This linear layer is used to classifies each context representation to a token class analogous how, *e.g.*, after pretraining a linear layer is added on top of BERT's embeddings for further classification - *cf.* with *'BERT'* section of this [blog post](https://huggingface.co/blog/warm-starting-encoder-decoder)."
   ]
  },
  {
   "cell_type": "markdown",
   "metadata": {
    "id": "v5oRE8XjIUH3"
   },
   "source": [
    "The output size of this layer corresponds to the number of tokens in the vocabulary, which does **not** depend onXLS-R's pretraining task, but only on the labeled dataset used for fine-tuning. So in the first step, we will take a look at the chosen dataset of Common Voice and define a vocabulary based on the transcriptions."
   ]
  },
  {
   "cell_type": "markdown",
   "metadata": {
    "id": "idBczw8mWzgt"
   },
   "source": [
    "First, let's go to Common Voice [official website](https://commonvoice.mozilla.org/en/datasets) and pick a language to fine-tune XLS-R on. For this notebook, we will use Turkish.\n",
    "\n",
    "For each language-specific dataset, you can find a language code corresponding to your chosen language. On [Common Voice](https://commonvoice.mozilla.org/en/datasets), look for the field \"Version\". The language code then corresponds to the prefix before the underscore. For Turkish, *e.g.* the language code is `\"tr\"`.\n",
    "\n",
    "Great, now we can use 🤗 Datasets' simple API to download the data. The dataset name is `\"common_voice\"`, the configuration name corresponds to the language code, which is `\"tr\"` in our case."
   ]
  },
  {
   "cell_type": "markdown",
   "metadata": {
    "id": "bee4g9rpLxll"
   },
   "source": [
    "Common Voice has many different splits including `invalidated`, which refers to data that was not rated as \"clean enough\" to be considered useful. In this notebook, we will only make use of the splits `\"train\"`, `\"validation\"` and `\"test\"`.\n",
    "\n",
    "Because the Turkish dataset is so small, we will merge both the validation and training data into a training dataset and only use the test data for validation."
   ]
  },
  {
   "cell_type": "code",
   "execution_count": 104,
   "metadata": {
    "colab": {
     "base_uri": "https://localhost:8080/",
     "height": 386
    },
    "id": "2MMXcWFFgCXU",
    "outputId": "d86b421c-e265-4f8f-c2b3-b0d660f3dc4a"
   },
   "outputs": [
    {
     "name": "stderr",
     "output_type": "stream",
     "text": [
      "Reusing dataset common_voice (/nethome/akrishnan/.cache/huggingface/datasets/common_voice/tr/6.1.0/5693bfc0feeade582a78c2fb250bc88f52bd86f0a7f1bb22bfee67e715de30fd)\n",
      "Reusing dataset common_voice (/nethome/akrishnan/.cache/huggingface/datasets/common_voice/tr/6.1.0/5693bfc0feeade582a78c2fb250bc88f52bd86f0a7f1bb22bfee67e715de30fd)\n"
     ]
    }
   ],
   "source": [
    "from datasets import load_dataset, load_metric, Audio\n",
    "\n",
    "common_voice_train = load_dataset(\"common_voice\", \"tr\", split=\"train+validation\")\n",
    "common_voice_test = load_dataset(\"common_voice\", \"tr\", split=\"test\")"
   ]
  },
  {
   "cell_type": "code",
   "execution_count": 82,
   "metadata": {},
   "outputs": [
    {
     "data": {
      "text/plain": [
       "Dataset({\n",
       "    features: ['client_id', 'path', 'audio', 'sentence', 'up_votes', 'down_votes', 'age', 'gender', 'accent', 'locale', 'segment'],\n",
       "    num_rows: 3478\n",
       "})"
      ]
     },
     "execution_count": 82,
     "metadata": {},
     "output_type": "execute_result"
    }
   ],
   "source": [
    "common_voice_train"
   ]
  },
  {
   "cell_type": "markdown",
   "metadata": {
    "id": "ri5y5N_HMANq"
   },
   "source": [
    "Many ASR datasets only provide the target text, `'sentence'` for each audio array `'audio'` and file `'path'`. Common Voice actually provides much more information about each audio file, such as the `'accent'`, etc. Keeping the notebook as general as possible, we only consider the transcribed text for fine-tuning.\n",
    "\n"
   ]
  },
  {
   "cell_type": "code",
   "execution_count": 105,
   "metadata": {
    "colab": {
     "base_uri": "https://localhost:8080/",
     "height": 81,
     "referenced_widgets": [
      "b7c8c2bed9164508b3e3fc9c0dbb80cb",
      "fca0b3b5a4c441389b0f3e2a8eb8d7c0",
      "552b1cc8924c4c65a4da9b229e42607d",
      "daecd10ade80483d840d9eca3c1aa6fc",
      "74bdb12240ad4bf48727f07da88be57e",
      "8598e6d345e14908a7dc734744d0fdc9",
      "69c4539ea53a41a2a244f248f8217508",
      "acf5f4a43fee41409cbf0421de419d9a",
      "ccbb17bd82dc42059685b09eae6f59e4",
      "eddfdd8852bb4469acfc6283b9a92a8f",
      "ebf68b02362a4e35bb17fcee8557ca25",
      "b51b24b25e8343668b8a9d15d7d07c13",
      "9335c49308d8494189d5c1cfdc121f88",
      "72aceb09e6194cb684620c6e2356646c",
      "2208cf44c3d24f5aa3f0e2e2fb0997da",
      "bbfe8ed06a3546e5a9aa4d7a2fdd7732",
      "b2d95e965fcb4c65a61d3d3b9d0c3e9d",
      "2407f4308df64988988093720783f3bd",
      "d6a273a58c3a4ea08f50dca7b25607e0",
      "f9b81bd342ca4aa0abfbd84c2b09390b",
      "e9c3ae3c94a54a0fb033bad9f6ddb033",
      "29ef7da6a1c041a99837569fdc6f6ad3"
     ]
    },
    "id": "ieGhhND5mSwI",
    "outputId": "7a494ed2-afd8-4066-e0fc-95641ecdc620"
   },
   "outputs": [
    {
     "data": {
      "application/vnd.jupyter.widget-view+json": {
       "model_id": "61b8158bea2e4b1ca0c1750db127ec32",
       "version_major": 2,
       "version_minor": 0
      },
      "text/plain": [
       "0ex [00:00, ?ex/s]"
      ]
     },
     "metadata": {},
     "output_type": "display_data"
    },
    {
     "data": {
      "application/vnd.jupyter.widget-view+json": {
       "model_id": "d8b24e9d2c7a474fbd77b35a3e4615ab",
       "version_major": 2,
       "version_minor": 0
      },
      "text/plain": [
       "0ex [00:00, ?ex/s]"
      ]
     },
     "metadata": {},
     "output_type": "display_data"
    },
    {
     "data": {
      "application/vnd.jupyter.widget-view+json": {
       "model_id": "bedcc0c1bc354bd592f009d34dcb0e57",
       "version_major": 2,
       "version_minor": 0
      },
      "text/plain": [
       "0ex [00:00, ?ex/s]"
      ]
     },
     "metadata": {},
     "output_type": "display_data"
    },
    {
     "data": {
      "application/vnd.jupyter.widget-view+json": {
       "model_id": "7fae43751236496a885d42f66fcffd42",
       "version_major": 2,
       "version_minor": 0
      },
      "text/plain": [
       "0ex [00:00, ?ex/s]"
      ]
     },
     "metadata": {},
     "output_type": "display_data"
    }
   ],
   "source": [
    "#I've removed Gender here for fun. Reuse the old one if you want\n",
    "# common_voice_train = common_voice_train.remove_columns([\"accent\", \"age\", \"client_id\", \"down_votes\", \"gender\", \"locale\", \"segment\", \"up_votes\"])\n",
    "# common_voice_test = common_voice_test.remove_columns([\"accent\", \"age\", \"client_id\", \"down_votes\", \"gender\", \"locale\", \"segment\", \"up_votes\"])\n",
    "\n",
    "\n",
    "### NOTE THE GENDER ANNOTATION FOR COMMONVOICE ARE SOMETIMES WRONG. LOOK AT 329 FOR EXAMPLE.#######\n",
    "\n",
    "\n",
    "gender_mapping={'':'','male':0,'female':1}\n",
    "common_voice_train = common_voice_train.remove_columns([\"accent\", \"age\", \"client_id\", \"down_votes\",\"locale\", \"segment\", \"up_votes\"])\n",
    "common_voice_test = common_voice_test.remove_columns([\"accent\", \"age\", \"client_id\", \"down_votes\",\"locale\", \"segment\", \"up_votes\"])\n",
    "\n",
    "\n",
    "import re\n",
    "chars_to_remove_regex = '[\\,\\?\\.\\!\\-\\;\\:\\\"\\“\\%\\‘\\”\\�\\']'\n",
    "\n",
    "def remove_special_characters(batch):\n",
    "    batch[\"sentence\"] = re.sub(chars_to_remove_regex, '', batch[\"sentence\"]).lower()\n",
    "    return batch\n",
    "\n",
    "common_voice_train = common_voice_train.map(remove_special_characters)\n",
    "common_voice_test = common_voice_test.map(remove_special_characters)\n",
    "\n",
    "def replace_hatted_characters(batch):\n",
    "    batch[\"sentence\"] = re.sub('[â]', 'a', batch[\"sentence\"])\n",
    "    batch[\"sentence\"] = re.sub('[î]', 'i', batch[\"sentence\"])\n",
    "    batch[\"sentence\"] = re.sub('[ô]', 'o', batch[\"sentence\"])\n",
    "    batch[\"sentence\"] = re.sub('[û]', 'u', batch[\"sentence\"])\n",
    "    return batch\n",
    "\n",
    "common_voice_train = common_voice_train.map(replace_hatted_characters)\n",
    "common_voice_test = common_voice_test.map(replace_hatted_characters)"
   ]
  },
  {
   "cell_type": "markdown",
   "metadata": {
    "id": "3ORHDb2Th2TW"
   },
   "source": [
    "In CTC, it is common to classify speech chunks into letters, so we will do the same here.\n",
    "Let's extract all distinct letters of the training and test data and build our vocabulary from this set of letters.\n",
    "\n",
    "We write a mapping function that concatenates all transcriptions into one long transcription and then transforms the string into a set of chars.\n",
    "It is important to pass the argument `batched=True` to the `map(...)` function so that the mapping function has access to all transcriptions at once."
   ]
  },
  {
   "cell_type": "code",
   "execution_count": 53,
   "metadata": {
    "id": "LwCshNbbeRZR"
   },
   "outputs": [],
   "source": [
    "def extract_all_chars(batch):\n",
    "  all_text = \" \".join(batch[\"sentence\"])\n",
    "  vocab = list(set(all_text))\n",
    "  return {\"vocab\": [vocab], \"all_text\": [all_text]}"
   ]
  },
  {
   "cell_type": "code",
   "execution_count": 54,
   "metadata": {
    "colab": {
     "base_uri": "https://localhost:8080/",
     "height": 81,
     "referenced_widgets": [
      "eafcbe9295cb4a5d91226f1d1dbbe351",
      "02230985126147419df0ceb9c58c9310",
      "8db7e26742104b56be84bf31d0dcb666",
      "45984760c47c4b6fae593182606cfd3d",
      "593707ae5a5b4c25823bd85aa08ec6d8",
      "a8a3649aed3c48db86671e89d4164569",
      "72bec3d91b624419895d262bb49dbdf9",
      "d5e75770e38b4c1a99d94543f88d09d2",
      "48de21f6a88640f38f4a79f938f9b7f3",
      "78e99aa6a62e47baa7cdfa87ddebf828",
      "594f6762a6a240feb4c69ff6a11ce679",
      "b35e65db47364befa435a9d009d77df8",
      "8fb6b16f2ae0460e83dd3102491e7786",
      "665587c521a6472fab1be16d33684603",
      "c3abe8321c164c26b2db5fd4e9157258",
      "e967b05b270a4a37ad107207425855fa",
      "0c675b0b6cc540668f2d42459250bf28",
      "26c90805f82046a58bec996615c59567",
      "209696b426ed4638a77abd48c95a12e7",
      "076c18983b804526949e8c465e1f1953",
      "4026f156ac514046a882dd98000781a9",
      "1548e9653a4d443391aae6c9ab81b0e5"
     ]
    },
    "id": "_m6uUjjcfbjH",
    "outputId": "1135f490-f395-4baa-cd7f-f0e33095ee63"
   },
   "outputs": [
    {
     "data": {
      "application/vnd.jupyter.widget-view+json": {
       "model_id": "287050d069fd4bb18c463f66249c6c75",
       "version_major": 2,
       "version_minor": 0
      },
      "text/plain": [
       "  0%|          | 0/1 [00:00<?, ?ba/s]"
      ]
     },
     "metadata": {},
     "output_type": "display_data"
    },
    {
     "data": {
      "application/vnd.jupyter.widget-view+json": {
       "model_id": "4a30a6ce84bb4c81a182b26158902f69",
       "version_major": 2,
       "version_minor": 0
      },
      "text/plain": [
       "  0%|          | 0/1 [00:00<?, ?ba/s]"
      ]
     },
     "metadata": {},
     "output_type": "display_data"
    }
   ],
   "source": [
    "vocab_train = common_voice_train.map(extract_all_chars, batched=True, batch_size=-1, keep_in_memory=True, remove_columns=common_voice_train.column_names)\n",
    "vocab_test = common_voice_test.map(extract_all_chars, batched=True, batch_size=-1, keep_in_memory=True, remove_columns=common_voice_test.column_names)"
   ]
  },
  {
   "cell_type": "markdown",
   "metadata": {
    "id": "7oVgE8RZSJNP"
   },
   "source": [
    "Now, we create the union of all distinct letters in the training dataset and test dataset and convert the resulting list into an enumerated dictionary."
   ]
  },
  {
   "cell_type": "code",
   "execution_count": 55,
   "metadata": {
    "id": "aQfneNsmlJI0"
   },
   "outputs": [],
   "source": [
    "vocab_list = list(set(vocab_train[\"vocab\"][0]) | set(vocab_test[\"vocab\"][0]))"
   ]
  },
  {
   "cell_type": "code",
   "execution_count": 56,
   "metadata": {
    "colab": {
     "base_uri": "https://localhost:8080/"
    },
    "id": "_0kRndSvqaKk",
    "outputId": "a21b8ec5-1b67-40d8-e84e-2ce9bf524da6"
   },
   "outputs": [
    {
     "data": {
      "text/plain": [
       "{' ': 0,\n",
       " 'a': 1,\n",
       " 'b': 2,\n",
       " 'c': 3,\n",
       " 'd': 4,\n",
       " 'e': 5,\n",
       " 'f': 6,\n",
       " 'g': 7,\n",
       " 'h': 8,\n",
       " 'i': 9,\n",
       " 'j': 10,\n",
       " 'k': 11,\n",
       " 'l': 12,\n",
       " 'm': 13,\n",
       " 'n': 14,\n",
       " 'o': 15,\n",
       " 'p': 16,\n",
       " 'q': 17,\n",
       " 'r': 18,\n",
       " 's': 19,\n",
       " 't': 20,\n",
       " 'u': 21,\n",
       " 'v': 22,\n",
       " 'w': 23,\n",
       " 'x': 24,\n",
       " 'y': 25,\n",
       " 'z': 26,\n",
       " 'ç': 27,\n",
       " 'ë': 28,\n",
       " 'ö': 29,\n",
       " 'ü': 30,\n",
       " 'ğ': 31,\n",
       " 'ı': 32,\n",
       " 'ş': 33,\n",
       " '̇': 34}"
      ]
     },
     "execution_count": 56,
     "metadata": {},
     "output_type": "execute_result"
    }
   ],
   "source": [
    "vocab_dict = {v: k for k, v in enumerate(sorted(vocab_list))}\n",
    "vocab_dict"
   ]
  },
  {
   "cell_type": "markdown",
   "metadata": {
    "id": "JOSzbvs9SXT1"
   },
   "source": [
    "Cool, we see that all letters of the alphabet occur in the dataset (which is not really surprising) and we also extracted the special characters `\"\"` and `'`. Note that we did not exclude those special characters because:\n",
    "\n",
    "The model has to learn to predict when a word is finished or else the model prediction would always be a sequence of chars which would make it impossible to separate words from each other.\n",
    "\n",
    "One should always keep in mind that pre-processing is a very important step before training your model. E.g., we don't want our model to differentiate between `a` and `A` just because we forgot to normalize the data. The difference between `a` and `A` does not depend on the \"sound\" of the letter at all, but more on grammatical rules - *e.g.* use a capitalized letter at the beginning of the sentence. So it is sensible to remove the difference between capitalized and non-capitalized letters so that the model has an easier time learning to transcribe speech."
   ]
  },
  {
   "cell_type": "markdown",
   "metadata": {
    "id": "b1fBRCn-TRaO"
   },
   "source": [
    "To make it clearer that `\" \"` has its own token class, we give it a more visible character `|`. In addition, we also add an \"unknown\" token so that the model can later deal with characters not encountered in Common Voice's training set."
   ]
  },
  {
   "cell_type": "code",
   "execution_count": 57,
   "metadata": {
    "id": "npbIbBoLgaFX"
   },
   "outputs": [],
   "source": [
    "vocab_dict[\"|\"] = vocab_dict[\" \"]\n",
    "del vocab_dict[\" \"]"
   ]
  },
  {
   "cell_type": "markdown",
   "metadata": {
    "id": "_9yCWg4Sd0cb"
   },
   "source": [
    "Finally, we also add a padding token that corresponds to CTC's \"*blank token*\". The \"blank token\" is a core component of the CTC algorithm. For more information, please take a look at the \"Alignment\" section [here](https://distill.pub/2017/ctc/)."
   ]
  },
  {
   "cell_type": "code",
   "execution_count": 58,
   "metadata": {
    "colab": {
     "base_uri": "https://localhost:8080/"
    },
    "id": "znF0bNunsjbl",
    "outputId": "ee961651-d13f-4fcf-94ce-6a142299f587"
   },
   "outputs": [
    {
     "data": {
      "text/plain": [
       "37"
      ]
     },
     "execution_count": 58,
     "metadata": {},
     "output_type": "execute_result"
    }
   ],
   "source": [
    "vocab_dict[\"[UNK]\"] = len(vocab_dict)\n",
    "vocab_dict[\"[PAD]\"] = len(vocab_dict)\n",
    "len(vocab_dict)"
   ]
  },
  {
   "cell_type": "markdown",
   "metadata": {
    "id": "SFPGfet8U5sL"
   },
   "source": [
    "Cool, now our vocabulary is complete and consists of 39 tokens, which means that the linear layer that we will add on top of the pretrained XLS-R checkpoint will have an output dimension of 39."
   ]
  },
  {
   "cell_type": "markdown",
   "metadata": {
    "id": "1CujRgBNVRaD"
   },
   "source": [
    "Let's now save the vocabulary as a json file."
   ]
  },
  {
   "cell_type": "code",
   "execution_count": 59,
   "metadata": {
    "id": "ehyUoh9vk191"
   },
   "outputs": [],
   "source": [
    "import json\n",
    "with open('vocab.json', 'w') as vocab_file:\n",
    "    json.dump(vocab_dict, vocab_file)"
   ]
  },
  {
   "cell_type": "markdown",
   "metadata": {
    "id": "SHJDaKlIVVim"
   },
   "source": [
    "In a final step, we use the json file to load the vocabulary into an instance of the `Wav2Vec2CTCTokenizer` class."
   ]
  },
  {
   "cell_type": "code",
   "execution_count": 60,
   "metadata": {
    "colab": {
     "base_uri": "https://localhost:8080/"
    },
    "id": "xriFGEWQkO4M",
    "outputId": "fb502dde-710f-4945-a7a7-9bc6843d741c"
   },
   "outputs": [
    {
     "name": "stderr",
     "output_type": "stream",
     "text": [
      "Special tokens have been added in the vocabulary, make sure the associated word embeddings are fine-tuned or trained.\n"
     ]
    }
   ],
   "source": [
    "from transformers import Wav2Vec2CTCTokenizer\n",
    "\n",
    "tokenizer = Wav2Vec2CTCTokenizer.from_pretrained(\"./\", unk_token=\"[UNK]\", pad_token=\"[PAD]\", word_delimiter_token=\"|\")"
   ]
  },
  {
   "cell_type": "markdown",
   "metadata": {
    "id": "mYcIiR2FQ96i"
   },
   "source": [
    "### Create `Wav2Vec2FeatureExtractor`"
   ]
  },
  {
   "cell_type": "markdown",
   "metadata": {
    "id": "Y6mDEyW719rx"
   },
   "source": [
    "Speech is a continuous signal and to be treated by computers, it first has to be discretized, which is usually called **sampling**. The sampling rate hereby plays an important role in that it defines how many data points of the speech signal are measured per second. Therefore, sampling with a higher sampling rate results in a better approximation of the *real* speech signal but also necessitates more values per second.\n",
    "\n",
    "A pretrained checkpoint expects its input data to have been sampled more or less from the same distribution as the data it was trained on. The same speech signals sampled at two different rates have a very different distribution, *e.g.*, doubling the sampling rate results in data points being twice as long. Thus,\n",
    "before fine-tuning a pretrained checkpoint of an ASR model, it is crucial to verify that the sampling rate of the data that was used to pretrain the model matches the sampling rate of the dataset used to fine-tune the model.\n",
    "\n",
    "XLS-R was pretrained on audio data of [Babel](http://www.reading.ac.uk/AcaDepts/ll/speechlab/babel/r),\n",
    "[Multilingual LibriSpeech (MLS)](https://huggingface.co/datasets/multilingual_librispeech), [Common Voice](https://huggingface.co/datasets/common_voice), [VoxPopuli](https://arxiv.org/abs/2101.00390), and [VoxLingua107](https://arxiv.org/abs/2011.12998) at a sampling rate of 16kHz. Common Voice, in its original form, has a sampling rate of 48kHz, thus we will have to downsample the fine-tuning data to 16kHz in the following.\n",
    "\n"
   ]
  },
  {
   "cell_type": "markdown",
   "metadata": {
    "id": "KuUbPW7oV-B5"
   },
   "source": [
    "A `Wav2Vec2FeatureExtractor` object requires the following parameters to be instantiated:\n",
    "\n",
    "- `feature_size`: Speech models take a sequence of feature vectors as an input. While the length of this sequence obviously varies, the feature size should not. In the case of Wav2Vec2, the feature size is 1 because the model was trained on the raw speech signal ${}^2$.\n",
    "- `sampling_rate`: The sampling rate at which the model is trained on.\n",
    "- `padding_value`: For batched inference, shorter inputs need to be padded with a specific value\n",
    "- `do_normalize`: Whether the input should be *zero-mean-unit-variance* normalized or not. Usually, speech models perform better when normalizing the input\n",
    "- `return_attention_mask`: Whether the model should make use of an `attention_mask` for batched inference. In general, XLS-R models checkpoints should **always** use the `attention_mask`."
   ]
  },
  {
   "cell_type": "code",
   "execution_count": 61,
   "metadata": {
    "id": "kAR0-2KLkopp"
   },
   "outputs": [
    {
     "name": "stderr",
     "output_type": "stream",
     "text": [
      "Special tokens have been added in the vocabulary, make sure the associated word embeddings are fine-tuned or trained.\n"
     ]
    }
   ],
   "source": [
    "from transformers import Wav2Vec2FeatureExtractor,Wav2Vec2Processor\n",
    "\n",
    "from transformers import Wav2Vec2CTCTokenizer\n",
    "\n",
    "tokenizer = Wav2Vec2CTCTokenizer.from_pretrained(\"./\", unk_token=\"[UNK]\", pad_token=\"[PAD]\", word_delimiter_token=\"|\")\n",
    "\n",
    "feature_extractor = Wav2Vec2FeatureExtractor(feature_size=1, sampling_rate=16000, padding_value=0.0, do_normalize=True, return_attention_mask=True)\n",
    "\n",
    "\n",
    "processor = Wav2Vec2Processor(feature_extractor=feature_extractor, tokenizer=tokenizer)"
   ]
  },
  {
   "cell_type": "markdown",
   "metadata": {
    "id": "DrKnYuvDIoOO"
   },
   "source": [
    "Next, we can prepare the dataset."
   ]
  },
  {
   "cell_type": "markdown",
   "metadata": {
    "id": "YFmShnl7RE35"
   },
   "source": [
    "### Preprocess Data\n",
    "\n",
    "So far, we have not looked at the actual values of the speech signal but just the transcription. In addition to `sentence`, our datasets include two more column names `path` and `audio`. `path` states the absolute path of the audio file. Let's take a look.\n"
   ]
  },
  {
   "cell_type": "code",
   "execution_count": 62,
   "metadata": {
    "colab": {
     "base_uri": "https://localhost:8080/",
     "height": 53
    },
    "id": "TTCS7W6XJ9BG",
    "outputId": "9eb65671-14bb-4854-fb9e-77184a1258a3"
   },
   "outputs": [
    {
     "data": {
      "text/plain": [
       "'common_voice_tr_17346025.mp3'"
      ]
     },
     "execution_count": 62,
     "metadata": {},
     "output_type": "execute_result"
    }
   ],
   "source": [
    "common_voice_train[0][\"path\"]"
   ]
  },
  {
   "cell_type": "markdown",
   "metadata": {
    "id": "T6ndIjHGFp0W"
   },
   "source": [
    "XLS-R expects the input in the format of a 1-dimensional array of 16 kHz. This means that the audio file has to be loaded and resampled.\n",
    "\n",
    " Thankfully, `datasets` does this automatically by calling the other column `audio`. Let try it out."
   ]
  },
  {
   "cell_type": "code",
   "execution_count": 63,
   "metadata": {
    "colab": {
     "base_uri": "https://localhost:8080/"
    },
    "id": "qj_z5Zc3GAs9",
    "outputId": "a8b2967e-8d18-48ab-863b-dc5973265d2d"
   },
   "outputs": [
    {
     "data": {
      "text/plain": [
       "{'path': 'cv-corpus-6.1-2020-12-11/tr/clips/common_voice_tr_17346025.mp3',\n",
       " 'array': array([ 0.0000000e+00, -2.9837949e-13, -1.5983569e-13, ...,\n",
       "        -2.0166338e-12, -1.8799164e-12, -1.1796962e-12], dtype=float32),\n",
       " 'sampling_rate': 48000}"
      ]
     },
     "execution_count": 63,
     "metadata": {},
     "output_type": "execute_result"
    }
   ],
   "source": [
    "common_voice_train[0][\"audio\"]"
   ]
  },
  {
   "cell_type": "markdown",
   "metadata": {
    "id": "WUUTgI1bGHW-"
   },
   "source": [
    "Great, we can see that the audio file has automatically been loaded. This is thanks to the new [`\"Audio\"` feature](https://huggingface.co/docs/datasets/package_reference/main_classes.html?highlight=audio#datasets.Audio) introduced in `datasets == 4.13.3`, which loads and resamples audio files on-the-fly upon calling.\n",
    "\n",
    "In the example above we can see that the audio data is loaded with a sampling rate of 48kHz whereas 16kHz are expected by the model. We can set the audio feature to the correct sampling rate by making use of [`cast_column`](https://huggingface.co/docs/datasets/package_reference/main_classes.html?highlight=cast_column#datasets.DatasetDict.cast_column):"
   ]
  },
  {
   "cell_type": "code",
   "execution_count": 106,
   "metadata": {
    "id": "rrv65aj7G95i"
   },
   "outputs": [],
   "source": [
    "common_voice_train = common_voice_train.cast_column(\"audio\", Audio(sampling_rate=16_000))\n",
    "common_voice_test = common_voice_test.cast_column(\"audio\", Audio(sampling_rate=16_000))"
   ]
  },
  {
   "cell_type": "markdown",
   "metadata": {
    "id": "PcnO4x-NGBEi"
   },
   "source": [
    "Let's take a look at `\"audio\"` again."
   ]
  },
  {
   "cell_type": "code",
   "execution_count": 65,
   "metadata": {
    "colab": {
     "base_uri": "https://localhost:8080/"
    },
    "id": "aKtkc1o_HWHC",
    "outputId": "c140928b-3915-4e19-db9b-ddd91402a063"
   },
   "outputs": [
    {
     "data": {
      "text/plain": [
       "{'path': 'cv-corpus-6.1-2020-12-11/tr/clips/common_voice_tr_17346025.mp3',\n",
       " 'array': array([-1.4455144e-13,  3.5013296e-14,  1.6984194e-13, ...,\n",
       "         4.0738148e-14, -3.4269466e-14, -1.7854903e-12], dtype=float32),\n",
       " 'sampling_rate': 16000}"
      ]
     },
     "execution_count": 65,
     "metadata": {},
     "output_type": "execute_result"
    }
   ],
   "source": [
    "common_voice_train[0][\"audio\"]"
   ]
  },
  {
   "cell_type": "markdown",
   "metadata": {
    "id": "SOckzFd4Mbzq"
   },
   "source": [
    "This seemed to have worked! Let's listen to a couple of audio files to better understand the dataset and verify that the audio was correctly loaded.\n",
    "\n",
    "**Note**: *You can click the following cell a couple of times to listen to different speech samples.*"
   ]
  },
  {
   "cell_type": "code",
   "execution_count": 120,
   "metadata": {
    "colab": {
     "base_uri": "https://localhost:8080/",
     "height": 78
    },
    "id": "dueM6U7Ev0OA",
    "outputId": "ab23fe6a-0481-437d-8de3-06dfd61fd85d"
   },
   "outputs": [
    {
     "name": "stdout",
     "output_type": "stream",
     "text": [
      "female\n",
      "savcılık daha sonra suçlamaları geri almıştı\n"
     ]
    },
    {
     "data": {
      "text/html": [
       "\n",
       "                <audio  controls=\"controls\" autoplay=\"autoplay\">\n",
       "                    <source src=\"data:audio/wav;base64,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\" type=\"audio/wav\" />\n",
       "                    Your browser does not support the audio element.\n",
       "                </audio>\n",
       "              "
      ],
      "text/plain": [
       "<IPython.lib.display.Audio object>"
      ]
     },
     "execution_count": 120,
     "metadata": {},
     "output_type": "execute_result"
    }
   ],
   "source": [
    "import IPython.display as ipd\n",
    "import numpy as np\n",
    "import random\n",
    "\n",
    "rand_int = 339\n",
    "print(common_voice_train[rand_int][\"gender\"])\n",
    "print(common_voice_train[rand_int][\"sentence\"])\n",
    "ipd.Audio(data=common_voice_train[rand_int][\"audio\"][\"array\"], autoplay=True, rate=16000)"
   ]
  },
  {
   "cell_type": "code",
   "execution_count": 118,
   "metadata": {},
   "outputs": [
    {
     "data": {
      "text/plain": [
       "['male',\n",
       " 'male',\n",
       " 'male',\n",
       " 'male',\n",
       " 'male',\n",
       " 'male',\n",
       " 'male',\n",
       " 'male',\n",
       " 'male',\n",
       " 'male',\n",
       " 'male',\n",
       " 'male',\n",
       " 'male',\n",
       " 'male',\n",
       " 'male',\n",
       " 'male',\n",
       " 'male',\n",
       " 'male',\n",
       " 'male',\n",
       " 'male',\n",
       " 'male',\n",
       " 'male',\n",
       " 'male',\n",
       " 'male',\n",
       " 'male',\n",
       " 'male',\n",
       " 'male',\n",
       " 'male',\n",
       " 'male',\n",
       " 'male',\n",
       " 'male',\n",
       " 'male',\n",
       " 'male',\n",
       " 'male',\n",
       " 'male',\n",
       " 'male',\n",
       " 'male',\n",
       " 'male',\n",
       " 'male',\n",
       " 'male',\n",
       " 'male',\n",
       " 'male',\n",
       " 'male',\n",
       " 'male',\n",
       " 'male',\n",
       " 'male',\n",
       " 'male',\n",
       " 'male',\n",
       " 'male',\n",
       " 'male',\n",
       " 'male',\n",
       " 'male',\n",
       " 'male',\n",
       " 'male',\n",
       " 'male',\n",
       " 'male',\n",
       " 'male',\n",
       " 'male',\n",
       " 'male',\n",
       " 'male',\n",
       " 'male',\n",
       " 'male',\n",
       " 'male',\n",
       " 'male',\n",
       " 'male',\n",
       " 'male',\n",
       " 'male',\n",
       " 'male',\n",
       " 'male',\n",
       " 'male',\n",
       " 'male',\n",
       " 'male',\n",
       " '',\n",
       " '',\n",
       " '',\n",
       " '',\n",
       " '',\n",
       " '',\n",
       " '',\n",
       " '',\n",
       " '',\n",
       " '',\n",
       " '',\n",
       " '',\n",
       " '',\n",
       " '',\n",
       " '',\n",
       " '',\n",
       " '',\n",
       " '',\n",
       " '',\n",
       " '',\n",
       " '',\n",
       " 'male',\n",
       " 'male',\n",
       " 'male',\n",
       " 'male',\n",
       " 'male',\n",
       " 'male',\n",
       " 'male',\n",
       " 'male',\n",
       " 'male',\n",
       " 'male',\n",
       " 'male',\n",
       " 'male',\n",
       " 'male',\n",
       " 'male',\n",
       " 'male',\n",
       " 'male',\n",
       " 'male',\n",
       " 'male',\n",
       " 'male',\n",
       " 'female',\n",
       " 'male',\n",
       " 'male',\n",
       " 'male',\n",
       " 'female',\n",
       " 'female',\n",
       " 'female',\n",
       " 'female',\n",
       " 'male',\n",
       " 'female',\n",
       " 'female',\n",
       " 'female',\n",
       " 'female',\n",
       " 'female',\n",
       " 'female',\n",
       " 'female',\n",
       " 'female',\n",
       " 'female',\n",
       " 'female',\n",
       " 'female',\n",
       " 'female',\n",
       " 'female',\n",
       " 'female',\n",
       " 'male',\n",
       " 'male',\n",
       " 'male',\n",
       " 'male',\n",
       " 'male',\n",
       " 'male',\n",
       " 'female',\n",
       " 'female',\n",
       " 'female',\n",
       " 'female',\n",
       " 'female',\n",
       " 'female',\n",
       " 'female',\n",
       " 'female',\n",
       " 'female',\n",
       " 'female',\n",
       " 'female',\n",
       " 'female',\n",
       " 'male',\n",
       " 'male',\n",
       " 'male',\n",
       " 'male',\n",
       " 'male',\n",
       " 'male',\n",
       " 'male',\n",
       " 'male',\n",
       " 'male',\n",
       " 'male',\n",
       " 'male',\n",
       " 'male',\n",
       " 'male',\n",
       " 'male',\n",
       " 'male',\n",
       " 'male',\n",
       " 'male',\n",
       " 'male',\n",
       " 'male',\n",
       " 'female',\n",
       " 'female',\n",
       " 'female',\n",
       " 'female',\n",
       " 'female',\n",
       " 'female',\n",
       " 'female',\n",
       " 'female',\n",
       " 'female',\n",
       " 'female',\n",
       " 'female',\n",
       " 'female',\n",
       " 'female',\n",
       " 'female',\n",
       " 'female',\n",
       " 'female',\n",
       " 'female',\n",
       " 'female',\n",
       " 'female',\n",
       " 'female',\n",
       " 'female',\n",
       " 'female',\n",
       " 'female',\n",
       " 'female',\n",
       " 'female',\n",
       " 'female',\n",
       " 'female',\n",
       " 'female',\n",
       " 'male',\n",
       " 'male',\n",
       " 'male',\n",
       " 'male',\n",
       " 'male',\n",
       " 'male',\n",
       " 'male',\n",
       " 'male',\n",
       " 'male',\n",
       " 'male',\n",
       " 'male',\n",
       " 'male',\n",
       " 'male',\n",
       " 'male',\n",
       " 'male',\n",
       " 'male',\n",
       " 'male',\n",
       " 'male',\n",
       " 'male',\n",
       " 'male',\n",
       " 'male',\n",
       " 'male',\n",
       " 'male',\n",
       " 'male',\n",
       " 'male',\n",
       " '',\n",
       " 'male',\n",
       " 'male',\n",
       " 'male',\n",
       " 'male',\n",
       " 'male',\n",
       " 'male',\n",
       " 'male',\n",
       " 'male',\n",
       " 'male',\n",
       " 'male',\n",
       " 'male',\n",
       " 'male',\n",
       " 'male',\n",
       " 'male',\n",
       " 'male',\n",
       " 'male',\n",
       " 'male',\n",
       " 'male',\n",
       " 'male',\n",
       " 'male',\n",
       " 'male',\n",
       " 'male',\n",
       " 'male',\n",
       " 'male',\n",
       " 'male',\n",
       " 'male',\n",
       " 'male',\n",
       " 'male',\n",
       " 'male',\n",
       " 'male',\n",
       " 'male',\n",
       " 'male',\n",
       " 'male',\n",
       " 'male',\n",
       " 'male',\n",
       " 'male',\n",
       " 'male',\n",
       " 'male',\n",
       " 'male',\n",
       " 'male',\n",
       " 'male',\n",
       " 'male',\n",
       " 'male',\n",
       " 'male',\n",
       " 'male',\n",
       " 'male',\n",
       " 'male',\n",
       " 'male',\n",
       " 'male',\n",
       " 'male',\n",
       " 'male',\n",
       " 'male',\n",
       " 'male',\n",
       " 'male',\n",
       " 'male',\n",
       " 'male',\n",
       " 'male',\n",
       " 'male',\n",
       " '',\n",
       " '',\n",
       " '',\n",
       " '',\n",
       " '',\n",
       " '',\n",
       " '',\n",
       " '',\n",
       " '',\n",
       " '',\n",
       " '',\n",
       " '',\n",
       " '',\n",
       " '',\n",
       " '',\n",
       " '']"
      ]
     },
     "execution_count": 118,
     "metadata": {},
     "output_type": "execute_result"
    }
   ],
   "source": [
    "common_voice_train[:300]['gender']"
   ]
  },
  {
   "cell_type": "markdown",
   "metadata": {
    "id": "gY8m3vARHYTa"
   },
   "source": [
    "It seems like the data is now correctly loaded and resampled."
   ]
  },
  {
   "cell_type": "markdown",
   "metadata": {
    "id": "1MaL9J2dNVtG"
   },
   "source": [
    "It can be heard, that the speakers change along with their speaking rate, accent, and background environment, etc. Overall, the recordings sound acceptably clear though, which is to be expected from a crowd-sourced read speech corpus.\n",
    "\n",
    "Let's do a final check that the data is correctly prepared, by printing the shape of the speech input, its transcription, and the corresponding sampling rate.\n",
    "\n",
    "**Note**: *You can click the following cell a couple of times to verify multiple samples.*"
   ]
  },
  {
   "cell_type": "code",
   "execution_count": 18,
   "metadata": {
    "colab": {
     "base_uri": "https://localhost:8080/"
    },
    "id": "1Po2g7YPuRTx",
    "outputId": "3cc711d0-a32c-46c4-8d83-bad888a7ba67"
   },
   "outputs": [
    {
     "name": "stdout",
     "output_type": "stream",
     "text": [
      "Target text: sibiunun kendine has bir ortaçağ havası var\n",
      "Input array shape: (71040,)\n",
      "Sampling rate: 16000\n"
     ]
    }
   ],
   "source": [
    "rand_int = random.randint(0, len(common_voice_train)-1)\n",
    "\n",
    "print(\"Target text:\", common_voice_train[rand_int][\"sentence\"])\n",
    "print(\"Input array shape:\", common_voice_train[rand_int][\"audio\"][\"array\"].shape)\n",
    "print(\"Sampling rate:\", common_voice_train[rand_int][\"audio\"][\"sampling_rate\"])"
   ]
  },
  {
   "cell_type": "markdown",
   "metadata": {
    "id": "M9teZcSwOBJ4"
   },
   "source": [
    "Good! Everything looks fine - the data is a 1-dimensional array, the sampling rate always corresponds to 16kHz, and the target text is normalized."
   ]
  },
  {
   "cell_type": "markdown",
   "metadata": {
    "id": "k3Pbn5WvOYZF"
   },
   "source": [
    "Finally, we can leverage `Wav2Vec2Processor` to process the data to the format expected by `Wav2Vec2ForCTC` for training. To do so let's make use of Dataset's [`map(...)`](https://huggingface.co/docs/datasets/package_reference/main_classes.html?highlight=map#datasets.DatasetDict.map) function.\n",
    "\n",
    "First, we load and resample the audio data, simply by calling `batch[\"audio\"]`.\n",
    "Second, we extract the `input_values` from the loaded audio file. In our case, the `Wav2Vec2Processor` only normalizes the data. For other speech models, however, this step can include more complex feature extraction, such as [Log-Mel feature extraction](https://en.wikipedia.org/wiki/Mel-frequency_cepstrum).\n",
    "Third, we encode the transcriptions to label ids.\n",
    "\n",
    "**Note**: This mapping function is a good example of how the `Wav2Vec2Processor` class should be used. In \"normal\" context, calling `processor(...)` is redirected to `Wav2Vec2FeatureExtractor`'s call method. When wrapping the processor into the `as_target_processor` context, however, the same method is redirected to `Wav2Vec2CTCTokenizer`'s call method.\n",
    "For more information please check the [docs](https://huggingface.co/transformers/master/model_doc/wav2vec2.html#transformers.Wav2Vec2Processor.__call__)."
   ]
  },
  {
   "cell_type": "code",
   "execution_count": 95,
   "metadata": {
    "id": "eJY7I0XAwe9p"
   },
   "outputs": [],
   "source": [
    "def prepare_dataset(batch):\n",
    "    audio = batch[\"audio\"]\n",
    "\n",
    "    # batched output is \"un-batched\"\n",
    "    batch[\"input_values\"] = processor(audio[\"array\"], sampling_rate=audio[\"sampling_rate\"]).input_values[0]\n",
    "    batch[\"input_length\"] = len(batch[\"input_values\"])\n",
    "    \n",
    "    # Remove this in the end\n",
    "    batch['gen']=gender_mapping[batch['gender']]\n",
    "\n",
    "    with processor.as_target_processor():\n",
    "        batch[\"labels\"] = processor(batch[\"sentence\"]).input_ids\n",
    "    return batch"
   ]
  },
  {
   "cell_type": "markdown",
   "metadata": {
    "id": "q6Pg_WR3OGAP"
   },
   "source": [
    "Let's apply the data preparation function to all examples."
   ]
  },
  {
   "cell_type": "code",
   "execution_count": 96,
   "metadata": {
    "colab": {
     "base_uri": "https://localhost:8080/",
     "height": 136,
     "referenced_widgets": [
      "71f2fd635dc3469d956ff4be795a7949",
      "1ed0f89c1fed45f5a98d489792f209a4",
      "1718ccea468d4f63abf597204eb62564",
      "cb1aac217bdd42f7a1d3399dbe86777e",
      "6c0d3a069a81483183b81dcfc093454a",
      "d7d441b251d04968af517da9204952ae",
      "e3f4b39015ec4affbf1412b8cc8ad651",
      "bb6b428abfaa41c0931a2d0d467aab26",
      "6a02af1a7c184f2e872ced5616251037",
      "8b8a8b18e788468bad31edcb49b43494",
      "bb3c47ffd87b455490d33718e6d25913",
      "ecbc5f692be943d19c4b18484c15593b",
      "325c9c73cd8b43bdb6f1d38ff79218a2",
      "a484e861930d4d678277c628bbb10508",
      "f65e476f9d004a5ab51095c791b10470",
      "eb27099b8dd94d7a9fa528685ce3d741",
      "2bfeaac8246049b18b86eaad419c3a7a",
      "07a3fdf82c58442d8c19083b7ac0cf96",
      "c9210945e50c47b984193c3633194721",
      "a6356bbd4ca0480eb2f05b88109f9f13",
      "95b9c124f9594ee987833d2dd3f4c7d8",
      "eaf22d47b1f94ba6a1100d04f8430dc6"
     ]
    },
    "id": "-np9xYK-wl8q",
    "outputId": "07a79591-9783-481f-970a-06aa4a47c988"
   },
   "outputs": [
    {
     "data": {
      "application/vnd.jupyter.widget-view+json": {
       "model_id": "5f98b11667c34d39b56474847f4224a3",
       "version_major": 2,
       "version_minor": 0
      },
      "text/plain": [
       "0ex [00:00, ?ex/s]"
      ]
     },
     "metadata": {},
     "output_type": "display_data"
    },
    {
     "data": {
      "application/vnd.jupyter.widget-view+json": {
       "model_id": "da128c9b36c44f6895c94d736395673e",
       "version_major": 2,
       "version_minor": 0
      },
      "text/plain": [
       "0ex [00:00, ?ex/s]"
      ]
     },
     "metadata": {},
     "output_type": "display_data"
    }
   ],
   "source": [
    "common_voice_train = common_voice_train.map(prepare_dataset, remove_columns=common_voice_train.column_names)\n",
    "common_voice_test = common_voice_test.map(prepare_dataset, remove_columns=common_voice_test.column_names)"
   ]
  },
  {
   "cell_type": "code",
   "execution_count": 89,
   "metadata": {},
   "outputs": [],
   "source": [
    "torch.save(common_voice_train,'common_voice_train.pt')\n",
    "torch.save(common_voice_test,'common_voice_test.pt')"
   ]
  },
  {
   "cell_type": "markdown",
   "metadata": {
    "id": "nKcEWHvKI1by"
   },
   "source": [
    "**Note**: Currently `datasets` make use of [`torchaudio`](https://pytorch.org/audio/stable/index.html) and [`librosa`](https://librosa.org/doc/latest/index.html) for audio loading and resampling. If you wish to implement your own costumized data loading/sampling, feel free to just make use of the `\"path\"` column instead and disregard the `\"audio\"` column."
   ]
  },
  {
   "cell_type": "markdown",
   "metadata": {
    "id": "24CxHd5ewI4T"
   },
   "source": [
    "Long input sequences require a lot of memory. XLS-R is based on `self-attention` the memory requirement scales quadratically with the input length for long input sequences (*cf.* with [this](https://www.reddit.com/r/MachineLearning/comments/genjvb/d_why_is_the_maximum_input_sequence_length_of/) reddit post). In case this demo crashes with an \"Out-of-memory\" error for you, you might want to uncomment the following lines to filter all sequences that are longer than 5 seconds for training."
   ]
  },
  {
   "cell_type": "code",
   "execution_count": null,
   "metadata": {
    "id": "tdHfbUJ_09iA"
   },
   "outputs": [],
   "source": [
    "#max_input_length_in_sec = 5.0\n",
    "#common_voice_train = common_voice_train.filter(lambda x: x < max_input_length_in_sec * processor.feature_extractor.sampling_rate, input_columns=[\"input_length\"])"
   ]
  },
  {
   "cell_type": "markdown",
   "metadata": {
    "id": "1ZWDCCKqwcfS"
   },
   "source": [
    "Awesome, now we are ready to start training!"
   ]
  },
  {
   "cell_type": "markdown",
   "metadata": {
    "id": "gYlQkKVoRUos"
   },
   "source": [
    "## Training\n",
    "\n",
    "The data is processed so that we are ready to start setting up the training pipeline. We will make use of 🤗's [Trainer](https://huggingface.co/transformers/master/main_classes/trainer.html?highlight=trainer) for which we essentially need to do the following:\n",
    "\n",
    "- Define a data collator. In contrast to most NLP models, XLS-R has a much larger input length than output length. *E.g.*, a sample of input length 50000 has an output length of no more than 100. Given the large input sizes, it is much more efficient to pad the training batches dynamically meaning that all training samples should only be padded to the longest sample in their batch and not the overall longest sample. Therefore, fine-tuning XLS-R requires a special padding data collator, which we will define below\n",
    "\n",
    "- Evaluation metric. During training, the model should be evaluated on the word error rate. We should define a `compute_metrics` function accordingly\n",
    "\n",
    "- Load a pretrained checkpoint. We need to load a pretrained checkpoint and configure it correctly for training.\n",
    "\n",
    "- Define the training configuration.\n",
    "\n",
    "After having fine-tuned the model, we will correctly evaluate it on the test data and verify that it has indeed learned to correctly transcribe speech."
   ]
  },
  {
   "cell_type": "markdown",
   "metadata": {
    "id": "Slk403unUS91"
   },
   "source": [
    "### Set-up Trainer\n",
    "\n",
    "Let's start by defining the data collator. The code for the data collator was copied from [this example](https://github.com/huggingface/transformers/blob/7e61d56a45c19284cfda0cee8995fb552f6b1f4e/examples/pytorch/speech-recognition/run_speech_recognition_ctc.py#L219).\n",
    "\n",
    "Without going into too many details, in contrast to the common data collators, this data collator treats the `input_values` and `labels` differently and thus applies to separate padding functions on them (again making use of XLS-R processor's context manager). This is necessary because in speech input and output are of different modalities meaning that they should not be treated by the same padding function.\n",
    "Analogous to the common data collators, the padding tokens in the labels with `-100` so that those tokens are **not** taken into account when computing the loss."
   ]
  },
  {
   "cell_type": "code",
   "execution_count": null,
   "metadata": {},
   "outputs": [],
   "source": []
  },
  {
   "cell_type": "code",
   "execution_count": 21,
   "metadata": {
    "id": "tborvC9hx88e"
   },
   "outputs": [],
   "source": [
    "import torch\n",
    "\n",
    "from dataclasses import dataclass, field\n",
    "from typing import Any, Dict, List, Optional, Union\n",
    "\n",
    "@dataclass\n",
    "class DataCollatorCTCWithPadding:\n",
    "    \"\"\"\n",
    "    Data collator that will dynamically pad the inputs received.\n",
    "    Args:\n",
    "        processor (:class:`~transformers.Wav2Vec2Processor`)\n",
    "            The processor used for proccessing the data.\n",
    "        padding (:obj:`bool`, :obj:`str` or :class:`~transformers.tokenization_utils_base.PaddingStrategy`, `optional`, defaults to :obj:`True`):\n",
    "            Select a strategy to pad the returned sequences (according to the model's padding side and padding index)\n",
    "            among:\n",
    "            * :obj:`True` or :obj:`'longest'`: Pad to the longest sequence in the batch (or no padding if only a single\n",
    "              sequence if provided).\n",
    "            * :obj:`'max_length'`: Pad to a maximum length specified with the argument :obj:`max_length` or to the\n",
    "              maximum acceptable input length for the model if that argument is not provided.\n",
    "            * :obj:`False` or :obj:`'do_not_pad'` (default): No padding (i.e., can output a batch with sequences of\n",
    "              different lengths).\n",
    "    \"\"\"\n",
    "\n",
    "    processor: Wav2Vec2Processor\n",
    "    padding: Union[bool, str] = True\n",
    "\n",
    "    def __call__(self, features: List[Dict[str, Union[List[int], torch.Tensor]]]) -> Dict[str, torch.Tensor]:\n",
    "        # split inputs and labels since they have to be of different lenghts and need\n",
    "        # different padding methods\n",
    "        input_features = [{\"input_values\": feature[\"input_values\"]} for feature in features]\n",
    "        label_features = [{\"input_ids\": feature[\"labels\"]} for feature in features]\n",
    "\n",
    "        batch = self.processor.pad(\n",
    "            input_features,\n",
    "            padding=self.padding,\n",
    "            return_tensors=\"pt\",\n",
    "        )\n",
    "        with self.processor.as_target_processor():\n",
    "            labels_batch = self.processor.pad(\n",
    "                label_features,\n",
    "                padding=self.padding,\n",
    "                return_tensors=\"pt\",\n",
    "            )\n",
    "\n",
    "        # replace padding with -100 to ignore loss correctly\n",
    "        labels = labels_batch[\"input_ids\"].masked_fill(labels_batch.attention_mask.ne(1), -100)\n",
    "\n",
    "        batch[\"labels\"] = labels\n",
    "\n",
    "        return batch\n",
    "\n",
    "data_collator = DataCollatorCTCWithPadding(processor=processor, padding=True)"
   ]
  },
  {
   "cell_type": "code",
   "execution_count": 22,
   "metadata": {
    "id": "lbQf5GuZyQ4_"
   },
   "outputs": [],
   "source": []
  },
  {
   "cell_type": "markdown",
   "metadata": {
    "id": "xO-Zdj-5cxXp"
   },
   "source": [
    "Next, the evaluation metric is defined. As mentioned earlier, the\n",
    "predominant metric in ASR is the word error rate (WER), hence we will use it in this notebook as well."
   ]
  },
  {
   "cell_type": "code",
   "execution_count": 29,
   "metadata": {
    "colab": {
     "base_uri": "https://localhost:8080/",
     "height": 104,
     "referenced_widgets": [
      "46d6976738de480b9e19c80d9ce3dc3e",
      "4003a96c29944d3b9c34ee73c0081932",
      "03ec092dd6a34d03b103c5ed7c730233",
      "94a37fcd1fd34dbfadef25fceb5ee0fa",
      "80a0fa120e8347a8a2a45cf6360754ec",
      "524aca5eb94d4dfdb0ec0223cee3262c",
      "a4fb8e9875954ac2b3d55832fc78aa62",
      "298c1a5851dc4f1dbebceeaa7a5ba5d5",
      "ed2cb21d107348c1aed4fb7535939b3d",
      "563d8a10bf6b4ecca70a6ccf9c275f99",
      "cd85839482e6435da17ded5d1efe757c"
     ]
    },
    "id": "9Xsux2gmyXso",
    "outputId": "87edae45-5f35-4246-8522-46f33c7d9bed"
   },
   "outputs": [
    {
     "data": {
      "application/vnd.jupyter.widget-view+json": {
       "model_id": "9abe534dde4144519dc5263387fcca38",
       "version_major": 2,
       "version_minor": 0
      },
      "text/plain": [
       "Downloading:   0%|          | 0.00/1.90k [00:00<?, ?B/s]"
      ]
     },
     "metadata": {},
     "output_type": "display_data"
    }
   ],
   "source": [
    "wer_metric = load_metric(\"wer\")"
   ]
  },
  {
   "cell_type": "markdown",
   "metadata": {
    "id": "E1qZU5p-deqB"
   },
   "source": [
    "The model will return a sequence of logit vectors:\n",
    "$\\mathbf{y}_1, \\ldots, \\mathbf{y}_m$ with $\\mathbf{y}_1 = f_{\\theta}(x_1, \\ldots, x_n)[0]$ and $n >> m$.\n",
    "\n",
    "A logit vector $\\mathbf{y}_1$ contains the log-odds for each word in the vocabulary we defined earlier, thus $\\text{len}(\\mathbf{y}_i) =$ `config.vocab_size`. We are interested in the most likely prediction of the model and thus take the `argmax(...)` of the logits. Also, we transform the encoded labels back to the original string by replacing `-100` with the `pad_token_id` and decoding the ids while making sure that consecutive tokens are **not** grouped to the same token in CTC style ${}^1$."
   ]
  },
  {
   "cell_type": "code",
   "execution_count": 30,
   "metadata": {
    "id": "1XZ-kjweyTy_"
   },
   "outputs": [],
   "source": [
    "def compute_metrics(pred):\n",
    "    pred_logits = pred.predictions\n",
    "    pred_ids = np.argmax(pred_logits, axis=-1)\n",
    "\n",
    "    pred.label_ids[pred.label_ids == -100] = processor.tokenizer.pad_token_id\n",
    "\n",
    "    pred_str = processor.batch_decode(pred_ids)\n",
    "    # we do not want to group tokens when computing the metrics\n",
    "    label_str = processor.batch_decode(pred.label_ids, group_tokens=False)\n",
    "\n",
    "    wer = wer_metric.compute(predictions=pred_str, references=label_str)\n",
    "\n",
    "    return {\"wer\": wer}"
   ]
  },
  {
   "cell_type": "markdown",
   "metadata": {
    "id": "Xmgrx4bRwLIH"
   },
   "source": [
    "Now, we can load the pretrained checkpoint of [Wav2Vec2-XLS-R-300M](https://huggingface.co/facebook/wav2vec2-xls-r-300m). The tokenizer's `pad_token_id` must be to define the model's `pad_token_id` or in the case of `Wav2Vec2ForCTC` also CTC's *blank token* ${}^2$. To save GPU memory, we enable PyTorch's [gradient checkpointing](https://pytorch.org/docs/stable/checkpoint.html) and also set the loss reduction to \"*mean*\".\n",
    "\n",
    "Because the dataset is quite small (~6h of training data) and because Common Voice is quite noisy, fine-tuning Facebook's [wav2vec2-xls-r-300m checkpoint](https://huggingface.co/facebook/wav2vec2-xls-r-300m) seems to require some hyper-parameter tuning. Therefore, I had to play around a bit with different values for dropout, [SpecAugment](https://arxiv.org/abs/1904.08779)'s masking dropout rate, layer dropout, and the learning rate until training seemed to be stable enough.\n",
    "\n",
    "**Note**: When using this notebook to train XLS-R on another language of Common Voice those hyper-parameter settings might not work very well. Feel free to adapt those depending on your use case."
   ]
  },
  {
   "cell_type": "code",
   "execution_count": null,
   "metadata": {
    "colab": {
     "base_uri": "https://localhost:8080/",
     "height": 172,
     "referenced_widgets": [
      "7592202cb7c2468396c4274594177c37",
      "0d461b095507416199d7d6cbeac33de0",
      "4a39ad1827224bb8b1db6655e1c3fede",
      "fc274d916bcb4f95b66997f12e134d3b",
      "8060934309454280a0f7ec1a3a94876d",
      "246c5d2ccf9f4ae3a2ab6717ea122ffa",
      "c884884b261342f49d66295d103788ff",
      "fe66028f9ff842b58a185eac02401cf8",
      "1d019419bbc7424e938841fa82d6de9f",
      "ee985c71ef514241a9432723242e79f0",
      "5c7f1ff0e5f942e3a20de56130180bff",
      "f5b4bb2cbc014266b1e43e198fa5f6e9",
      "a1245de5a21c4ed28a38a522d2aa8ed5",
      "c0e5b5cbff7a4497b4842a6a13cd7c22",
      "8fa59765defb447fb91c66ed5bbe3ddf",
      "9bf89e83d22e40f789d567a384919973",
      "c3e44d2a09ce4b82b4432f49f3d72ac9",
      "ac1499c69c514d3abf1aa2e4c7e720e8",
      "0d986e27988d4e668d06bb2d3fe5cbc1",
      "cf1ca710e1994680b3b0895b67d6b878",
      "7850b3f606074236a5e54bf783f766cf",
      "8f4184b188994155ab6210f5e303bfe3"
     ]
    },
    "id": "e7cqAWIayn6w",
    "outputId": "54cbbc9c-7d4c-4482-df61-b577b6a18e2d"
   },
   "outputs": [
    {
     "data": {
      "application/vnd.jupyter.widget-view+json": {
       "model_id": "7592202cb7c2468396c4274594177c37",
       "version_major": 2,
       "version_minor": 0
      },
      "text/plain": [
       "Downloading (…)lve/main/config.json:   0%|          | 0.00/1.57k [00:00<?, ?B/s]"
      ]
     },
     "metadata": {},
     "output_type": "display_data"
    },
    {
     "data": {
      "application/vnd.jupyter.widget-view+json": {
       "model_id": "f5b4bb2cbc014266b1e43e198fa5f6e9",
       "version_major": 2,
       "version_minor": 0
      },
      "text/plain": [
       "Downloading pytorch_model.bin:   0%|          | 0.00/1.27G [00:00<?, ?B/s]"
      ]
     },
     "metadata": {},
     "output_type": "display_data"
    },
    {
     "name": "stderr",
     "output_type": "stream",
     "text": [
      "Some weights of Wav2Vec2ForCTC were not initialized from the model checkpoint at facebook/wav2vec2-xls-r-300m and are newly initialized: ['lm_head.bias', 'lm_head.weight']\n",
      "You should probably TRAIN this model on a down-stream task to be able to use it for predictions and inference.\n",
      "/usr/local/lib/python3.10/dist-packages/transformers/models/wav2vec2/modeling_wav2vec2.py:1925: FutureWarning: The method `freeze_feature_extractor` is deprecated and will be removed in Transformers v5.Please use the equivalent `freeze_feature_encoder` method instead.\n",
      "  warnings.warn(\n"
     ]
    }
   ],
   "source": [
    "# from transformers import Wav2Vec2ForCTC\n",
    "\n",
    "# model = Wav2Vec2ForCTC.from_pretrained(\n",
    "#     \"facebook/wav2vec2-xls-r-300m\",\n",
    "#     attention_dropout=0.0,\n",
    "#     hidden_dropout=0.0,\n",
    "#     feat_proj_dropout=0.0,\n",
    "#     mask_time_prob=0.05,\n",
    "#     layerdrop=0.0,\n",
    "#     ctc_loss_reduction=\"mean\",\n",
    "#     pad_token_id=processor.tokenizer.pad_token_id,\n",
    "#     vocab_size=len(processor.tokenizer),\n",
    "# )\n",
    "# model.freeze_feature_extractor()"
   ]
  },
  {
   "cell_type": "markdown",
   "metadata": {
    "id": "1DwR3XLSzGDD"
   },
   "source": [
    "The first component of XLS-R consists of a stack of CNN layers that are used to extract acoustically meaningful - but contextually independent - features from the raw speech signal. This part of the model has already been sufficiently trained during pretraining and as stated in the [paper](https://arxiv.org/pdf/2006.13979.pdf) does not need to be fine-tuned anymore.\n",
    "Thus, we can set the `requires_grad` to `False` for all parameters of the *feature extraction* part."
   ]
  },
  {
   "cell_type": "markdown",
   "metadata": {
    "id": "lD4aGhQM0K-D"
   },
   "source": [
    "In a final step, we define all parameters related to training.\n",
    "To give more explanation on some of the parameters:\n",
    "- `group_by_length` makes training more efficient by grouping training samples of similar input length into one batch. This can significantly speed up training time by heavily reducing the overall number of useless padding tokens that are passed through the model\n",
    "- `learning_rate` and `weight_decay` were heuristically tuned until fine-tuning has become stable. Note that those parameters strongly depend on the Common Voice dataset and might be suboptimal for other speech datasets.\n",
    "\n",
    "For more explanations on other parameters, one can take a look at the [docs](https://huggingface.co/transformers/master/main_classes/trainer.html?highlight=trainer#trainingarguments).\n",
    "\n",
    "During training, a checkpoint will be uploaded asynchronously to the hub every 400 training steps. It allows you to also play around with the demo widget even while your model is still training.\n",
    "\n",
    "**Note**: If one does not want to upload the model checkpoints to the hub, simply set `push_to_hub=False`."
   ]
  },
  {
   "cell_type": "code",
   "execution_count": 23,
   "metadata": {
    "id": "TGK3MjGVdjGN"
   },
   "outputs": [
    {
     "name": "stderr",
     "output_type": "stream",
     "text": [
      "comet_ml is installed but `COMET_API_KEY` is not set.\n"
     ]
    }
   ],
   "source": [
    "from transformers import Wav2Vec2ForCTC, Wav2Vec2Model\n",
    "\n",
    "model = Wav2Vec2Model.from_pretrained(\n",
    "    \"facebook/wav2vec2-xls-r-300m\",\n",
    "    pad_token_id=processor.tokenizer.pad_token_id,\n",
    "    \n",
    "    \n",
    "    #Change this to get hidden states for each layer\n",
    "    output_hidden_states=False\n",
    ")\n",
    "model.freeze_feature_encoder()"
   ]
  },
  {
   "cell_type": "code",
   "execution_count": 97,
   "metadata": {
    "id": "QZh2zl_SbWTe"
   },
   "outputs": [],
   "source": [
    "with torch.no_grad():\n",
    "    input_batch=data_collator([common_voice_test[2]])\n",
    "    input_batch.pop('labels')\n",
    "    output=model(**input_batch)\n",
    "    raw_embeddings=output['last_hidden_state']\n",
    "\n",
    "    ## Note, There is no implementatoin here that accounts for attention mask. This needs to be done later in batching\n",
    "    ## In particular, the embeddings have tp be multiplied with the attention mask before averaging.\n"
   ]
  },
  {
   "cell_type": "code",
   "execution_count": 100,
   "metadata": {
    "colab": {
     "base_uri": "https://localhost:8080/"
    },
    "id": "X3RLkugCJWSx",
    "outputId": "9d076ab6-5641-4ef1-b8bb-d822ce57df35",
    "tags": []
   },
   "outputs": [
    {
     "data": {
      "text/plain": [
       "{'input_values': tensor([[ 0.0004,  0.0004,  0.0004,  ...,  0.0000,  0.0000,  0.0000],\n",
       "        [-0.0005, -0.0005, -0.0005,  ..., -0.0010, -0.0006, -0.0012]]), 'attention_mask': tensor([[1, 1, 1,  ..., 0, 0, 0],\n",
       "        [1, 1, 1,  ..., 1, 1, 1]], dtype=torch.int32), 'labels': tensor([[  29,   18,   14,    5,   31,    9,   14,    0,   13,    1,    1,   33,\n",
       "           12,    1,   18,    0,    1,   18,   20,   32,   25,   15,   18, -100,\n",
       "         -100, -100, -100, -100, -100, -100, -100, -100, -100, -100, -100, -100,\n",
       "         -100, -100, -100],\n",
       "        [   1,   33,   32,   18,   32,    0,    4,    5,   18,    5,    3,    5,\n",
       "            4,    5,    0,   11,    1,   16,    1,   12,   32,    0,    2,    9,\n",
       "           18,    0,   15,   18,   20,    1,   13,   32,   13,   32,   26,    0,\n",
       "           22,    1,   18]])}"
      ]
     },
     "execution_count": 100,
     "metadata": {},
     "output_type": "execute_result"
    }
   ],
   "source": [
    "data_collator([common_voice_test[2],common_voice_test[3]])"
   ]
  },
  {
   "cell_type": "markdown",
   "metadata": {},
   "source": [
    "# Implementing Custom XLSR"
   ]
  },
  {
   "cell_type": "code",
   "execution_count": 89,
   "metadata": {},
   "outputs": [
    {
     "name": "stderr",
     "output_type": "stream",
     "text": [
      "/tmp/ipykernel_6596/3166540839.py:22: UserWarning: Implicit dimension choice for softmax has been deprecated. Change the call to include dim=X as an argument.\n",
      "  att_w = softmax(self.W(batch_rep).squeeze(-1)).unsqueeze(-1)\n"
     ]
    },
    {
     "data": {
      "text/plain": [
       "tensor([[-0.0258, -0.0053]], grad_fn=<AddmmBackward0>)"
      ]
     },
     "execution_count": 89,
     "metadata": {},
     "output_type": "execute_result"
    }
   ],
   "source": [
    "import torch.nn.functional as F\n",
    "import torch.nn as nn\n",
    "\n",
    "\n",
    "class SelfAttentionPooling(nn.Module):\n",
    "    def __init__(self, input_dim):\n",
    "        super(SelfAttentionPooling, self).__init__()\n",
    "        self.W = nn.Linear(input_dim, 1)\n",
    "    \n",
    "    def forward(self, batch_rep):\n",
    "        \"\"\"\n",
    "        input:\n",
    "            batch_rep : size (N, T, H), N: batch size, T: sequence length, H: Hidden dimension\n",
    "      \n",
    "        attention_weight:\n",
    "            att_w : size (N, T, 1)\n",
    "    \n",
    "        return:\n",
    "            utter_rep: size (N, H)\n",
    "        \"\"\"\n",
    "        softmax = nn.functional.softmax\n",
    "        att_w = softmax(self.W(batch_rep).squeeze(-1)).unsqueeze(-1)\n",
    "        utter_rep = torch.sum(batch_rep * att_w, dim=1)\n",
    "\n",
    "        return utter_rep\n",
    "\n",
    "\n",
    "class CustomXLSRModel(nn.Module):\n",
    "    def __init__(self):\n",
    "        super(CustomXLSRModel, self).__init__()\n",
    "        self.xlsr = Wav2Vec2Model.from_pretrained(\n",
    "                        \"facebook/wav2vec2-xls-r-300m\",\n",
    "                        output_hidden_states=False\n",
    "                    )\n",
    "        \n",
    "        # FREEZING XLSR TO AVOID TRAINING IT\n",
    "        for param in self.xlsr.parameters():\n",
    "            param.requires_grad = False\n",
    "\n",
    "        self.hidden_size=self.xlsr.config.hidden_size\n",
    "        ### New layers:\n",
    "        self.linear1 = nn.Linear(self.hidden_size, 256)\n",
    "        self.linear2 = nn.Linear(256, 2) ## 2 is the number of classes in this example\n",
    "        self.attention_pooling=SelfAttentionPooling(self.hidden_size)\n",
    "        \n",
    "    \n",
    "\n",
    "    def forward(self, input_batch):\n",
    "        input_batch.pop('labels')\n",
    "        output=self.xlsr(**input_batch)\n",
    "        raw_embeddings=output['last_hidden_state']\n",
    "\n",
    "        # raw_embeddings has the following shape: (batch_size, sequence_length, 1024)\n",
    "        pooled_output = self.attention_pooling(raw_embeddings) ## Attention pooling\n",
    "        \n",
    "        #Change this in the future to make it like SAMU XLSR. THe linear layer should project with a tanh activation\n",
    "        \n",
    "        linear1_output = F.relu(self.linear1(pooled_output)) #Linear layer with Relu Activation\n",
    "\n",
    "        linear2_output = self.linear2(linear1_output)\n",
    "\n",
    "        return linear2_output\n",
    "model=CustomXLSRModel()\n",
    "model.forward(data_collator([common_voice_test[2]]))"
   ]
  },
  {
   "cell_type": "code",
   "execution_count": null,
   "metadata": {},
   "outputs": [],
   "source": []
  },
  {
   "cell_type": "code",
   "execution_count": null,
   "metadata": {
    "id": "KbeKSV7uzGPP"
   },
   "outputs": [],
   "source": [
    "from transformers import TrainingArguments\n",
    "\n",
    "training_args = TrainingArguments(\n",
    "  output_dir=repo_name,\n",
    "  group_by_length=True,\n",
    "  per_device_train_batch_size=16,\n",
    "  gradient_accumulation_steps=2,\n",
    "  evaluation_strategy=\"steps\",\n",
    "  num_train_epochs=30,\n",
    "  gradient_checkpointing=True,\n",
    "  fp16=True,\n",
    "  save_steps=400,\n",
    "  eval_steps=400,\n",
    "  logging_steps=400,\n",
    "  learning_rate=3e-4,\n",
    "  warmup_steps=500,\n",
    "  save_total_limit=2,\n",
    "  push_to_hub=False,\n",
    ")"
   ]
  },
  {
   "cell_type": "markdown",
   "metadata": {
    "id": "OsW-WZcL1ZtN"
   },
   "source": [
    "Now, all instances can be passed to Trainer and we are ready to start training!"
   ]
  },
  {
   "cell_type": "code",
   "execution_count": null,
   "metadata": {
    "id": "rY7vBmFCPFgC"
   },
   "outputs": [],
   "source": [
    "from transformers import Trainer\n",
    "\n",
    "trainer = Trainer(\n",
    "    model=model,\n",
    "    data_collator=data_collator,\n",
    "    args=training_args,\n",
    "    compute_metrics=compute_metrics,\n",
    "    train_dataset=common_voice_train,\n",
    "    eval_dataset=common_voice_test,\n",
    "    tokenizer=processor.feature_extractor,\n",
    ")"
   ]
  },
  {
   "cell_type": "markdown",
   "metadata": {
    "id": "UoXBx1JAA0DX"
   },
   "source": [
    "\n",
    "\n",
    "---\n",
    "\n",
    "${}^1$ To allow models to become independent of the speaker rate, in CTC, consecutive tokens that are identical are simply grouped as a single token. However, the encoded labels should not be grouped when decoding since they don't correspond to the predicted tokens of the model, which is why the `group_tokens=False` parameter has to be passed. If we wouldn't pass this parameter a word like `\"hello\"` would incorrectly be encoded, and decoded as `\"helo\"`.\n",
    "\n",
    "${}^2$ The blank token allows the model to predict a word, such as `\"hello\"` by forcing it to insert the blank token between the two l's. A CTC-conform prediction of `\"hello\"` of our model would be `[PAD] [PAD] \"h\" \"e\" \"e\" \"l\" \"l\" [PAD] \"l\" \"o\" \"o\" [PAD]`."
   ]
  },
  {
   "cell_type": "markdown",
   "metadata": {
    "id": "rpvZHM1xReIW"
   },
   "source": [
    "### Training"
   ]
  },
  {
   "cell_type": "markdown",
   "metadata": {
    "id": "j-3oKSzZ1hGq"
   },
   "source": [
    "Training will take multiple hours depending on the GPU allocated to this notebook. While the trained model yields somewhat satisfying results on *Common Voice*'s test data of Turkish, it is by no means an optimally fine-tuned model. The purpose of this notebook is just to demonstrate how to fine-tune XLS-R on an ASR dataset.\n",
    "\n",
    "In case you want to use this google colab to fine-tune your model, you should make sure that your training doesn't stop due to inactivity. A simple hack to prevent this is to paste the following code into the console of this tab (*right mouse click -> inspect -> Console tab and insert code*)."
   ]
  },
  {
   "cell_type": "markdown",
   "metadata": {
    "id": "VYYAvgkW4P0m"
   },
   "source": [
    "```javascript\n",
    "function ConnectButton(){\n",
    "    console.log(\"Connect pushed\");\n",
    "    document.querySelector(\"#top-toolbar > colab-connect-button\").shadowRoot.querySelector(\"#connect\").click()\n",
    "}\n",
    "setInterval(ConnectButton,60000);\n",
    "```"
   ]
  },
  {
   "cell_type": "markdown",
   "metadata": {
    "id": "7bGgLV2r0yvZ"
   },
   "source": [
    "Depending on what GPU was allocated to your google colab it might be possible that you are seeing an `\"out-of-memory\"` error here. In this case, it's probably best to reduce `per_device_train_batch_size` to 8 or even less and increase [`gradient_accumulation`](https://huggingface.co/transformers/master/main_classes/trainer.html#trainingarguments)."
   ]
  },
  {
   "cell_type": "code",
   "execution_count": null,
   "metadata": {
    "id": "9fRr9TG5pGBl"
   },
   "outputs": [],
   "source": [
    "trainer.train()"
   ]
  },
  {
   "cell_type": "markdown",
   "metadata": {
    "id": "a9q4mgMZplr_"
   },
   "source": [
    "The training loss and validation WER go down nicely."
   ]
  },
  {
   "cell_type": "markdown",
   "metadata": {
    "id": "4Ya7WEy0pd13"
   },
   "source": [
    "You can now upload the result of the training to the 🤗 Hub, just execute this instruction:"
   ]
  },
  {
   "cell_type": "code",
   "execution_count": null,
   "metadata": {
    "colab": {
     "background_save": true,
     "referenced_widgets": [
      "2d2f71d2c70d466cb9a0d3317fb3095e",
      "2e894a5b95cb489db8b27c6617fd9533"
     ]
    },
    "id": "ArG1Thf6NBWm",
    "outputId": "62ef1c3d-786c-4e25-f9c5-4020e71aa298"
   },
   "outputs": [
    {
     "name": "stderr",
     "output_type": "stream",
     "text": [
      "Saving model checkpoint to wav2vec2-large-xls-r-300m-turkish-colab\n",
      "Configuration saved in wav2vec2-large-xls-r-300m-turkish-colab/config.json\n",
      "Model weights saved in wav2vec2-large-xls-r-300m-turkish-colab/pytorch_model.bin\n",
      "Configuration saved in wav2vec2-large-xls-r-300m-turkish-colab/preprocessor_config.json\n",
      "Several commits (2) will be pushed upstream.\n",
      "The progress bars may be unreliable.\n"
     ]
    },
    {
     "data": {
      "application/vnd.jupyter.widget-view+json": {
       "model_id": "2d2f71d2c70d466cb9a0d3317fb3095e",
       "version_major": 2,
       "version_minor": 0
      },
      "text/plain": [
       "Upload file pytorch_model.bin:   0%|          | 3.35k/1.18G [00:00<?, ?B/s]"
      ]
     },
     "metadata": {},
     "output_type": "display_data"
    },
    {
     "data": {
      "application/vnd.jupyter.widget-view+json": {
       "model_id": "2e894a5b95cb489db8b27c6617fd9533",
       "version_major": 2,
       "version_minor": 0
      },
      "text/plain": [
       "Upload file runs/Nov12_14-33-48_c2d4142f9305/events.out.tfevents.1636727730.c2d4142f9305.1468.0:  41%|####1   …"
      ]
     },
     "metadata": {},
     "output_type": "display_data"
    },
    {
     "name": "stderr",
     "output_type": "stream",
     "text": [
      "To https://huggingface.co/patrickvonplaten/wav2vec2-large-xls-r-300m-turkish-colab\n",
      "   56ebe74..fe76946  main -> main\n",
      "\n",
      "Dropping the following result as it does not have all the necessary field:\n",
      "{'dataset': {'name': 'common_voice', 'type': 'common_voice', 'args': 'tr'}}\n",
      "To https://huggingface.co/patrickvonplaten/wav2vec2-large-xls-r-300m-turkish-colab\n",
      "   fe76946..5f0d67b  main -> main\n",
      "\n"
     ]
    },
    {
     "data": {
      "application/vnd.google.colaboratory.intrinsic+json": {
       "type": "string"
      },
      "text/plain": [
       "'https://huggingface.co/patrickvonplaten/wav2vec2-large-xls-r-300m-turkish-colab/commit/fe769461e4e2fb9534740e6c278a0cfabf268474'"
      ]
     },
     "execution_count": null,
     "metadata": {},
     "output_type": "execute_result"
    }
   ],
   "source": [
    "trainer.push_to_hub()"
   ]
  },
  {
   "cell_type": "markdown",
   "metadata": {
    "id": "RHIVc44_fY2N"
   },
   "source": [
    "You can now share this model with all your friends, family, favorite pets: they can all load it with the identifier \"your-username/the-name-you-picked\" so for instance:"
   ]
  },
  {
   "cell_type": "markdown",
   "metadata": {
    "id": "5lWWIKyBpx1h"
   },
   "source": [
    "```python\n",
    "from transformers import AutoModelForCTC, Wav2Vec2Processor\n",
    "\n",
    "model = AutoModelForCTC.from_pretrained(\"patrickvonplaten/wav2vec2-large-xls-r-300m-tr-colab\")\n",
    "processor = Wav2Vec2Processor.from_pretrained(\"patrickvonplaten/wav2vec2-large-xls-r-300m-tr-colab\")\n",
    "```"
   ]
  },
  {
   "cell_type": "markdown",
   "metadata": {
    "id": "pmi1cX0fRBit"
   },
   "source": [
    "For more examples of how XLS-R can be fine-tuned, please take a look at the [official speech recognition examples](https://github.com/huggingface/transformers/tree/master/examples/pytorch/speech-recognition#examples)."
   ]
  },
  {
   "cell_type": "markdown",
   "metadata": {
    "id": "L8b8Qkoy3KyS"
   },
   "source": [
    "### Evaluation\n",
    "\n",
    "As a final check, let's load the model and verify that it indeed has learned to transcribe Turkish speech.\n",
    "\n",
    "Let's first load the pretrained checkpoint."
   ]
  },
  {
   "cell_type": "code",
   "execution_count": null,
   "metadata": {
    "colab": {
     "background_save": true
    },
    "id": "R351I9IQp_9D",
    "outputId": "f2a2ee99-7db6-4962-e140-0107054102d3"
   },
   "outputs": [
    {
     "name": "stderr",
     "output_type": "stream",
     "text": [
      "loading configuration file wav2vec2-large-xls-r-300m-turkish-colab/config.json\n",
      "Model config Wav2Vec2Config {\n",
      "  \"_name_or_path\": \"facebook/wav2vec2-xls-r-300m\",\n",
      "  \"activation_dropout\": 0.0,\n",
      "  \"apply_spec_augment\": true,\n",
      "  \"architectures\": [\n",
      "    \"Wav2Vec2ForCTC\"\n",
      "  ],\n",
      "  \"attention_dropout\": 0.0,\n",
      "  \"bos_token_id\": 1,\n",
      "  \"classifier_proj_size\": 256,\n",
      "  \"codevector_dim\": 768,\n",
      "  \"contrastive_logits_temperature\": 0.1,\n",
      "  \"conv_bias\": true,\n",
      "  \"conv_dim\": [\n",
      "    512,\n",
      "    512,\n",
      "    512,\n",
      "    512,\n",
      "    512,\n",
      "    512,\n",
      "    512\n",
      "  ],\n",
      "  \"conv_kernel\": [\n",
      "    10,\n",
      "    3,\n",
      "    3,\n",
      "    3,\n",
      "    3,\n",
      "    2,\n",
      "    2\n",
      "  ],\n",
      "  \"conv_stride\": [\n",
      "    5,\n",
      "    2,\n",
      "    2,\n",
      "    2,\n",
      "    2,\n",
      "    2,\n",
      "    2\n",
      "  ],\n",
      "  \"ctc_loss_reduction\": \"mean\",\n",
      "  \"ctc_zero_infinity\": false,\n",
      "  \"diversity_loss_weight\": 0.1,\n",
      "  \"do_stable_layer_norm\": true,\n",
      "  \"eos_token_id\": 2,\n",
      "  \"feat_extract_activation\": \"gelu\",\n",
      "  \"feat_extract_dropout\": 0.0,\n",
      "  \"feat_extract_norm\": \"layer\",\n",
      "  \"feat_proj_dropout\": 0.0,\n",
      "  \"feat_quantizer_dropout\": 0.0,\n",
      "  \"final_dropout\": 0.0,\n",
      "  \"gradient_checkpointing\": false,\n",
      "  \"hidden_act\": \"gelu\",\n",
      "  \"hidden_dropout\": 0.0,\n",
      "  \"hidden_size\": 1024,\n",
      "  \"initializer_range\": 0.02,\n",
      "  \"intermediate_size\": 4096,\n",
      "  \"layer_norm_eps\": 1e-05,\n",
      "  \"layerdrop\": 0.0,\n",
      "  \"mask_feature_length\": 10,\n",
      "  \"mask_feature_prob\": 0.0,\n",
      "  \"mask_time_length\": 10,\n",
      "  \"mask_time_prob\": 0.05,\n",
      "  \"model_type\": \"wav2vec2\",\n",
      "  \"num_attention_heads\": 16,\n",
      "  \"num_codevector_groups\": 2,\n",
      "  \"num_codevectors_per_group\": 320,\n",
      "  \"num_conv_pos_embedding_groups\": 16,\n",
      "  \"num_conv_pos_embeddings\": 128,\n",
      "  \"num_feat_extract_layers\": 7,\n",
      "  \"num_hidden_layers\": 24,\n",
      "  \"num_negatives\": 100,\n",
      "  \"pad_token_id\": 36,\n",
      "  \"proj_codevector_dim\": 768,\n",
      "  \"torch_dtype\": \"float32\",\n",
      "  \"transformers_version\": \"4.11.3\",\n",
      "  \"use_weighted_layer_sum\": false,\n",
      "  \"vocab_size\": 39\n",
      "}\n",
      "\n",
      "loading weights file wav2vec2-large-xls-r-300m-turkish-colab/pytorch_model.bin\n",
      "All model checkpoint weights were used when initializing Wav2Vec2ForCTC.\n",
      "\n",
      "All the weights of Wav2Vec2ForCTC were initialized from the model checkpoint at wav2vec2-large-xls-r-300m-turkish-colab.\n",
      "If your task is similar to the task the model of the checkpoint was trained on, you can already use Wav2Vec2ForCTC for predictions without further training.\n",
      "loading feature extractor configuration file wav2vec2-large-xls-r-300m-turkish-colab/preprocessor_config.json\n",
      "Feature extractor Wav2Vec2FeatureExtractor {\n",
      "  \"do_normalize\": true,\n",
      "  \"feature_extractor_type\": \"Wav2Vec2FeatureExtractor\",\n",
      "  \"feature_size\": 1,\n",
      "  \"padding_side\": \"right\",\n",
      "  \"padding_value\": 0.0,\n",
      "  \"return_attention_mask\": true,\n",
      "  \"sampling_rate\": 16000\n",
      "}\n",
      "\n",
      "Didn't find file wav2vec2-large-xls-r-300m-turkish-colab/tokenizer.json. We won't load it.\n",
      "loading file wav2vec2-large-xls-r-300m-turkish-colab/vocab.json\n",
      "loading file wav2vec2-large-xls-r-300m-turkish-colab/tokenizer_config.json\n",
      "loading file wav2vec2-large-xls-r-300m-turkish-colab/added_tokens.json\n",
      "loading file wav2vec2-large-xls-r-300m-turkish-colab/special_tokens_map.json\n",
      "loading file None\n",
      "Adding <s> to the vocabulary\n",
      "Adding </s> to the vocabulary\n"
     ]
    }
   ],
   "source": [
    "model = Wav2Vec2ForCTC.from_pretrained(repo_name).to(\"cuda\")\n",
    "processor = Wav2Vec2Processor.from_pretrained(repo_name)"
   ]
  },
  {
   "cell_type": "markdown",
   "metadata": {
    "id": "jD7TZ1YS3S_K"
   },
   "source": [
    "\n",
    "Now, we will just take the first example of the test set, run it through the model and take the `argmax(...)` of the logits to retrieve the predicted token ids."
   ]
  },
  {
   "cell_type": "code",
   "execution_count": null,
   "metadata": {
    "colab": {
     "base_uri": "https://localhost:8080/"
    },
    "id": "pax07TnL3WZn",
    "outputId": "dfd34efd-1d26-457b-fc32-945045ab372f"
   },
   "outputs": [
    {
     "name": "stderr",
     "output_type": "stream",
     "text": [
      "It is strongly recommended to pass the ``sampling_rate`` argument to this function. Failing to do so can result in silent errors that might be hard to debug.\n"
     ]
    }
   ],
   "source": [
    "input_dict = processor(common_voice_test[0][\"input_values\"], return_tensors=\"pt\", padding=True)\n",
    "\n",
    "logits = trainer.model(input_dict.input_values.to(\"cuda\")).logits\n",
    "\n",
    "pred_ids = torch.argmax(logits, dim=-1)[0]"
   ]
  },
  {
   "cell_type": "markdown",
   "metadata": {
    "id": "7nkzSQu53Zs2"
   },
   "source": [
    "We adapted `common_voice_test` quite a bit so that the dataset instance does not contain the original sentence label anymore. Thus, we re-use the original dataset to get the label of the first example."
   ]
  },
  {
   "cell_type": "code",
   "execution_count": null,
   "metadata": {
    "colab": {
     "base_uri": "https://localhost:8080/",
     "height": 90,
     "referenced_widgets": [
      "85b97086c8a0488f8afede8fd4f4d0f6",
      "0094e0d1db594dd599cbebfc0f81704a",
      "49d273264f7b4a568331fe6775a16ad0",
      "5d6bb4fbd2d347169dd25e8b3c8b1511",
      "2a5ce6b4288e4e8382b8a02f5512f758",
      "95c47f7181eb40eea5b990287f4513a6",
      "f9bf001f7ec14f1686187e1e1d9bc199",
      "5cee16a882eb42a2860b45c87c275423",
      "05dce588acbe454f87e0086eec532172",
      "06c1b79cca594a02bfea6e78ab7e2e73",
      "b07acb3a06144ceeb4f54e4e36aa9de4",
      "eeebb21cd7db41a9b1ecfc94e8a2d01f",
      "3a4e274569f0445695598fa1e1c9bf32",
      "aa5c8b58bd954f2ba50b4f70bf1af27d",
      "e134cafb01ea4be19b86a0d43200d4e0",
      "a1d623f441d94105818e0b7b1ed85710",
      "dca8411f30924ccf8490982dacb5606a",
      "f1e7a0b8a9ac4868b79083ec7e46a357",
      "542cc8c9582645ee8401c9f825cc9f42",
      "2925b97597af4ed4993fa430238c38d0",
      "e59d92e40fc44e0db3eec2ad03ca7d5a",
      "06c35e99635b42c7af6fab22e8eda087",
      "888bee55d25e424c9759bdd787e29c0c",
      "326945b55ece4953aa57d8fc770fe9ae",
      "1081c221e66d4a1cb2f9d674c36f2ae7",
      "57c3cfc5e418425ba4445d60b2092105",
      "bd61e4bd547b48a4b8c1a9a1a5b27774",
      "e198710830ed4e3595632d9243e38e87",
      "bae30bd49fcb47f1b022fb932a8d3361",
      "3b821cd89b154e7990bc502db5a65ed8",
      "ea299eb076874ae39d53e72d13f0494d",
      "aa52c92efdac48b58a9850b1379a213c",
      "d131cebeddd34c759541e1890ecc041b",
      "67ecc2e97afb4b38b6ca5f15cb39499c",
      "0d3bbcb809474ff389c91066437d1db4",
      "dea8cd6b514c4c769442d1e58f8d596c",
      "7c8da41acf804f5a9441ddd85f4ccfed",
      "06ebeaaf8bc6406fbd1f8e3624223f64",
      "e7e0b83befff4091a586ebf0937fc1c1",
      "79503e64d6e1481bb42e0d22a133e1bc",
      "febd992820694c3a86e291553116546f",
      "977d293649574326a3103a7b4022d779",
      "69c14be91b114c27a5140e834800ba94",
      "beee813799a749d4bf8e8869d4a7a2e2",
      "0de009de7b814183887c7a14ef6959eb",
      "b37b68cf54d048b9a5c9e4f5bac1b0b2",
      "0c2fac6e2c2f4d7b8b72ff0f999acb1b",
      "709ca2db7d2041ad956e1d447e88b2cb",
      "5e5e48ae6a104b86b7fdc38b2b0d867b",
      "3948eb70c21a4a22808b512c6cf35f32",
      "d6e33ac3f4694137a292f2e5f24e2554",
      "5e6615059cde4493a5a9b7713887cba7",
      "f02924088bc14b0a8192ff16d9883521",
      "a967e53c5ff54254ba337f9c271080e0",
      "f77623a990f04603924ddb73533e27b7"
     ]
    },
    "id": "fe2AE-2xqKHx",
    "outputId": "146d9a9c-4846-4334-bcaa-f479e726b0ab"
   },
   "outputs": [
    {
     "name": "stderr",
     "output_type": "stream",
     "text": [
      "WARNING:datasets.builder:Using custom data configuration tr-00b7e43d66b8c1a3\n"
     ]
    },
    {
     "name": "stdout",
     "output_type": "stream",
     "text": [
      "Downloading and preparing dataset common_voice/tr (download: 592.09 MiB, generated: 232.03 MiB, post-processed: Unknown size, total: 824.12 MiB) to /root/.cache/huggingface/datasets/common_voice/tr-00b7e43d66b8c1a3/6.1.0/5693bfc0feeade582a78c2fb250bc88f52bd86f0a7f1bb22bfee67e715de30fd...\n"
     ]
    },
    {
     "data": {
      "application/vnd.jupyter.widget-view+json": {
       "model_id": "85b97086c8a0488f8afede8fd4f4d0f6",
       "version_major": 2,
       "version_minor": 0
      },
      "text/plain": [
       "0 examples [00:00, ? examples/s]"
      ]
     },
     "metadata": {},
     "output_type": "display_data"
    },
    {
     "data": {
      "application/vnd.jupyter.widget-view+json": {
       "model_id": "eeebb21cd7db41a9b1ecfc94e8a2d01f",
       "version_major": 2,
       "version_minor": 0
      },
      "text/plain": [
       "0 examples [00:00, ? examples/s]"
      ]
     },
     "metadata": {},
     "output_type": "display_data"
    },
    {
     "data": {
      "application/vnd.jupyter.widget-view+json": {
       "model_id": "888bee55d25e424c9759bdd787e29c0c",
       "version_major": 2,
       "version_minor": 0
      },
      "text/plain": [
       "0 examples [00:00, ? examples/s]"
      ]
     },
     "metadata": {},
     "output_type": "display_data"
    },
    {
     "data": {
      "application/vnd.jupyter.widget-view+json": {
       "model_id": "67ecc2e97afb4b38b6ca5f15cb39499c",
       "version_major": 2,
       "version_minor": 0
      },
      "text/plain": [
       "0 examples [00:00, ? examples/s]"
      ]
     },
     "metadata": {},
     "output_type": "display_data"
    },
    {
     "data": {
      "application/vnd.jupyter.widget-view+json": {
       "model_id": "0de009de7b814183887c7a14ef6959eb",
       "version_major": 2,
       "version_minor": 0
      },
      "text/plain": [
       "0 examples [00:00, ? examples/s]"
      ]
     },
     "metadata": {},
     "output_type": "display_data"
    },
    {
     "name": "stdout",
     "output_type": "stream",
     "text": [
      "Dataset common_voice downloaded and prepared to /root/.cache/huggingface/datasets/common_voice/tr-00b7e43d66b8c1a3/6.1.0/5693bfc0feeade582a78c2fb250bc88f52bd86f0a7f1bb22bfee67e715de30fd. Subsequent calls will reuse this data.\n"
     ]
    }
   ],
   "source": [
    "common_voice_test_transcription = load_dataset(\"common_voice\", \"tr\", data_dir=\"./cv-corpus-6.1-2020-12-11\", split=\"test\")"
   ]
  },
  {
   "cell_type": "markdown",
   "metadata": {
    "id": "epu8kCQZ3h70"
   },
   "source": [
    "\n",
    "Finally, we can decode the example."
   ]
  },
  {
   "cell_type": "code",
   "execution_count": null,
   "metadata": {
    "colab": {
     "base_uri": "https://localhost:8080/"
    },
    "id": "K4xWqmk_qMn0",
    "outputId": "62fb4f77-3e0b-4c35-b7d3-90b326efe569"
   },
   "outputs": [
    {
     "name": "stdout",
     "output_type": "stream",
     "text": [
      "Prediction:\n",
      "bipekçolda uroman taplumonmdan geleyor\n",
      "\n",
      "Reference:\n",
      "pek çoğu da roman toplumundan geliyor.\n"
     ]
    }
   ],
   "source": [
    "print(\"Prediction:\")\n",
    "print(processor.decode(pred_ids))\n",
    "\n",
    "print(\"\\nReference:\")\n",
    "print(common_voice_test_transcription[0][\"sentence\"].lower())"
   ]
  },
  {
   "cell_type": "markdown",
   "metadata": {
    "id": "HwhyoMml3oOT"
   },
   "source": [
    "Alright! The transcription can definitely be recognized from our prediction, but it is not perfect yet. Training the model a bit longer, spending more time on the data preprocessing, and especially using a language model for decoding would certainly improve the model's overall performance.\n",
    "\n",
    "For a demonstration model on a low-resource language, the results are quite acceptable however 🤗."
   ]
  }
 ],
 "metadata": {
  "accelerator": "GPU",
  "colab": {
   "machine_shape": "hm",
   "provenance": []
  },
  "kernelspec": {
   "display_name": "Python 3 (ipykernel)",
   "language": "python",
   "name": "python3"
  },
  "language_info": {
   "codemirror_mode": {
    "name": "ipython",
    "version": 3
   },
   "file_extension": ".py",
   "mimetype": "text/x-python",
   "name": "python",
   "nbconvert_exporter": "python",
   "pygments_lexer": "ipython3",
   "version": "3.9.6"
  },
  "widgets": {
   "application/vnd.jupyter.widget-state+json": {
    "0094e0d1db594dd599cbebfc0f81704a": {
     "model_module": "@jupyter-widgets/controls",
     "model_module_version": "1.5.0",
     "model_name": "HTMLModel",
     "state": {
      "_dom_classes": [],
      "_model_module": "@jupyter-widgets/controls",
      "_model_module_version": "1.5.0",
      "_model_name": "HTMLModel",
      "_view_count": null,
      "_view_module": "@jupyter-widgets/controls",
      "_view_module_version": "1.5.0",
      "_view_name": "HTMLView",
      "description": "",
      "description_tooltip": null,
      "layout": "IPY_MODEL_95c47f7181eb40eea5b990287f4513a6",
      "placeholder": "​",
      "style": "IPY_MODEL_f9bf001f7ec14f1686187e1e1d9bc199",
      "value": ""
     }
    },
    "017b646d1fd64ea6a13f2e6c91b45a4c": {
     "model_module": "@jupyter-widgets/controls",
     "model_module_version": "1.5.0",
     "model_name": "HBoxModel",
     "state": {
      "_dom_classes": [],
      "_model_module": "@jupyter-widgets/controls",
      "_model_module_version": "1.5.0",
      "_model_name": "HBoxModel",
      "_view_count": null,
      "_view_module": "@jupyter-widgets/controls",
      "_view_module_version": "1.5.0",
      "_view_name": "HBoxView",
      "box_style": "",
      "children": [
       "IPY_MODEL_8b535c74e9694015b571b93b9cb057fb",
       "IPY_MODEL_1cf54c194d2846c5b28d0977a04b47ed",
       "IPY_MODEL_f1b59daedaa249e3b29a6e19637b3dde"
      ],
      "layout": "IPY_MODEL_8f8c14e0898747118d55ba3a3b2da545"
     }
    },
    "02230985126147419df0ceb9c58c9310": {
     "model_module": "@jupyter-widgets/controls",
     "model_module_version": "1.5.0",
     "model_name": "HTMLModel",
     "state": {
      "_dom_classes": [],
      "_model_module": "@jupyter-widgets/controls",
      "_model_module_version": "1.5.0",
      "_model_name": "HTMLModel",
      "_view_count": null,
      "_view_module": "@jupyter-widgets/controls",
      "_view_module_version": "1.5.0",
      "_view_name": "HTMLView",
      "description": "",
      "description_tooltip": null,
      "layout": "IPY_MODEL_a8a3649aed3c48db86671e89d4164569",
      "placeholder": "​",
      "style": "IPY_MODEL_72bec3d91b624419895d262bb49dbdf9",
      "value": "Map: 100%"
     }
    },
    "03ec092dd6a34d03b103c5ed7c730233": {
     "model_module": "@jupyter-widgets/controls",
     "model_module_version": "1.5.0",
     "model_name": "FloatProgressModel",
     "state": {
      "_dom_classes": [],
      "_model_module": "@jupyter-widgets/controls",
      "_model_module_version": "1.5.0",
      "_model_name": "FloatProgressModel",
      "_view_count": null,
      "_view_module": "@jupyter-widgets/controls",
      "_view_module_version": "1.5.0",
      "_view_name": "ProgressView",
      "bar_style": "success",
      "description": "",
      "description_tooltip": null,
      "layout": "IPY_MODEL_298c1a5851dc4f1dbebceeaa7a5ba5d5",
      "max": 1901,
      "min": 0,
      "orientation": "horizontal",
      "style": "IPY_MODEL_ed2cb21d107348c1aed4fb7535939b3d",
      "value": 1901
     }
    },
    "05dce588acbe454f87e0086eec532172": {
     "model_module": "@jupyter-widgets/controls",
     "model_module_version": "1.5.0",
     "model_name": "ProgressStyleModel",
     "state": {
      "_model_module": "@jupyter-widgets/controls",
      "_model_module_version": "1.5.0",
      "_model_name": "ProgressStyleModel",
      "_view_count": null,
      "_view_module": "@jupyter-widgets/base",
      "_view_module_version": "1.2.0",
      "_view_name": "StyleView",
      "bar_color": null,
      "description_width": ""
     }
    },
    "06c1b79cca594a02bfea6e78ab7e2e73": {
     "model_module": "@jupyter-widgets/base",
     "model_module_version": "1.2.0",
     "model_name": "LayoutModel",
     "state": {
      "_model_module": "@jupyter-widgets/base",
      "_model_module_version": "1.2.0",
      "_model_name": "LayoutModel",
      "_view_count": null,
      "_view_module": "@jupyter-widgets/base",
      "_view_module_version": "1.2.0",
      "_view_name": "LayoutView",
      "align_content": null,
      "align_items": null,
      "align_self": null,
      "border": null,
      "bottom": null,
      "display": null,
      "flex": null,
      "flex_flow": null,
      "grid_area": null,
      "grid_auto_columns": null,
      "grid_auto_flow": null,
      "grid_auto_rows": null,
      "grid_column": null,
      "grid_gap": null,
      "grid_row": null,
      "grid_template_areas": null,
      "grid_template_columns": null,
      "grid_template_rows": null,
      "height": null,
      "justify_content": null,
      "justify_items": null,
      "left": null,
      "margin": null,
      "max_height": null,
      "max_width": null,
      "min_height": null,
      "min_width": null,
      "object_fit": null,
      "object_position": null,
      "order": null,
      "overflow": null,
      "overflow_x": null,
      "overflow_y": null,
      "padding": null,
      "right": null,
      "top": null,
      "visibility": null,
      "width": null
     }
    },
    "06c35e99635b42c7af6fab22e8eda087": {
     "model_module": "@jupyter-widgets/controls",
     "model_module_version": "1.5.0",
     "model_name": "DescriptionStyleModel",
     "state": {
      "_model_module": "@jupyter-widgets/controls",
      "_model_module_version": "1.5.0",
      "_model_name": "DescriptionStyleModel",
      "_view_count": null,
      "_view_module": "@jupyter-widgets/base",
      "_view_module_version": "1.2.0",
      "_view_name": "StyleView",
      "description_width": ""
     }
    },
    "06ebeaaf8bc6406fbd1f8e3624223f64": {
     "model_module": "@jupyter-widgets/base",
     "model_module_version": "1.2.0",
     "model_name": "LayoutModel",
     "state": {
      "_model_module": "@jupyter-widgets/base",
      "_model_module_version": "1.2.0",
      "_model_name": "LayoutModel",
      "_view_count": null,
      "_view_module": "@jupyter-widgets/base",
      "_view_module_version": "1.2.0",
      "_view_name": "LayoutView",
      "align_content": null,
      "align_items": null,
      "align_self": null,
      "border": null,
      "bottom": null,
      "display": null,
      "flex": null,
      "flex_flow": null,
      "grid_area": null,
      "grid_auto_columns": null,
      "grid_auto_flow": null,
      "grid_auto_rows": null,
      "grid_column": null,
      "grid_gap": null,
      "grid_row": null,
      "grid_template_areas": null,
      "grid_template_columns": null,
      "grid_template_rows": null,
      "height": null,
      "justify_content": null,
      "justify_items": null,
      "left": null,
      "margin": null,
      "max_height": null,
      "max_width": null,
      "min_height": null,
      "min_width": null,
      "object_fit": null,
      "object_position": null,
      "order": null,
      "overflow": null,
      "overflow_x": null,
      "overflow_y": null,
      "padding": null,
      "right": null,
      "top": null,
      "visibility": "hidden",
      "width": null
     }
    },
    "076c18983b804526949e8c465e1f1953": {
     "model_module": "@jupyter-widgets/controls",
     "model_module_version": "1.5.0",
     "model_name": "ProgressStyleModel",
     "state": {
      "_model_module": "@jupyter-widgets/controls",
      "_model_module_version": "1.5.0",
      "_model_name": "ProgressStyleModel",
      "_view_count": null,
      "_view_module": "@jupyter-widgets/base",
      "_view_module_version": "1.2.0",
      "_view_name": "StyleView",
      "bar_color": null,
      "description_width": ""
     }
    },
    "07a3fdf82c58442d8c19083b7ac0cf96": {
     "model_module": "@jupyter-widgets/controls",
     "model_module_version": "1.5.0",
     "model_name": "DescriptionStyleModel",
     "state": {
      "_model_module": "@jupyter-widgets/controls",
      "_model_module_version": "1.5.0",
      "_model_name": "DescriptionStyleModel",
      "_view_count": null,
      "_view_module": "@jupyter-widgets/base",
      "_view_module_version": "1.2.0",
      "_view_name": "StyleView",
      "description_width": ""
     }
    },
    "0c01a04a8a924740af301c5c53a51315": {
     "model_module": "@jupyter-widgets/base",
     "model_module_version": "1.2.0",
     "model_name": "LayoutModel",
     "state": {
      "_model_module": "@jupyter-widgets/base",
      "_model_module_version": "1.2.0",
      "_model_name": "LayoutModel",
      "_view_count": null,
      "_view_module": "@jupyter-widgets/base",
      "_view_module_version": "1.2.0",
      "_view_name": "LayoutView",
      "align_content": null,
      "align_items": null,
      "align_self": null,
      "border": null,
      "bottom": null,
      "display": null,
      "flex": null,
      "flex_flow": null,
      "grid_area": null,
      "grid_auto_columns": null,
      "grid_auto_flow": null,
      "grid_auto_rows": null,
      "grid_column": null,
      "grid_gap": null,
      "grid_row": null,
      "grid_template_areas": null,
      "grid_template_columns": null,
      "grid_template_rows": null,
      "height": null,
      "justify_content": null,
      "justify_items": null,
      "left": null,
      "margin": null,
      "max_height": null,
      "max_width": null,
      "min_height": null,
      "min_width": null,
      "object_fit": null,
      "object_position": null,
      "order": null,
      "overflow": null,
      "overflow_x": null,
      "overflow_y": null,
      "padding": null,
      "right": null,
      "top": null,
      "visibility": null,
      "width": null
     }
    },
    "0c2fac6e2c2f4d7b8b72ff0f999acb1b": {
     "model_module": "@jupyter-widgets/controls",
     "model_module_version": "1.5.0",
     "model_name": "FloatProgressModel",
     "state": {
      "_dom_classes": [],
      "_model_module": "@jupyter-widgets/controls",
      "_model_module_version": "1.5.0",
      "_model_name": "FloatProgressModel",
      "_view_count": null,
      "_view_module": "@jupyter-widgets/controls",
      "_view_module_version": "1.5.0",
      "_view_name": "ProgressView",
      "bar_style": "info",
      "description": "",
      "description_tooltip": null,
      "layout": "IPY_MODEL_5e6615059cde4493a5a9b7713887cba7",
      "max": 1,
      "min": 0,
      "orientation": "horizontal",
      "style": "IPY_MODEL_f02924088bc14b0a8192ff16d9883521",
      "value": 1
     }
    },
    "0c675b0b6cc540668f2d42459250bf28": {
     "model_module": "@jupyter-widgets/base",
     "model_module_version": "1.2.0",
     "model_name": "LayoutModel",
     "state": {
      "_model_module": "@jupyter-widgets/base",
      "_model_module_version": "1.2.0",
      "_model_name": "LayoutModel",
      "_view_count": null,
      "_view_module": "@jupyter-widgets/base",
      "_view_module_version": "1.2.0",
      "_view_name": "LayoutView",
      "align_content": null,
      "align_items": null,
      "align_self": null,
      "border": null,
      "bottom": null,
      "display": null,
      "flex": null,
      "flex_flow": null,
      "grid_area": null,
      "grid_auto_columns": null,
      "grid_auto_flow": null,
      "grid_auto_rows": null,
      "grid_column": null,
      "grid_gap": null,
      "grid_row": null,
      "grid_template_areas": null,
      "grid_template_columns": null,
      "grid_template_rows": null,
      "height": null,
      "justify_content": null,
      "justify_items": null,
      "left": null,
      "margin": null,
      "max_height": null,
      "max_width": null,
      "min_height": null,
      "min_width": null,
      "object_fit": null,
      "object_position": null,
      "order": null,
      "overflow": null,
      "overflow_x": null,
      "overflow_y": null,
      "padding": null,
      "right": null,
      "top": null,
      "visibility": null,
      "width": null
     }
    },
    "0d3bbcb809474ff389c91066437d1db4": {
     "model_module": "@jupyter-widgets/controls",
     "model_module_version": "1.5.0",
     "model_name": "HTMLModel",
     "state": {
      "_dom_classes": [],
      "_model_module": "@jupyter-widgets/controls",
      "_model_module_version": "1.5.0",
      "_model_name": "HTMLModel",
      "_view_count": null,
      "_view_module": "@jupyter-widgets/controls",
      "_view_module_version": "1.5.0",
      "_view_name": "HTMLView",
      "description": "",
      "description_tooltip": null,
      "layout": "IPY_MODEL_e7e0b83befff4091a586ebf0937fc1c1",
      "placeholder": "​",
      "style": "IPY_MODEL_79503e64d6e1481bb42e0d22a133e1bc",
      "value": ""
     }
    },
    "0d461b095507416199d7d6cbeac33de0": {
     "model_module": "@jupyter-widgets/controls",
     "model_module_version": "1.5.0",
     "model_name": "HTMLModel",
     "state": {
      "_dom_classes": [],
      "_model_module": "@jupyter-widgets/controls",
      "_model_module_version": "1.5.0",
      "_model_name": "HTMLModel",
      "_view_count": null,
      "_view_module": "@jupyter-widgets/controls",
      "_view_module_version": "1.5.0",
      "_view_name": "HTMLView",
      "description": "",
      "description_tooltip": null,
      "layout": "IPY_MODEL_246c5d2ccf9f4ae3a2ab6717ea122ffa",
      "placeholder": "​",
      "style": "IPY_MODEL_c884884b261342f49d66295d103788ff",
      "value": "Downloading (…)lve/main/config.json: 100%"
     }
    },
    "0d986e27988d4e668d06bb2d3fe5cbc1": {
     "model_module": "@jupyter-widgets/base",
     "model_module_version": "1.2.0",
     "model_name": "LayoutModel",
     "state": {
      "_model_module": "@jupyter-widgets/base",
      "_model_module_version": "1.2.0",
      "_model_name": "LayoutModel",
      "_view_count": null,
      "_view_module": "@jupyter-widgets/base",
      "_view_module_version": "1.2.0",
      "_view_name": "LayoutView",
      "align_content": null,
      "align_items": null,
      "align_self": null,
      "border": null,
      "bottom": null,
      "display": null,
      "flex": null,
      "flex_flow": null,
      "grid_area": null,
      "grid_auto_columns": null,
      "grid_auto_flow": null,
      "grid_auto_rows": null,
      "grid_column": null,
      "grid_gap": null,
      "grid_row": null,
      "grid_template_areas": null,
      "grid_template_columns": null,
      "grid_template_rows": null,
      "height": null,
      "justify_content": null,
      "justify_items": null,
      "left": null,
      "margin": null,
      "max_height": null,
      "max_width": null,
      "min_height": null,
      "min_width": null,
      "object_fit": null,
      "object_position": null,
      "order": null,
      "overflow": null,
      "overflow_x": null,
      "overflow_y": null,
      "padding": null,
      "right": null,
      "top": null,
      "visibility": null,
      "width": null
     }
    },
    "0de009de7b814183887c7a14ef6959eb": {
     "model_module": "@jupyter-widgets/controls",
     "model_module_version": "1.5.0",
     "model_name": "HBoxModel",
     "state": {
      "_dom_classes": [],
      "_model_module": "@jupyter-widgets/controls",
      "_model_module_version": "1.5.0",
      "_model_name": "HBoxModel",
      "_view_count": null,
      "_view_module": "@jupyter-widgets/controls",
      "_view_module_version": "1.5.0",
      "_view_name": "HBoxView",
      "box_style": "",
      "children": [
       "IPY_MODEL_b37b68cf54d048b9a5c9e4f5bac1b0b2",
       "IPY_MODEL_0c2fac6e2c2f4d7b8b72ff0f999acb1b",
       "IPY_MODEL_709ca2db7d2041ad956e1d447e88b2cb"
      ],
      "layout": "IPY_MODEL_5e5e48ae6a104b86b7fdc38b2b0d867b"
     }
    },
    "1081c221e66d4a1cb2f9d674c36f2ae7": {
     "model_module": "@jupyter-widgets/controls",
     "model_module_version": "1.5.0",
     "model_name": "FloatProgressModel",
     "state": {
      "_dom_classes": [],
      "_model_module": "@jupyter-widgets/controls",
      "_model_module_version": "1.5.0",
      "_model_name": "FloatProgressModel",
      "_view_count": null,
      "_view_module": "@jupyter-widgets/controls",
      "_view_module_version": "1.5.0",
      "_view_name": "ProgressView",
      "bar_style": "info",
      "description": "",
      "description_tooltip": null,
      "layout": "IPY_MODEL_3b821cd89b154e7990bc502db5a65ed8",
      "max": 1,
      "min": 0,
      "orientation": "horizontal",
      "style": "IPY_MODEL_ea299eb076874ae39d53e72d13f0494d",
      "value": 1
     }
    },
    "1548e9653a4d443391aae6c9ab81b0e5": {
     "model_module": "@jupyter-widgets/controls",
     "model_module_version": "1.5.0",
     "model_name": "DescriptionStyleModel",
     "state": {
      "_model_module": "@jupyter-widgets/controls",
      "_model_module_version": "1.5.0",
      "_model_name": "DescriptionStyleModel",
      "_view_count": null,
      "_view_module": "@jupyter-widgets/base",
      "_view_module_version": "1.2.0",
      "_view_name": "StyleView",
      "description_width": ""
     }
    },
    "15f8964842df434ca0dee00d7dc1bd9a": {
     "model_module": "@jupyter-widgets/controls",
     "model_module_version": "1.5.0",
     "model_name": "DescriptionStyleModel",
     "state": {
      "_model_module": "@jupyter-widgets/controls",
      "_model_module_version": "1.5.0",
      "_model_name": "DescriptionStyleModel",
      "_view_count": null,
      "_view_module": "@jupyter-widgets/base",
      "_view_module_version": "1.2.0",
      "_view_name": "StyleView",
      "description_width": ""
     }
    },
    "1718ccea468d4f63abf597204eb62564": {
     "model_module": "@jupyter-widgets/controls",
     "model_module_version": "1.5.0",
     "model_name": "FloatProgressModel",
     "state": {
      "_dom_classes": [],
      "_model_module": "@jupyter-widgets/controls",
      "_model_module_version": "1.5.0",
      "_model_name": "FloatProgressModel",
      "_view_count": null,
      "_view_module": "@jupyter-widgets/controls",
      "_view_module_version": "1.5.0",
      "_view_name": "ProgressView",
      "bar_style": "success",
      "description": "",
      "description_tooltip": null,
      "layout": "IPY_MODEL_bb6b428abfaa41c0931a2d0d467aab26",
      "max": 3478,
      "min": 0,
      "orientation": "horizontal",
      "style": "IPY_MODEL_6a02af1a7c184f2e872ced5616251037",
      "value": 3478
     }
    },
    "1cf54c194d2846c5b28d0977a04b47ed": {
     "model_module": "@jupyter-widgets/controls",
     "model_module_version": "1.5.0",
     "model_name": "FloatProgressModel",
     "state": {
      "_dom_classes": [],
      "_model_module": "@jupyter-widgets/controls",
      "_model_module_version": "1.5.0",
      "_model_name": "FloatProgressModel",
      "_view_count": null,
      "_view_module": "@jupyter-widgets/controls",
      "_view_module_version": "1.5.0",
      "_view_name": "ProgressView",
      "bar_style": "success",
      "description": "",
      "description_tooltip": null,
      "layout": "IPY_MODEL_cef344a32778427d9841c6a680ba60b1",
      "max": 3478,
      "min": 0,
      "orientation": "horizontal",
      "style": "IPY_MODEL_4131fdadd9a44b71b948a8274fbbed30",
      "value": 3478
     }
    },
    "1d019419bbc7424e938841fa82d6de9f": {
     "model_module": "@jupyter-widgets/controls",
     "model_module_version": "1.5.0",
     "model_name": "ProgressStyleModel",
     "state": {
      "_model_module": "@jupyter-widgets/controls",
      "_model_module_version": "1.5.0",
      "_model_name": "ProgressStyleModel",
      "_view_count": null,
      "_view_module": "@jupyter-widgets/base",
      "_view_module_version": "1.2.0",
      "_view_name": "StyleView",
      "bar_color": null,
      "description_width": ""
     }
    },
    "1ed0f89c1fed45f5a98d489792f209a4": {
     "model_module": "@jupyter-widgets/controls",
     "model_module_version": "1.5.0",
     "model_name": "HTMLModel",
     "state": {
      "_dom_classes": [],
      "_model_module": "@jupyter-widgets/controls",
      "_model_module_version": "1.5.0",
      "_model_name": "HTMLModel",
      "_view_count": null,
      "_view_module": "@jupyter-widgets/controls",
      "_view_module_version": "1.5.0",
      "_view_name": "HTMLView",
      "description": "",
      "description_tooltip": null,
      "layout": "IPY_MODEL_d7d441b251d04968af517da9204952ae",
      "placeholder": "​",
      "style": "IPY_MODEL_e3f4b39015ec4affbf1412b8cc8ad651",
      "value": "Map: 100%"
     }
    },
    "209696b426ed4638a77abd48c95a12e7": {
     "model_module": "@jupyter-widgets/base",
     "model_module_version": "1.2.0",
     "model_name": "LayoutModel",
     "state": {
      "_model_module": "@jupyter-widgets/base",
      "_model_module_version": "1.2.0",
      "_model_name": "LayoutModel",
      "_view_count": null,
      "_view_module": "@jupyter-widgets/base",
      "_view_module_version": "1.2.0",
      "_view_name": "LayoutView",
      "align_content": null,
      "align_items": null,
      "align_self": null,
      "border": null,
      "bottom": null,
      "display": null,
      "flex": null,
      "flex_flow": null,
      "grid_area": null,
      "grid_auto_columns": null,
      "grid_auto_flow": null,
      "grid_auto_rows": null,
      "grid_column": null,
      "grid_gap": null,
      "grid_row": null,
      "grid_template_areas": null,
      "grid_template_columns": null,
      "grid_template_rows": null,
      "height": null,
      "justify_content": null,
      "justify_items": null,
      "left": null,
      "margin": null,
      "max_height": null,
      "max_width": null,
      "min_height": null,
      "min_width": null,
      "object_fit": null,
      "object_position": null,
      "order": null,
      "overflow": null,
      "overflow_x": null,
      "overflow_y": null,
      "padding": null,
      "right": null,
      "top": null,
      "visibility": null,
      "width": null
     }
    },
    "2208cf44c3d24f5aa3f0e2e2fb0997da": {
     "model_module": "@jupyter-widgets/controls",
     "model_module_version": "1.5.0",
     "model_name": "HTMLModel",
     "state": {
      "_dom_classes": [],
      "_model_module": "@jupyter-widgets/controls",
      "_model_module_version": "1.5.0",
      "_model_name": "HTMLModel",
      "_view_count": null,
      "_view_module": "@jupyter-widgets/controls",
      "_view_module_version": "1.5.0",
      "_view_name": "HTMLView",
      "description": "",
      "description_tooltip": null,
      "layout": "IPY_MODEL_e9c3ae3c94a54a0fb033bad9f6ddb033",
      "placeholder": "​",
      "style": "IPY_MODEL_29ef7da6a1c041a99837569fdc6f6ad3",
      "value": " 1647/1647 [00:00&lt;00:00, 12735.34 examples/s]"
     }
    },
    "2407f4308df64988988093720783f3bd": {
     "model_module": "@jupyter-widgets/controls",
     "model_module_version": "1.5.0",
     "model_name": "DescriptionStyleModel",
     "state": {
      "_model_module": "@jupyter-widgets/controls",
      "_model_module_version": "1.5.0",
      "_model_name": "DescriptionStyleModel",
      "_view_count": null,
      "_view_module": "@jupyter-widgets/base",
      "_view_module_version": "1.2.0",
      "_view_name": "StyleView",
      "description_width": ""
     }
    },
    "246c5d2ccf9f4ae3a2ab6717ea122ffa": {
     "model_module": "@jupyter-widgets/base",
     "model_module_version": "1.2.0",
     "model_name": "LayoutModel",
     "state": {
      "_model_module": "@jupyter-widgets/base",
      "_model_module_version": "1.2.0",
      "_model_name": "LayoutModel",
      "_view_count": null,
      "_view_module": "@jupyter-widgets/base",
      "_view_module_version": "1.2.0",
      "_view_name": "LayoutView",
      "align_content": null,
      "align_items": null,
      "align_self": null,
      "border": null,
      "bottom": null,
      "display": null,
      "flex": null,
      "flex_flow": null,
      "grid_area": null,
      "grid_auto_columns": null,
      "grid_auto_flow": null,
      "grid_auto_rows": null,
      "grid_column": null,
      "grid_gap": null,
      "grid_row": null,
      "grid_template_areas": null,
      "grid_template_columns": null,
      "grid_template_rows": null,
      "height": null,
      "justify_content": null,
      "justify_items": null,
      "left": null,
      "margin": null,
      "max_height": null,
      "max_width": null,
      "min_height": null,
      "min_width": null,
      "object_fit": null,
      "object_position": null,
      "order": null,
      "overflow": null,
      "overflow_x": null,
      "overflow_y": null,
      "padding": null,
      "right": null,
      "top": null,
      "visibility": null,
      "width": null
     }
    },
    "26bf8a70fe5449a99ca1b06430b2fc8f": {
     "model_module": "@jupyter-widgets/controls",
     "model_module_version": "1.5.0",
     "model_name": "HTMLModel",
     "state": {
      "_dom_classes": [],
      "_model_module": "@jupyter-widgets/controls",
      "_model_module_version": "1.5.0",
      "_model_name": "HTMLModel",
      "_view_count": null,
      "_view_module": "@jupyter-widgets/controls",
      "_view_module_version": "1.5.0",
      "_view_name": "HTMLView",
      "description": "",
      "description_tooltip": null,
      "layout": "IPY_MODEL_0c01a04a8a924740af301c5c53a51315",
      "placeholder": "​",
      "style": "IPY_MODEL_15f8964842df434ca0dee00d7dc1bd9a",
      "value": "<center>\n<img src=https://huggingface.co/front/assets/huggingface_logo-noborder.svg alt='Hugging Face'>\n<br>\n<b>The AI community building the future</b>\n<br>\nImmediately click login after typing your password or it might be stored in plain text in this notebook file.\n</center>"
     }
    },
    "26c90805f82046a58bec996615c59567": {
     "model_module": "@jupyter-widgets/controls",
     "model_module_version": "1.5.0",
     "model_name": "DescriptionStyleModel",
     "state": {
      "_model_module": "@jupyter-widgets/controls",
      "_model_module_version": "1.5.0",
      "_model_name": "DescriptionStyleModel",
      "_view_count": null,
      "_view_module": "@jupyter-widgets/base",
      "_view_module_version": "1.2.0",
      "_view_name": "StyleView",
      "description_width": ""
     }
    },
    "2925b97597af4ed4993fa430238c38d0": {
     "model_module": "@jupyter-widgets/controls",
     "model_module_version": "1.5.0",
     "model_name": "ProgressStyleModel",
     "state": {
      "_model_module": "@jupyter-widgets/controls",
      "_model_module_version": "1.5.0",
      "_model_name": "ProgressStyleModel",
      "_view_count": null,
      "_view_module": "@jupyter-widgets/base",
      "_view_module_version": "1.2.0",
      "_view_name": "StyleView",
      "bar_color": null,
      "description_width": ""
     }
    },
    "298c1a5851dc4f1dbebceeaa7a5ba5d5": {
     "model_module": "@jupyter-widgets/base",
     "model_module_version": "1.2.0",
     "model_name": "LayoutModel",
     "state": {
      "_model_module": "@jupyter-widgets/base",
      "_model_module_version": "1.2.0",
      "_model_name": "LayoutModel",
      "_view_count": null,
      "_view_module": "@jupyter-widgets/base",
      "_view_module_version": "1.2.0",
      "_view_name": "LayoutView",
      "align_content": null,
      "align_items": null,
      "align_self": null,
      "border": null,
      "bottom": null,
      "display": null,
      "flex": null,
      "flex_flow": null,
      "grid_area": null,
      "grid_auto_columns": null,
      "grid_auto_flow": null,
      "grid_auto_rows": null,
      "grid_column": null,
      "grid_gap": null,
      "grid_row": null,
      "grid_template_areas": null,
      "grid_template_columns": null,
      "grid_template_rows": null,
      "height": null,
      "justify_content": null,
      "justify_items": null,
      "left": null,
      "margin": null,
      "max_height": null,
      "max_width": null,
      "min_height": null,
      "min_width": null,
      "object_fit": null,
      "object_position": null,
      "order": null,
      "overflow": null,
      "overflow_x": null,
      "overflow_y": null,
      "padding": null,
      "right": null,
      "top": null,
      "visibility": null,
      "width": null
     }
    },
    "29ef7da6a1c041a99837569fdc6f6ad3": {
     "model_module": "@jupyter-widgets/controls",
     "model_module_version": "1.5.0",
     "model_name": "DescriptionStyleModel",
     "state": {
      "_model_module": "@jupyter-widgets/controls",
      "_model_module_version": "1.5.0",
      "_model_name": "DescriptionStyleModel",
      "_view_count": null,
      "_view_module": "@jupyter-widgets/base",
      "_view_module_version": "1.2.0",
      "_view_name": "StyleView",
      "description_width": ""
     }
    },
    "2a5ce6b4288e4e8382b8a02f5512f758": {
     "model_module": "@jupyter-widgets/base",
     "model_module_version": "1.2.0",
     "model_name": "LayoutModel",
     "state": {
      "_model_module": "@jupyter-widgets/base",
      "_model_module_version": "1.2.0",
      "_model_name": "LayoutModel",
      "_view_count": null,
      "_view_module": "@jupyter-widgets/base",
      "_view_module_version": "1.2.0",
      "_view_name": "LayoutView",
      "align_content": null,
      "align_items": null,
      "align_self": null,
      "border": null,
      "bottom": null,
      "display": null,
      "flex": null,
      "flex_flow": null,
      "grid_area": null,
      "grid_auto_columns": null,
      "grid_auto_flow": null,
      "grid_auto_rows": null,
      "grid_column": null,
      "grid_gap": null,
      "grid_row": null,
      "grid_template_areas": null,
      "grid_template_columns": null,
      "grid_template_rows": null,
      "height": null,
      "justify_content": null,
      "justify_items": null,
      "left": null,
      "margin": null,
      "max_height": null,
      "max_width": null,
      "min_height": null,
      "min_width": null,
      "object_fit": null,
      "object_position": null,
      "order": null,
      "overflow": null,
      "overflow_x": null,
      "overflow_y": null,
      "padding": null,
      "right": null,
      "top": null,
      "visibility": "hidden",
      "width": null
     }
    },
    "2bfeaac8246049b18b86eaad419c3a7a": {
     "model_module": "@jupyter-widgets/base",
     "model_module_version": "1.2.0",
     "model_name": "LayoutModel",
     "state": {
      "_model_module": "@jupyter-widgets/base",
      "_model_module_version": "1.2.0",
      "_model_name": "LayoutModel",
      "_view_count": null,
      "_view_module": "@jupyter-widgets/base",
      "_view_module_version": "1.2.0",
      "_view_name": "LayoutView",
      "align_content": null,
      "align_items": null,
      "align_self": null,
      "border": null,
      "bottom": null,
      "display": null,
      "flex": null,
      "flex_flow": null,
      "grid_area": null,
      "grid_auto_columns": null,
      "grid_auto_flow": null,
      "grid_auto_rows": null,
      "grid_column": null,
      "grid_gap": null,
      "grid_row": null,
      "grid_template_areas": null,
      "grid_template_columns": null,
      "grid_template_rows": null,
      "height": null,
      "justify_content": null,
      "justify_items": null,
      "left": null,
      "margin": null,
      "max_height": null,
      "max_width": null,
      "min_height": null,
      "min_width": null,
      "object_fit": null,
      "object_position": null,
      "order": null,
      "overflow": null,
      "overflow_x": null,
      "overflow_y": null,
      "padding": null,
      "right": null,
      "top": null,
      "visibility": null,
      "width": null
     }
    },
    "2d4eb3e5acc348948299c506db83ca90": {
     "model_module": "@jupyter-widgets/controls",
     "model_module_version": "1.5.0",
     "model_name": "ButtonModel",
     "state": {
      "_dom_classes": [],
      "_model_module": "@jupyter-widgets/controls",
      "_model_module_version": "1.5.0",
      "_model_name": "ButtonModel",
      "_view_count": null,
      "_view_module": "@jupyter-widgets/controls",
      "_view_module_version": "1.5.0",
      "_view_name": "ButtonView",
      "button_style": "",
      "description": "Login",
      "disabled": false,
      "icon": "",
      "layout": "IPY_MODEL_d11d94912b26401a860c80eba767907a",
      "style": "IPY_MODEL_6dd7aa6b17b34d18ba46d834ffd559bc",
      "tooltip": ""
     }
    },
    "30de3fbc22dc42e8ae16ae701577bfc1": {
     "model_module": "@jupyter-widgets/controls",
     "model_module_version": "1.5.0",
     "model_name": "DescriptionStyleModel",
     "state": {
      "_model_module": "@jupyter-widgets/controls",
      "_model_module_version": "1.5.0",
      "_model_name": "DescriptionStyleModel",
      "_view_count": null,
      "_view_module": "@jupyter-widgets/base",
      "_view_module_version": "1.2.0",
      "_view_name": "StyleView",
      "description_width": ""
     }
    },
    "325c9c73cd8b43bdb6f1d38ff79218a2": {
     "model_module": "@jupyter-widgets/controls",
     "model_module_version": "1.5.0",
     "model_name": "HTMLModel",
     "state": {
      "_dom_classes": [],
      "_model_module": "@jupyter-widgets/controls",
      "_model_module_version": "1.5.0",
      "_model_name": "HTMLModel",
      "_view_count": null,
      "_view_module": "@jupyter-widgets/controls",
      "_view_module_version": "1.5.0",
      "_view_name": "HTMLView",
      "description": "",
      "description_tooltip": null,
      "layout": "IPY_MODEL_2bfeaac8246049b18b86eaad419c3a7a",
      "placeholder": "​",
      "style": "IPY_MODEL_07a3fdf82c58442d8c19083b7ac0cf96",
      "value": "Map: 100%"
     }
    },
    "326945b55ece4953aa57d8fc770fe9ae": {
     "model_module": "@jupyter-widgets/controls",
     "model_module_version": "1.5.0",
     "model_name": "HTMLModel",
     "state": {
      "_dom_classes": [],
      "_model_module": "@jupyter-widgets/controls",
      "_model_module_version": "1.5.0",
      "_model_name": "HTMLModel",
      "_view_count": null,
      "_view_module": "@jupyter-widgets/controls",
      "_view_module_version": "1.5.0",
      "_view_name": "HTMLView",
      "description": "",
      "description_tooltip": null,
      "layout": "IPY_MODEL_e198710830ed4e3595632d9243e38e87",
      "placeholder": "​",
      "style": "IPY_MODEL_bae30bd49fcb47f1b022fb932a8d3361",
      "value": ""
     }
    },
    "384228b409cb4bb0bbd77ef259b9a568": {
     "model_module": "@jupyter-widgets/base",
     "model_module_version": "1.2.0",
     "model_name": "LayoutModel",
     "state": {
      "_model_module": "@jupyter-widgets/base",
      "_model_module_version": "1.2.0",
      "_model_name": "LayoutModel",
      "_view_count": null,
      "_view_module": "@jupyter-widgets/base",
      "_view_module_version": "1.2.0",
      "_view_name": "LayoutView",
      "align_content": null,
      "align_items": "center",
      "align_self": null,
      "border": null,
      "bottom": null,
      "display": "flex",
      "flex": null,
      "flex_flow": "column",
      "grid_area": null,
      "grid_auto_columns": null,
      "grid_auto_flow": null,
      "grid_auto_rows": null,
      "grid_column": null,
      "grid_gap": null,
      "grid_row": null,
      "grid_template_areas": null,
      "grid_template_columns": null,
      "grid_template_rows": null,
      "height": null,
      "justify_content": null,
      "justify_items": null,
      "left": null,
      "margin": null,
      "max_height": null,
      "max_width": null,
      "min_height": null,
      "min_width": null,
      "object_fit": null,
      "object_position": null,
      "order": null,
      "overflow": null,
      "overflow_x": null,
      "overflow_y": null,
      "padding": null,
      "right": null,
      "top": null,
      "visibility": null,
      "width": "50%"
     }
    },
    "3948eb70c21a4a22808b512c6cf35f32": {
     "model_module": "@jupyter-widgets/base",
     "model_module_version": "1.2.0",
     "model_name": "LayoutModel",
     "state": {
      "_model_module": "@jupyter-widgets/base",
      "_model_module_version": "1.2.0",
      "_model_name": "LayoutModel",
      "_view_count": null,
      "_view_module": "@jupyter-widgets/base",
      "_view_module_version": "1.2.0",
      "_view_name": "LayoutView",
      "align_content": null,
      "align_items": null,
      "align_self": null,
      "border": null,
      "bottom": null,
      "display": null,
      "flex": null,
      "flex_flow": null,
      "grid_area": null,
      "grid_auto_columns": null,
      "grid_auto_flow": null,
      "grid_auto_rows": null,
      "grid_column": null,
      "grid_gap": null,
      "grid_row": null,
      "grid_template_areas": null,
      "grid_template_columns": null,
      "grid_template_rows": null,
      "height": null,
      "justify_content": null,
      "justify_items": null,
      "left": null,
      "margin": null,
      "max_height": null,
      "max_width": null,
      "min_height": null,
      "min_width": null,
      "object_fit": null,
      "object_position": null,
      "order": null,
      "overflow": null,
      "overflow_x": null,
      "overflow_y": null,
      "padding": null,
      "right": null,
      "top": null,
      "visibility": null,
      "width": null
     }
    },
    "3a4e274569f0445695598fa1e1c9bf32": {
     "model_module": "@jupyter-widgets/controls",
     "model_module_version": "1.5.0",
     "model_name": "HTMLModel",
     "state": {
      "_dom_classes": [],
      "_model_module": "@jupyter-widgets/controls",
      "_model_module_version": "1.5.0",
      "_model_name": "HTMLModel",
      "_view_count": null,
      "_view_module": "@jupyter-widgets/controls",
      "_view_module_version": "1.5.0",
      "_view_name": "HTMLView",
      "description": "",
      "description_tooltip": null,
      "layout": "IPY_MODEL_dca8411f30924ccf8490982dacb5606a",
      "placeholder": "​",
      "style": "IPY_MODEL_f1e7a0b8a9ac4868b79083ec7e46a357",
      "value": ""
     }
    },
    "3b821cd89b154e7990bc502db5a65ed8": {
     "model_module": "@jupyter-widgets/base",
     "model_module_version": "1.2.0",
     "model_name": "LayoutModel",
     "state": {
      "_model_module": "@jupyter-widgets/base",
      "_model_module_version": "1.2.0",
      "_model_name": "LayoutModel",
      "_view_count": null,
      "_view_module": "@jupyter-widgets/base",
      "_view_module_version": "1.2.0",
      "_view_name": "LayoutView",
      "align_content": null,
      "align_items": null,
      "align_self": null,
      "border": null,
      "bottom": null,
      "display": null,
      "flex": null,
      "flex_flow": null,
      "grid_area": null,
      "grid_auto_columns": null,
      "grid_auto_flow": null,
      "grid_auto_rows": null,
      "grid_column": null,
      "grid_gap": null,
      "grid_row": null,
      "grid_template_areas": null,
      "grid_template_columns": null,
      "grid_template_rows": null,
      "height": null,
      "justify_content": null,
      "justify_items": null,
      "left": null,
      "margin": null,
      "max_height": null,
      "max_width": null,
      "min_height": null,
      "min_width": null,
      "object_fit": null,
      "object_position": null,
      "order": null,
      "overflow": null,
      "overflow_x": null,
      "overflow_y": null,
      "padding": null,
      "right": null,
      "top": null,
      "visibility": null,
      "width": "20px"
     }
    },
    "4003a96c29944d3b9c34ee73c0081932": {
     "model_module": "@jupyter-widgets/controls",
     "model_module_version": "1.5.0",
     "model_name": "HTMLModel",
     "state": {
      "_dom_classes": [],
      "_model_module": "@jupyter-widgets/controls",
      "_model_module_version": "1.5.0",
      "_model_name": "HTMLModel",
      "_view_count": null,
      "_view_module": "@jupyter-widgets/controls",
      "_view_module_version": "1.5.0",
      "_view_name": "HTMLView",
      "description": "",
      "description_tooltip": null,
      "layout": "IPY_MODEL_524aca5eb94d4dfdb0ec0223cee3262c",
      "placeholder": "​",
      "style": "IPY_MODEL_a4fb8e9875954ac2b3d55832fc78aa62",
      "value": "Downloading builder script: "
     }
    },
    "4026f156ac514046a882dd98000781a9": {
     "model_module": "@jupyter-widgets/base",
     "model_module_version": "1.2.0",
     "model_name": "LayoutModel",
     "state": {
      "_model_module": "@jupyter-widgets/base",
      "_model_module_version": "1.2.0",
      "_model_name": "LayoutModel",
      "_view_count": null,
      "_view_module": "@jupyter-widgets/base",
      "_view_module_version": "1.2.0",
      "_view_name": "LayoutView",
      "align_content": null,
      "align_items": null,
      "align_self": null,
      "border": null,
      "bottom": null,
      "display": null,
      "flex": null,
      "flex_flow": null,
      "grid_area": null,
      "grid_auto_columns": null,
      "grid_auto_flow": null,
      "grid_auto_rows": null,
      "grid_column": null,
      "grid_gap": null,
      "grid_row": null,
      "grid_template_areas": null,
      "grid_template_columns": null,
      "grid_template_rows": null,
      "height": null,
      "justify_content": null,
      "justify_items": null,
      "left": null,
      "margin": null,
      "max_height": null,
      "max_width": null,
      "min_height": null,
      "min_width": null,
      "object_fit": null,
      "object_position": null,
      "order": null,
      "overflow": null,
      "overflow_x": null,
      "overflow_y": null,
      "padding": null,
      "right": null,
      "top": null,
      "visibility": null,
      "width": null
     }
    },
    "4131fdadd9a44b71b948a8274fbbed30": {
     "model_module": "@jupyter-widgets/controls",
     "model_module_version": "1.5.0",
     "model_name": "ProgressStyleModel",
     "state": {
      "_model_module": "@jupyter-widgets/controls",
      "_model_module_version": "1.5.0",
      "_model_name": "ProgressStyleModel",
      "_view_count": null,
      "_view_module": "@jupyter-widgets/base",
      "_view_module_version": "1.2.0",
      "_view_name": "StyleView",
      "bar_color": null,
      "description_width": ""
     }
    },
    "45984760c47c4b6fae593182606cfd3d": {
     "model_module": "@jupyter-widgets/controls",
     "model_module_version": "1.5.0",
     "model_name": "HTMLModel",
     "state": {
      "_dom_classes": [],
      "_model_module": "@jupyter-widgets/controls",
      "_model_module_version": "1.5.0",
      "_model_name": "HTMLModel",
      "_view_count": null,
      "_view_module": "@jupyter-widgets/controls",
      "_view_module_version": "1.5.0",
      "_view_name": "HTMLView",
      "description": "",
      "description_tooltip": null,
      "layout": "IPY_MODEL_78e99aa6a62e47baa7cdfa87ddebf828",
      "placeholder": "​",
      "style": "IPY_MODEL_594f6762a6a240feb4c69ff6a11ce679",
      "value": " 3478/3478 [00:00&lt;00:00, 94791.15 examples/s]"
     }
    },
    "46d6976738de480b9e19c80d9ce3dc3e": {
     "model_module": "@jupyter-widgets/controls",
     "model_module_version": "1.5.0",
     "model_name": "HBoxModel",
     "state": {
      "_dom_classes": [],
      "_model_module": "@jupyter-widgets/controls",
      "_model_module_version": "1.5.0",
      "_model_name": "HBoxModel",
      "_view_count": null,
      "_view_module": "@jupyter-widgets/controls",
      "_view_module_version": "1.5.0",
      "_view_name": "HBoxView",
      "box_style": "",
      "children": [
       "IPY_MODEL_4003a96c29944d3b9c34ee73c0081932",
       "IPY_MODEL_03ec092dd6a34d03b103c5ed7c730233",
       "IPY_MODEL_94a37fcd1fd34dbfadef25fceb5ee0fa"
      ],
      "layout": "IPY_MODEL_80a0fa120e8347a8a2a45cf6360754ec"
     }
    },
    "48de21f6a88640f38f4a79f938f9b7f3": {
     "model_module": "@jupyter-widgets/controls",
     "model_module_version": "1.5.0",
     "model_name": "ProgressStyleModel",
     "state": {
      "_model_module": "@jupyter-widgets/controls",
      "_model_module_version": "1.5.0",
      "_model_name": "ProgressStyleModel",
      "_view_count": null,
      "_view_module": "@jupyter-widgets/base",
      "_view_module_version": "1.2.0",
      "_view_name": "StyleView",
      "bar_color": null,
      "description_width": ""
     }
    },
    "49d273264f7b4a568331fe6775a16ad0": {
     "model_module": "@jupyter-widgets/controls",
     "model_module_version": "1.5.0",
     "model_name": "FloatProgressModel",
     "state": {
      "_dom_classes": [],
      "_model_module": "@jupyter-widgets/controls",
      "_model_module_version": "1.5.0",
      "_model_name": "FloatProgressModel",
      "_view_count": null,
      "_view_module": "@jupyter-widgets/controls",
      "_view_module_version": "1.5.0",
      "_view_name": "ProgressView",
      "bar_style": "info",
      "description": "",
      "description_tooltip": null,
      "layout": "IPY_MODEL_5cee16a882eb42a2860b45c87c275423",
      "max": 1,
      "min": 0,
      "orientation": "horizontal",
      "style": "IPY_MODEL_05dce588acbe454f87e0086eec532172",
      "value": 1
     }
    },
    "49f98244a8634be9b2305bb87731e765": {
     "model_module": "@jupyter-widgets/controls",
     "model_module_version": "1.5.0",
     "model_name": "TextModel",
     "state": {
      "_dom_classes": [],
      "_model_module": "@jupyter-widgets/controls",
      "_model_module_version": "1.5.0",
      "_model_name": "TextModel",
      "_view_count": null,
      "_view_module": "@jupyter-widgets/controls",
      "_view_module_version": "1.5.0",
      "_view_name": "TextView",
      "continuous_update": true,
      "description": "Username:",
      "description_tooltip": null,
      "disabled": false,
      "layout": "IPY_MODEL_4bf1f9d3031e4877aa6ef704e9a227d7",
      "placeholder": "​",
      "style": "IPY_MODEL_bfb6a1e47f6e4f74af4db7e71227ef3e",
      "value": ""
     }
    },
    "4a39ad1827224bb8b1db6655e1c3fede": {
     "model_module": "@jupyter-widgets/controls",
     "model_module_version": "1.5.0",
     "model_name": "FloatProgressModel",
     "state": {
      "_dom_classes": [],
      "_model_module": "@jupyter-widgets/controls",
      "_model_module_version": "1.5.0",
      "_model_name": "FloatProgressModel",
      "_view_count": null,
      "_view_module": "@jupyter-widgets/controls",
      "_view_module_version": "1.5.0",
      "_view_name": "ProgressView",
      "bar_style": "success",
      "description": "",
      "description_tooltip": null,
      "layout": "IPY_MODEL_fe66028f9ff842b58a185eac02401cf8",
      "max": 1568,
      "min": 0,
      "orientation": "horizontal",
      "style": "IPY_MODEL_1d019419bbc7424e938841fa82d6de9f",
      "value": 1568
     }
    },
    "4bf1f9d3031e4877aa6ef704e9a227d7": {
     "model_module": "@jupyter-widgets/base",
     "model_module_version": "1.2.0",
     "model_name": "LayoutModel",
     "state": {
      "_model_module": "@jupyter-widgets/base",
      "_model_module_version": "1.2.0",
      "_model_name": "LayoutModel",
      "_view_count": null,
      "_view_module": "@jupyter-widgets/base",
      "_view_module_version": "1.2.0",
      "_view_name": "LayoutView",
      "align_content": null,
      "align_items": null,
      "align_self": null,
      "border": null,
      "bottom": null,
      "display": null,
      "flex": null,
      "flex_flow": null,
      "grid_area": null,
      "grid_auto_columns": null,
      "grid_auto_flow": null,
      "grid_auto_rows": null,
      "grid_column": null,
      "grid_gap": null,
      "grid_row": null,
      "grid_template_areas": null,
      "grid_template_columns": null,
      "grid_template_rows": null,
      "height": null,
      "justify_content": null,
      "justify_items": null,
      "left": null,
      "margin": null,
      "max_height": null,
      "max_width": null,
      "min_height": null,
      "min_width": null,
      "object_fit": null,
      "object_position": null,
      "order": null,
      "overflow": null,
      "overflow_x": null,
      "overflow_y": null,
      "padding": null,
      "right": null,
      "top": null,
      "visibility": null,
      "width": null
     }
    },
    "4c3e043e600641538a479df6ad389784": {
     "model_module": "@jupyter-widgets/base",
     "model_module_version": "1.2.0",
     "model_name": "LayoutModel",
     "state": {
      "_model_module": "@jupyter-widgets/base",
      "_model_module_version": "1.2.0",
      "_model_name": "LayoutModel",
      "_view_count": null,
      "_view_module": "@jupyter-widgets/base",
      "_view_module_version": "1.2.0",
      "_view_name": "LayoutView",
      "align_content": null,
      "align_items": null,
      "align_self": null,
      "border": null,
      "bottom": null,
      "display": null,
      "flex": null,
      "flex_flow": null,
      "grid_area": null,
      "grid_auto_columns": null,
      "grid_auto_flow": null,
      "grid_auto_rows": null,
      "grid_column": null,
      "grid_gap": null,
      "grid_row": null,
      "grid_template_areas": null,
      "grid_template_columns": null,
      "grid_template_rows": null,
      "height": null,
      "justify_content": null,
      "justify_items": null,
      "left": null,
      "margin": null,
      "max_height": null,
      "max_width": null,
      "min_height": null,
      "min_width": null,
      "object_fit": null,
      "object_position": null,
      "order": null,
      "overflow": null,
      "overflow_x": null,
      "overflow_y": null,
      "padding": null,
      "right": null,
      "top": null,
      "visibility": null,
      "width": null
     }
    },
    "524aca5eb94d4dfdb0ec0223cee3262c": {
     "model_module": "@jupyter-widgets/base",
     "model_module_version": "1.2.0",
     "model_name": "LayoutModel",
     "state": {
      "_model_module": "@jupyter-widgets/base",
      "_model_module_version": "1.2.0",
      "_model_name": "LayoutModel",
      "_view_count": null,
      "_view_module": "@jupyter-widgets/base",
      "_view_module_version": "1.2.0",
      "_view_name": "LayoutView",
      "align_content": null,
      "align_items": null,
      "align_self": null,
      "border": null,
      "bottom": null,
      "display": null,
      "flex": null,
      "flex_flow": null,
      "grid_area": null,
      "grid_auto_columns": null,
      "grid_auto_flow": null,
      "grid_auto_rows": null,
      "grid_column": null,
      "grid_gap": null,
      "grid_row": null,
      "grid_template_areas": null,
      "grid_template_columns": null,
      "grid_template_rows": null,
      "height": null,
      "justify_content": null,
      "justify_items": null,
      "left": null,
      "margin": null,
      "max_height": null,
      "max_width": null,
      "min_height": null,
      "min_width": null,
      "object_fit": null,
      "object_position": null,
      "order": null,
      "overflow": null,
      "overflow_x": null,
      "overflow_y": null,
      "padding": null,
      "right": null,
      "top": null,
      "visibility": null,
      "width": null
     }
    },
    "52f5df65d30a4562980d06ab71b981c6": {
     "model_module": "@jupyter-widgets/base",
     "model_module_version": "1.2.0",
     "model_name": "LayoutModel",
     "state": {
      "_model_module": "@jupyter-widgets/base",
      "_model_module_version": "1.2.0",
      "_model_name": "LayoutModel",
      "_view_count": null,
      "_view_module": "@jupyter-widgets/base",
      "_view_module_version": "1.2.0",
      "_view_name": "LayoutView",
      "align_content": null,
      "align_items": null,
      "align_self": null,
      "border": null,
      "bottom": null,
      "display": null,
      "flex": null,
      "flex_flow": null,
      "grid_area": null,
      "grid_auto_columns": null,
      "grid_auto_flow": null,
      "grid_auto_rows": null,
      "grid_column": null,
      "grid_gap": null,
      "grid_row": null,
      "grid_template_areas": null,
      "grid_template_columns": null,
      "grid_template_rows": null,
      "height": null,
      "justify_content": null,
      "justify_items": null,
      "left": null,
      "margin": null,
      "max_height": null,
      "max_width": null,
      "min_height": null,
      "min_width": null,
      "object_fit": null,
      "object_position": null,
      "order": null,
      "overflow": null,
      "overflow_x": null,
      "overflow_y": null,
      "padding": null,
      "right": null,
      "top": null,
      "visibility": null,
      "width": null
     }
    },
    "542cc8c9582645ee8401c9f825cc9f42": {
     "model_module": "@jupyter-widgets/base",
     "model_module_version": "1.2.0",
     "model_name": "LayoutModel",
     "state": {
      "_model_module": "@jupyter-widgets/base",
      "_model_module_version": "1.2.0",
      "_model_name": "LayoutModel",
      "_view_count": null,
      "_view_module": "@jupyter-widgets/base",
      "_view_module_version": "1.2.0",
      "_view_name": "LayoutView",
      "align_content": null,
      "align_items": null,
      "align_self": null,
      "border": null,
      "bottom": null,
      "display": null,
      "flex": null,
      "flex_flow": null,
      "grid_area": null,
      "grid_auto_columns": null,
      "grid_auto_flow": null,
      "grid_auto_rows": null,
      "grid_column": null,
      "grid_gap": null,
      "grid_row": null,
      "grid_template_areas": null,
      "grid_template_columns": null,
      "grid_template_rows": null,
      "height": null,
      "justify_content": null,
      "justify_items": null,
      "left": null,
      "margin": null,
      "max_height": null,
      "max_width": null,
      "min_height": null,
      "min_width": null,
      "object_fit": null,
      "object_position": null,
      "order": null,
      "overflow": null,
      "overflow_x": null,
      "overflow_y": null,
      "padding": null,
      "right": null,
      "top": null,
      "visibility": null,
      "width": "20px"
     }
    },
    "552b1cc8924c4c65a4da9b229e42607d": {
     "model_module": "@jupyter-widgets/controls",
     "model_module_version": "1.5.0",
     "model_name": "FloatProgressModel",
     "state": {
      "_dom_classes": [],
      "_model_module": "@jupyter-widgets/controls",
      "_model_module_version": "1.5.0",
      "_model_name": "FloatProgressModel",
      "_view_count": null,
      "_view_module": "@jupyter-widgets/controls",
      "_view_module_version": "1.5.0",
      "_view_name": "ProgressView",
      "bar_style": "success",
      "description": "",
      "description_tooltip": null,
      "layout": "IPY_MODEL_acf5f4a43fee41409cbf0421de419d9a",
      "max": 3478,
      "min": 0,
      "orientation": "horizontal",
      "style": "IPY_MODEL_ccbb17bd82dc42059685b09eae6f59e4",
      "value": 3478
     }
    },
    "563d8a10bf6b4ecca70a6ccf9c275f99": {
     "model_module": "@jupyter-widgets/base",
     "model_module_version": "1.2.0",
     "model_name": "LayoutModel",
     "state": {
      "_model_module": "@jupyter-widgets/base",
      "_model_module_version": "1.2.0",
      "_model_name": "LayoutModel",
      "_view_count": null,
      "_view_module": "@jupyter-widgets/base",
      "_view_module_version": "1.2.0",
      "_view_name": "LayoutView",
      "align_content": null,
      "align_items": null,
      "align_self": null,
      "border": null,
      "bottom": null,
      "display": null,
      "flex": null,
      "flex_flow": null,
      "grid_area": null,
      "grid_auto_columns": null,
      "grid_auto_flow": null,
      "grid_auto_rows": null,
      "grid_column": null,
      "grid_gap": null,
      "grid_row": null,
      "grid_template_areas": null,
      "grid_template_columns": null,
      "grid_template_rows": null,
      "height": null,
      "justify_content": null,
      "justify_items": null,
      "left": null,
      "margin": null,
      "max_height": null,
      "max_width": null,
      "min_height": null,
      "min_width": null,
      "object_fit": null,
      "object_position": null,
      "order": null,
      "overflow": null,
      "overflow_x": null,
      "overflow_y": null,
      "padding": null,
      "right": null,
      "top": null,
      "visibility": null,
      "width": null
     }
    },
    "57c3cfc5e418425ba4445d60b2092105": {
     "model_module": "@jupyter-widgets/controls",
     "model_module_version": "1.5.0",
     "model_name": "HTMLModel",
     "state": {
      "_dom_classes": [],
      "_model_module": "@jupyter-widgets/controls",
      "_model_module_version": "1.5.0",
      "_model_name": "HTMLModel",
      "_view_count": null,
      "_view_module": "@jupyter-widgets/controls",
      "_view_module_version": "1.5.0",
      "_view_name": "HTMLView",
      "description": "",
      "description_tooltip": null,
      "layout": "IPY_MODEL_aa52c92efdac48b58a9850b1379a213c",
      "placeholder": "​",
      "style": "IPY_MODEL_d131cebeddd34c759541e1890ecc041b",
      "value": " 1618/0 [00:04&lt;00:00, 228.58 examples/s]"
     }
    },
    "593707ae5a5b4c25823bd85aa08ec6d8": {
     "model_module": "@jupyter-widgets/base",
     "model_module_version": "1.2.0",
     "model_name": "LayoutModel",
     "state": {
      "_model_module": "@jupyter-widgets/base",
      "_model_module_version": "1.2.0",
      "_model_name": "LayoutModel",
      "_view_count": null,
      "_view_module": "@jupyter-widgets/base",
      "_view_module_version": "1.2.0",
      "_view_name": "LayoutView",
      "align_content": null,
      "align_items": null,
      "align_self": null,
      "border": null,
      "bottom": null,
      "display": null,
      "flex": null,
      "flex_flow": null,
      "grid_area": null,
      "grid_auto_columns": null,
      "grid_auto_flow": null,
      "grid_auto_rows": null,
      "grid_column": null,
      "grid_gap": null,
      "grid_row": null,
      "grid_template_areas": null,
      "grid_template_columns": null,
      "grid_template_rows": null,
      "height": null,
      "justify_content": null,
      "justify_items": null,
      "left": null,
      "margin": null,
      "max_height": null,
      "max_width": null,
      "min_height": null,
      "min_width": null,
      "object_fit": null,
      "object_position": null,
      "order": null,
      "overflow": null,
      "overflow_x": null,
      "overflow_y": null,
      "padding": null,
      "right": null,
      "top": null,
      "visibility": null,
      "width": null
     }
    },
    "594f6762a6a240feb4c69ff6a11ce679": {
     "model_module": "@jupyter-widgets/controls",
     "model_module_version": "1.5.0",
     "model_name": "DescriptionStyleModel",
     "state": {
      "_model_module": "@jupyter-widgets/controls",
      "_model_module_version": "1.5.0",
      "_model_name": "DescriptionStyleModel",
      "_view_count": null,
      "_view_module": "@jupyter-widgets/base",
      "_view_module_version": "1.2.0",
      "_view_name": "StyleView",
      "description_width": ""
     }
    },
    "5b5387596e1544058da905d35b9d8797": {
     "model_module": "@jupyter-widgets/controls",
     "model_module_version": "1.5.0",
     "model_name": "DescriptionStyleModel",
     "state": {
      "_model_module": "@jupyter-widgets/controls",
      "_model_module_version": "1.5.0",
      "_model_name": "DescriptionStyleModel",
      "_view_count": null,
      "_view_module": "@jupyter-widgets/base",
      "_view_module_version": "1.2.0",
      "_view_name": "StyleView",
      "description_width": ""
     }
    },
    "5c7f1ff0e5f942e3a20de56130180bff": {
     "model_module": "@jupyter-widgets/controls",
     "model_module_version": "1.5.0",
     "model_name": "DescriptionStyleModel",
     "state": {
      "_model_module": "@jupyter-widgets/controls",
      "_model_module_version": "1.5.0",
      "_model_name": "DescriptionStyleModel",
      "_view_count": null,
      "_view_module": "@jupyter-widgets/base",
      "_view_module_version": "1.2.0",
      "_view_name": "StyleView",
      "description_width": ""
     }
    },
    "5cee16a882eb42a2860b45c87c275423": {
     "model_module": "@jupyter-widgets/base",
     "model_module_version": "1.2.0",
     "model_name": "LayoutModel",
     "state": {
      "_model_module": "@jupyter-widgets/base",
      "_model_module_version": "1.2.0",
      "_model_name": "LayoutModel",
      "_view_count": null,
      "_view_module": "@jupyter-widgets/base",
      "_view_module_version": "1.2.0",
      "_view_name": "LayoutView",
      "align_content": null,
      "align_items": null,
      "align_self": null,
      "border": null,
      "bottom": null,
      "display": null,
      "flex": null,
      "flex_flow": null,
      "grid_area": null,
      "grid_auto_columns": null,
      "grid_auto_flow": null,
      "grid_auto_rows": null,
      "grid_column": null,
      "grid_gap": null,
      "grid_row": null,
      "grid_template_areas": null,
      "grid_template_columns": null,
      "grid_template_rows": null,
      "height": null,
      "justify_content": null,
      "justify_items": null,
      "left": null,
      "margin": null,
      "max_height": null,
      "max_width": null,
      "min_height": null,
      "min_width": null,
      "object_fit": null,
      "object_position": null,
      "order": null,
      "overflow": null,
      "overflow_x": null,
      "overflow_y": null,
      "padding": null,
      "right": null,
      "top": null,
      "visibility": null,
      "width": "20px"
     }
    },
    "5d6bb4fbd2d347169dd25e8b3c8b1511": {
     "model_module": "@jupyter-widgets/controls",
     "model_module_version": "1.5.0",
     "model_name": "HTMLModel",
     "state": {
      "_dom_classes": [],
      "_model_module": "@jupyter-widgets/controls",
      "_model_module_version": "1.5.0",
      "_model_name": "HTMLModel",
      "_view_count": null,
      "_view_module": "@jupyter-widgets/controls",
      "_view_module_version": "1.5.0",
      "_view_name": "HTMLView",
      "description": "",
      "description_tooltip": null,
      "layout": "IPY_MODEL_06c1b79cca594a02bfea6e78ab7e2e73",
      "placeholder": "​",
      "style": "IPY_MODEL_b07acb3a06144ceeb4f54e4e36aa9de4",
      "value": " 1815/0 [00:08&lt;00:00, 245.25 examples/s]"
     }
    },
    "5e5e48ae6a104b86b7fdc38b2b0d867b": {
     "model_module": "@jupyter-widgets/base",
     "model_module_version": "1.2.0",
     "model_name": "LayoutModel",
     "state": {
      "_model_module": "@jupyter-widgets/base",
      "_model_module_version": "1.2.0",
      "_model_name": "LayoutModel",
      "_view_count": null,
      "_view_module": "@jupyter-widgets/base",
      "_view_module_version": "1.2.0",
      "_view_name": "LayoutView",
      "align_content": null,
      "align_items": null,
      "align_self": null,
      "border": null,
      "bottom": null,
      "display": null,
      "flex": null,
      "flex_flow": null,
      "grid_area": null,
      "grid_auto_columns": null,
      "grid_auto_flow": null,
      "grid_auto_rows": null,
      "grid_column": null,
      "grid_gap": null,
      "grid_row": null,
      "grid_template_areas": null,
      "grid_template_columns": null,
      "grid_template_rows": null,
      "height": null,
      "justify_content": null,
      "justify_items": null,
      "left": null,
      "margin": null,
      "max_height": null,
      "max_width": null,
      "min_height": null,
      "min_width": null,
      "object_fit": null,
      "object_position": null,
      "order": null,
      "overflow": null,
      "overflow_x": null,
      "overflow_y": null,
      "padding": null,
      "right": null,
      "top": null,
      "visibility": "hidden",
      "width": null
     }
    },
    "5e6615059cde4493a5a9b7713887cba7": {
     "model_module": "@jupyter-widgets/base",
     "model_module_version": "1.2.0",
     "model_name": "LayoutModel",
     "state": {
      "_model_module": "@jupyter-widgets/base",
      "_model_module_version": "1.2.0",
      "_model_name": "LayoutModel",
      "_view_count": null,
      "_view_module": "@jupyter-widgets/base",
      "_view_module_version": "1.2.0",
      "_view_name": "LayoutView",
      "align_content": null,
      "align_items": null,
      "align_self": null,
      "border": null,
      "bottom": null,
      "display": null,
      "flex": null,
      "flex_flow": null,
      "grid_area": null,
      "grid_auto_columns": null,
      "grid_auto_flow": null,
      "grid_auto_rows": null,
      "grid_column": null,
      "grid_gap": null,
      "grid_row": null,
      "grid_template_areas": null,
      "grid_template_columns": null,
      "grid_template_rows": null,
      "height": null,
      "justify_content": null,
      "justify_items": null,
      "left": null,
      "margin": null,
      "max_height": null,
      "max_width": null,
      "min_height": null,
      "min_width": null,
      "object_fit": null,
      "object_position": null,
      "order": null,
      "overflow": null,
      "overflow_x": null,
      "overflow_y": null,
      "padding": null,
      "right": null,
      "top": null,
      "visibility": null,
      "width": "20px"
     }
    },
    "665587c521a6472fab1be16d33684603": {
     "model_module": "@jupyter-widgets/controls",
     "model_module_version": "1.5.0",
     "model_name": "FloatProgressModel",
     "state": {
      "_dom_classes": [],
      "_model_module": "@jupyter-widgets/controls",
      "_model_module_version": "1.5.0",
      "_model_name": "FloatProgressModel",
      "_view_count": null,
      "_view_module": "@jupyter-widgets/controls",
      "_view_module_version": "1.5.0",
      "_view_name": "ProgressView",
      "bar_style": "success",
      "description": "",
      "description_tooltip": null,
      "layout": "IPY_MODEL_209696b426ed4638a77abd48c95a12e7",
      "max": 1647,
      "min": 0,
      "orientation": "horizontal",
      "style": "IPY_MODEL_076c18983b804526949e8c465e1f1953",
      "value": 1647
     }
    },
    "67121d83179543a3baf9e897da476d7b": {
     "model_module": "@jupyter-widgets/controls",
     "model_module_version": "1.5.0",
     "model_name": "HBoxModel",
     "state": {
      "_dom_classes": [],
      "_model_module": "@jupyter-widgets/controls",
      "_model_module_version": "1.5.0",
      "_model_name": "HBoxModel",
      "_view_count": null,
      "_view_module": "@jupyter-widgets/controls",
      "_view_module_version": "1.5.0",
      "_view_name": "HBoxView",
      "box_style": "",
      "children": [
       "IPY_MODEL_6e362af55a6f4a31a1084435db9a775b",
       "IPY_MODEL_ac18827da5144ccfb034f9f327bbf97d",
       "IPY_MODEL_7f7dca27631c492091e2d3859924d051"
      ],
      "layout": "IPY_MODEL_a150941f998c49f3a71ac211cfd71732"
     }
    },
    "67ecc2e97afb4b38b6ca5f15cb39499c": {
     "model_module": "@jupyter-widgets/controls",
     "model_module_version": "1.5.0",
     "model_name": "HBoxModel",
     "state": {
      "_dom_classes": [],
      "_model_module": "@jupyter-widgets/controls",
      "_model_module_version": "1.5.0",
      "_model_name": "HBoxModel",
      "_view_count": null,
      "_view_module": "@jupyter-widgets/controls",
      "_view_module_version": "1.5.0",
      "_view_name": "HBoxView",
      "box_style": "",
      "children": [
       "IPY_MODEL_0d3bbcb809474ff389c91066437d1db4",
       "IPY_MODEL_dea8cd6b514c4c769442d1e58f8d596c",
       "IPY_MODEL_7c8da41acf804f5a9441ddd85f4ccfed"
      ],
      "layout": "IPY_MODEL_06ebeaaf8bc6406fbd1f8e3624223f64"
     }
    },
    "69c14be91b114c27a5140e834800ba94": {
     "model_module": "@jupyter-widgets/base",
     "model_module_version": "1.2.0",
     "model_name": "LayoutModel",
     "state": {
      "_model_module": "@jupyter-widgets/base",
      "_model_module_version": "1.2.0",
      "_model_name": "LayoutModel",
      "_view_count": null,
      "_view_module": "@jupyter-widgets/base",
      "_view_module_version": "1.2.0",
      "_view_name": "LayoutView",
      "align_content": null,
      "align_items": null,
      "align_self": null,
      "border": null,
      "bottom": null,
      "display": null,
      "flex": null,
      "flex_flow": null,
      "grid_area": null,
      "grid_auto_columns": null,
      "grid_auto_flow": null,
      "grid_auto_rows": null,
      "grid_column": null,
      "grid_gap": null,
      "grid_row": null,
      "grid_template_areas": null,
      "grid_template_columns": null,
      "grid_template_rows": null,
      "height": null,
      "justify_content": null,
      "justify_items": null,
      "left": null,
      "margin": null,
      "max_height": null,
      "max_width": null,
      "min_height": null,
      "min_width": null,
      "object_fit": null,
      "object_position": null,
      "order": null,
      "overflow": null,
      "overflow_x": null,
      "overflow_y": null,
      "padding": null,
      "right": null,
      "top": null,
      "visibility": null,
      "width": null
     }
    },
    "69c4539ea53a41a2a244f248f8217508": {
     "model_module": "@jupyter-widgets/controls",
     "model_module_version": "1.5.0",
     "model_name": "DescriptionStyleModel",
     "state": {
      "_model_module": "@jupyter-widgets/controls",
      "_model_module_version": "1.5.0",
      "_model_name": "DescriptionStyleModel",
      "_view_count": null,
      "_view_module": "@jupyter-widgets/base",
      "_view_module_version": "1.2.0",
      "_view_name": "StyleView",
      "description_width": ""
     }
    },
    "6a02af1a7c184f2e872ced5616251037": {
     "model_module": "@jupyter-widgets/controls",
     "model_module_version": "1.5.0",
     "model_name": "ProgressStyleModel",
     "state": {
      "_model_module": "@jupyter-widgets/controls",
      "_model_module_version": "1.5.0",
      "_model_name": "ProgressStyleModel",
      "_view_count": null,
      "_view_module": "@jupyter-widgets/base",
      "_view_module_version": "1.2.0",
      "_view_name": "StyleView",
      "bar_color": null,
      "description_width": ""
     }
    },
    "6c0d3a069a81483183b81dcfc093454a": {
     "model_module": "@jupyter-widgets/base",
     "model_module_version": "1.2.0",
     "model_name": "LayoutModel",
     "state": {
      "_model_module": "@jupyter-widgets/base",
      "_model_module_version": "1.2.0",
      "_model_name": "LayoutModel",
      "_view_count": null,
      "_view_module": "@jupyter-widgets/base",
      "_view_module_version": "1.2.0",
      "_view_name": "LayoutView",
      "align_content": null,
      "align_items": null,
      "align_self": null,
      "border": null,
      "bottom": null,
      "display": null,
      "flex": null,
      "flex_flow": null,
      "grid_area": null,
      "grid_auto_columns": null,
      "grid_auto_flow": null,
      "grid_auto_rows": null,
      "grid_column": null,
      "grid_gap": null,
      "grid_row": null,
      "grid_template_areas": null,
      "grid_template_columns": null,
      "grid_template_rows": null,
      "height": null,
      "justify_content": null,
      "justify_items": null,
      "left": null,
      "margin": null,
      "max_height": null,
      "max_width": null,
      "min_height": null,
      "min_width": null,
      "object_fit": null,
      "object_position": null,
      "order": null,
      "overflow": null,
      "overflow_x": null,
      "overflow_y": null,
      "padding": null,
      "right": null,
      "top": null,
      "visibility": null,
      "width": null
     }
    },
    "6dd7aa6b17b34d18ba46d834ffd559bc": {
     "model_module": "@jupyter-widgets/controls",
     "model_module_version": "1.5.0",
     "model_name": "ButtonStyleModel",
     "state": {
      "_model_module": "@jupyter-widgets/controls",
      "_model_module_version": "1.5.0",
      "_model_name": "ButtonStyleModel",
      "_view_count": null,
      "_view_module": "@jupyter-widgets/base",
      "_view_module_version": "1.2.0",
      "_view_name": "StyleView",
      "button_color": null,
      "font_weight": ""
     }
    },
    "6e362af55a6f4a31a1084435db9a775b": {
     "model_module": "@jupyter-widgets/controls",
     "model_module_version": "1.5.0",
     "model_name": "HTMLModel",
     "state": {
      "_dom_classes": [],
      "_model_module": "@jupyter-widgets/controls",
      "_model_module_version": "1.5.0",
      "_model_name": "HTMLModel",
      "_view_count": null,
      "_view_module": "@jupyter-widgets/controls",
      "_view_module_version": "1.5.0",
      "_view_name": "HTMLView",
      "description": "",
      "description_tooltip": null,
      "layout": "IPY_MODEL_e3dde9a746fd4402ad606d80679698c7",
      "placeholder": "​",
      "style": "IPY_MODEL_30de3fbc22dc42e8ae16ae701577bfc1",
      "value": "Map: 100%"
     }
    },
    "709ca2db7d2041ad956e1d447e88b2cb": {
     "model_module": "@jupyter-widgets/controls",
     "model_module_version": "1.5.0",
     "model_name": "HTMLModel",
     "state": {
      "_dom_classes": [],
      "_model_module": "@jupyter-widgets/controls",
      "_model_module_version": "1.5.0",
      "_model_name": "HTMLModel",
      "_view_count": null,
      "_view_module": "@jupyter-widgets/controls",
      "_view_module_version": "1.5.0",
      "_view_name": "HTMLView",
      "description": "",
      "description_tooltip": null,
      "layout": "IPY_MODEL_a967e53c5ff54254ba337f9c271080e0",
      "placeholder": "​",
      "style": "IPY_MODEL_f77623a990f04603924ddb73533e27b7",
      "value": " 1701/0 [00:04&lt;00:00, 241.37 examples/s]"
     }
    },
    "71f2fd635dc3469d956ff4be795a7949": {
     "model_module": "@jupyter-widgets/controls",
     "model_module_version": "1.5.0",
     "model_name": "HBoxModel",
     "state": {
      "_dom_classes": [],
      "_model_module": "@jupyter-widgets/controls",
      "_model_module_version": "1.5.0",
      "_model_name": "HBoxModel",
      "_view_count": null,
      "_view_module": "@jupyter-widgets/controls",
      "_view_module_version": "1.5.0",
      "_view_name": "HBoxView",
      "box_style": "",
      "children": [
       "IPY_MODEL_1ed0f89c1fed45f5a98d489792f209a4",
       "IPY_MODEL_1718ccea468d4f63abf597204eb62564",
       "IPY_MODEL_cb1aac217bdd42f7a1d3399dbe86777e"
      ],
      "layout": "IPY_MODEL_6c0d3a069a81483183b81dcfc093454a"
     }
    },
    "72aceb09e6194cb684620c6e2356646c": {
     "model_module": "@jupyter-widgets/controls",
     "model_module_version": "1.5.0",
     "model_name": "FloatProgressModel",
     "state": {
      "_dom_classes": [],
      "_model_module": "@jupyter-widgets/controls",
      "_model_module_version": "1.5.0",
      "_model_name": "FloatProgressModel",
      "_view_count": null,
      "_view_module": "@jupyter-widgets/controls",
      "_view_module_version": "1.5.0",
      "_view_name": "ProgressView",
      "bar_style": "success",
      "description": "",
      "description_tooltip": null,
      "layout": "IPY_MODEL_d6a273a58c3a4ea08f50dca7b25607e0",
      "max": 1647,
      "min": 0,
      "orientation": "horizontal",
      "style": "IPY_MODEL_f9b81bd342ca4aa0abfbd84c2b09390b",
      "value": 1647
     }
    },
    "72bec3d91b624419895d262bb49dbdf9": {
     "model_module": "@jupyter-widgets/controls",
     "model_module_version": "1.5.0",
     "model_name": "DescriptionStyleModel",
     "state": {
      "_model_module": "@jupyter-widgets/controls",
      "_model_module_version": "1.5.0",
      "_model_name": "DescriptionStyleModel",
      "_view_count": null,
      "_view_module": "@jupyter-widgets/base",
      "_view_module_version": "1.2.0",
      "_view_name": "StyleView",
      "description_width": ""
     }
    },
    "74bdb12240ad4bf48727f07da88be57e": {
     "model_module": "@jupyter-widgets/base",
     "model_module_version": "1.2.0",
     "model_name": "LayoutModel",
     "state": {
      "_model_module": "@jupyter-widgets/base",
      "_model_module_version": "1.2.0",
      "_model_name": "LayoutModel",
      "_view_count": null,
      "_view_module": "@jupyter-widgets/base",
      "_view_module_version": "1.2.0",
      "_view_name": "LayoutView",
      "align_content": null,
      "align_items": null,
      "align_self": null,
      "border": null,
      "bottom": null,
      "display": null,
      "flex": null,
      "flex_flow": null,
      "grid_area": null,
      "grid_auto_columns": null,
      "grid_auto_flow": null,
      "grid_auto_rows": null,
      "grid_column": null,
      "grid_gap": null,
      "grid_row": null,
      "grid_template_areas": null,
      "grid_template_columns": null,
      "grid_template_rows": null,
      "height": null,
      "justify_content": null,
      "justify_items": null,
      "left": null,
      "margin": null,
      "max_height": null,
      "max_width": null,
      "min_height": null,
      "min_width": null,
      "object_fit": null,
      "object_position": null,
      "order": null,
      "overflow": null,
      "overflow_x": null,
      "overflow_y": null,
      "padding": null,
      "right": null,
      "top": null,
      "visibility": null,
      "width": null
     }
    },
    "7592202cb7c2468396c4274594177c37": {
     "model_module": "@jupyter-widgets/controls",
     "model_module_version": "1.5.0",
     "model_name": "HBoxModel",
     "state": {
      "_dom_classes": [],
      "_model_module": "@jupyter-widgets/controls",
      "_model_module_version": "1.5.0",
      "_model_name": "HBoxModel",
      "_view_count": null,
      "_view_module": "@jupyter-widgets/controls",
      "_view_module_version": "1.5.0",
      "_view_name": "HBoxView",
      "box_style": "",
      "children": [
       "IPY_MODEL_0d461b095507416199d7d6cbeac33de0",
       "IPY_MODEL_4a39ad1827224bb8b1db6655e1c3fede",
       "IPY_MODEL_fc274d916bcb4f95b66997f12e134d3b"
      ],
      "layout": "IPY_MODEL_8060934309454280a0f7ec1a3a94876d"
     }
    },
    "7850b3f606074236a5e54bf783f766cf": {
     "model_module": "@jupyter-widgets/base",
     "model_module_version": "1.2.0",
     "model_name": "LayoutModel",
     "state": {
      "_model_module": "@jupyter-widgets/base",
      "_model_module_version": "1.2.0",
      "_model_name": "LayoutModel",
      "_view_count": null,
      "_view_module": "@jupyter-widgets/base",
      "_view_module_version": "1.2.0",
      "_view_name": "LayoutView",
      "align_content": null,
      "align_items": null,
      "align_self": null,
      "border": null,
      "bottom": null,
      "display": null,
      "flex": null,
      "flex_flow": null,
      "grid_area": null,
      "grid_auto_columns": null,
      "grid_auto_flow": null,
      "grid_auto_rows": null,
      "grid_column": null,
      "grid_gap": null,
      "grid_row": null,
      "grid_template_areas": null,
      "grid_template_columns": null,
      "grid_template_rows": null,
      "height": null,
      "justify_content": null,
      "justify_items": null,
      "left": null,
      "margin": null,
      "max_height": null,
      "max_width": null,
      "min_height": null,
      "min_width": null,
      "object_fit": null,
      "object_position": null,
      "order": null,
      "overflow": null,
      "overflow_x": null,
      "overflow_y": null,
      "padding": null,
      "right": null,
      "top": null,
      "visibility": null,
      "width": null
     }
    },
    "78e99aa6a62e47baa7cdfa87ddebf828": {
     "model_module": "@jupyter-widgets/base",
     "model_module_version": "1.2.0",
     "model_name": "LayoutModel",
     "state": {
      "_model_module": "@jupyter-widgets/base",
      "_model_module_version": "1.2.0",
      "_model_name": "LayoutModel",
      "_view_count": null,
      "_view_module": "@jupyter-widgets/base",
      "_view_module_version": "1.2.0",
      "_view_name": "LayoutView",
      "align_content": null,
      "align_items": null,
      "align_self": null,
      "border": null,
      "bottom": null,
      "display": null,
      "flex": null,
      "flex_flow": null,
      "grid_area": null,
      "grid_auto_columns": null,
      "grid_auto_flow": null,
      "grid_auto_rows": null,
      "grid_column": null,
      "grid_gap": null,
      "grid_row": null,
      "grid_template_areas": null,
      "grid_template_columns": null,
      "grid_template_rows": null,
      "height": null,
      "justify_content": null,
      "justify_items": null,
      "left": null,
      "margin": null,
      "max_height": null,
      "max_width": null,
      "min_height": null,
      "min_width": null,
      "object_fit": null,
      "object_position": null,
      "order": null,
      "overflow": null,
      "overflow_x": null,
      "overflow_y": null,
      "padding": null,
      "right": null,
      "top": null,
      "visibility": null,
      "width": null
     }
    },
    "79503e64d6e1481bb42e0d22a133e1bc": {
     "model_module": "@jupyter-widgets/controls",
     "model_module_version": "1.5.0",
     "model_name": "DescriptionStyleModel",
     "state": {
      "_model_module": "@jupyter-widgets/controls",
      "_model_module_version": "1.5.0",
      "_model_name": "DescriptionStyleModel",
      "_view_count": null,
      "_view_module": "@jupyter-widgets/base",
      "_view_module_version": "1.2.0",
      "_view_name": "StyleView",
      "description_width": ""
     }
    },
    "7c8da41acf804f5a9441ddd85f4ccfed": {
     "model_module": "@jupyter-widgets/controls",
     "model_module_version": "1.5.0",
     "model_name": "HTMLModel",
     "state": {
      "_dom_classes": [],
      "_model_module": "@jupyter-widgets/controls",
      "_model_module_version": "1.5.0",
      "_model_name": "HTMLModel",
      "_view_count": null,
      "_view_module": "@jupyter-widgets/controls",
      "_view_module_version": "1.5.0",
      "_view_name": "HTMLView",
      "description": "",
      "description_tooltip": null,
      "layout": "IPY_MODEL_69c14be91b114c27a5140e834800ba94",
      "placeholder": "​",
      "style": "IPY_MODEL_beee813799a749d4bf8e8869d4a7a2e2",
      "value": " 270/0 [00:05&lt;00:00, 97.86 examples/s]"
     }
    },
    "7f7dca27631c492091e2d3859924d051": {
     "model_module": "@jupyter-widgets/controls",
     "model_module_version": "1.5.0",
     "model_name": "HTMLModel",
     "state": {
      "_dom_classes": [],
      "_model_module": "@jupyter-widgets/controls",
      "_model_module_version": "1.5.0",
      "_model_name": "HTMLModel",
      "_view_count": null,
      "_view_module": "@jupyter-widgets/controls",
      "_view_module_version": "1.5.0",
      "_view_name": "HTMLView",
      "description": "",
      "description_tooltip": null,
      "layout": "IPY_MODEL_52f5df65d30a4562980d06ab71b981c6",
      "placeholder": "​",
      "style": "IPY_MODEL_df0c46c6301341b39f1cfe17c606c562",
      "value": " 1647/1647 [00:00&lt;00:00, 14240.43 examples/s]"
     }
    },
    "8060934309454280a0f7ec1a3a94876d": {
     "model_module": "@jupyter-widgets/base",
     "model_module_version": "1.2.0",
     "model_name": "LayoutModel",
     "state": {
      "_model_module": "@jupyter-widgets/base",
      "_model_module_version": "1.2.0",
      "_model_name": "LayoutModel",
      "_view_count": null,
      "_view_module": "@jupyter-widgets/base",
      "_view_module_version": "1.2.0",
      "_view_name": "LayoutView",
      "align_content": null,
      "align_items": null,
      "align_self": null,
      "border": null,
      "bottom": null,
      "display": null,
      "flex": null,
      "flex_flow": null,
      "grid_area": null,
      "grid_auto_columns": null,
      "grid_auto_flow": null,
      "grid_auto_rows": null,
      "grid_column": null,
      "grid_gap": null,
      "grid_row": null,
      "grid_template_areas": null,
      "grid_template_columns": null,
      "grid_template_rows": null,
      "height": null,
      "justify_content": null,
      "justify_items": null,
      "left": null,
      "margin": null,
      "max_height": null,
      "max_width": null,
      "min_height": null,
      "min_width": null,
      "object_fit": null,
      "object_position": null,
      "order": null,
      "overflow": null,
      "overflow_x": null,
      "overflow_y": null,
      "padding": null,
      "right": null,
      "top": null,
      "visibility": null,
      "width": null
     }
    },
    "80a0fa120e8347a8a2a45cf6360754ec": {
     "model_module": "@jupyter-widgets/base",
     "model_module_version": "1.2.0",
     "model_name": "LayoutModel",
     "state": {
      "_model_module": "@jupyter-widgets/base",
      "_model_module_version": "1.2.0",
      "_model_name": "LayoutModel",
      "_view_count": null,
      "_view_module": "@jupyter-widgets/base",
      "_view_module_version": "1.2.0",
      "_view_name": "LayoutView",
      "align_content": null,
      "align_items": null,
      "align_self": null,
      "border": null,
      "bottom": null,
      "display": null,
      "flex": null,
      "flex_flow": null,
      "grid_area": null,
      "grid_auto_columns": null,
      "grid_auto_flow": null,
      "grid_auto_rows": null,
      "grid_column": null,
      "grid_gap": null,
      "grid_row": null,
      "grid_template_areas": null,
      "grid_template_columns": null,
      "grid_template_rows": null,
      "height": null,
      "justify_content": null,
      "justify_items": null,
      "left": null,
      "margin": null,
      "max_height": null,
      "max_width": null,
      "min_height": null,
      "min_width": null,
      "object_fit": null,
      "object_position": null,
      "order": null,
      "overflow": null,
      "overflow_x": null,
      "overflow_y": null,
      "padding": null,
      "right": null,
      "top": null,
      "visibility": null,
      "width": null
     }
    },
    "8541f8f949ea49b7a1335aaf31ca4f81": {
     "model_module": "@jupyter-widgets/base",
     "model_module_version": "1.2.0",
     "model_name": "LayoutModel",
     "state": {
      "_model_module": "@jupyter-widgets/base",
      "_model_module_version": "1.2.0",
      "_model_name": "LayoutModel",
      "_view_count": null,
      "_view_module": "@jupyter-widgets/base",
      "_view_module_version": "1.2.0",
      "_view_name": "LayoutView",
      "align_content": null,
      "align_items": null,
      "align_self": null,
      "border": null,
      "bottom": null,
      "display": null,
      "flex": null,
      "flex_flow": null,
      "grid_area": null,
      "grid_auto_columns": null,
      "grid_auto_flow": null,
      "grid_auto_rows": null,
      "grid_column": null,
      "grid_gap": null,
      "grid_row": null,
      "grid_template_areas": null,
      "grid_template_columns": null,
      "grid_template_rows": null,
      "height": null,
      "justify_content": null,
      "justify_items": null,
      "left": null,
      "margin": null,
      "max_height": null,
      "max_width": null,
      "min_height": null,
      "min_width": null,
      "object_fit": null,
      "object_position": null,
      "order": null,
      "overflow": null,
      "overflow_x": null,
      "overflow_y": null,
      "padding": null,
      "right": null,
      "top": null,
      "visibility": null,
      "width": null
     }
    },
    "8598e6d345e14908a7dc734744d0fdc9": {
     "model_module": "@jupyter-widgets/base",
     "model_module_version": "1.2.0",
     "model_name": "LayoutModel",
     "state": {
      "_model_module": "@jupyter-widgets/base",
      "_model_module_version": "1.2.0",
      "_model_name": "LayoutModel",
      "_view_count": null,
      "_view_module": "@jupyter-widgets/base",
      "_view_module_version": "1.2.0",
      "_view_name": "LayoutView",
      "align_content": null,
      "align_items": null,
      "align_self": null,
      "border": null,
      "bottom": null,
      "display": null,
      "flex": null,
      "flex_flow": null,
      "grid_area": null,
      "grid_auto_columns": null,
      "grid_auto_flow": null,
      "grid_auto_rows": null,
      "grid_column": null,
      "grid_gap": null,
      "grid_row": null,
      "grid_template_areas": null,
      "grid_template_columns": null,
      "grid_template_rows": null,
      "height": null,
      "justify_content": null,
      "justify_items": null,
      "left": null,
      "margin": null,
      "max_height": null,
      "max_width": null,
      "min_height": null,
      "min_width": null,
      "object_fit": null,
      "object_position": null,
      "order": null,
      "overflow": null,
      "overflow_x": null,
      "overflow_y": null,
      "padding": null,
      "right": null,
      "top": null,
      "visibility": null,
      "width": null
     }
    },
    "85b97086c8a0488f8afede8fd4f4d0f6": {
     "model_module": "@jupyter-widgets/controls",
     "model_module_version": "1.5.0",
     "model_name": "HBoxModel",
     "state": {
      "_dom_classes": [],
      "_model_module": "@jupyter-widgets/controls",
      "_model_module_version": "1.5.0",
      "_model_name": "HBoxModel",
      "_view_count": null,
      "_view_module": "@jupyter-widgets/controls",
      "_view_module_version": "1.5.0",
      "_view_name": "HBoxView",
      "box_style": "",
      "children": [
       "IPY_MODEL_0094e0d1db594dd599cbebfc0f81704a",
       "IPY_MODEL_49d273264f7b4a568331fe6775a16ad0",
       "IPY_MODEL_5d6bb4fbd2d347169dd25e8b3c8b1511"
      ],
      "layout": "IPY_MODEL_2a5ce6b4288e4e8382b8a02f5512f758"
     }
    },
    "888bee55d25e424c9759bdd787e29c0c": {
     "model_module": "@jupyter-widgets/controls",
     "model_module_version": "1.5.0",
     "model_name": "HBoxModel",
     "state": {
      "_dom_classes": [],
      "_model_module": "@jupyter-widgets/controls",
      "_model_module_version": "1.5.0",
      "_model_name": "HBoxModel",
      "_view_count": null,
      "_view_module": "@jupyter-widgets/controls",
      "_view_module_version": "1.5.0",
      "_view_name": "HBoxView",
      "box_style": "",
      "children": [
       "IPY_MODEL_326945b55ece4953aa57d8fc770fe9ae",
       "IPY_MODEL_1081c221e66d4a1cb2f9d674c36f2ae7",
       "IPY_MODEL_57c3cfc5e418425ba4445d60b2092105"
      ],
      "layout": "IPY_MODEL_bd61e4bd547b48a4b8c1a9a1a5b27774"
     }
    },
    "8b535c74e9694015b571b93b9cb057fb": {
     "model_module": "@jupyter-widgets/controls",
     "model_module_version": "1.5.0",
     "model_name": "HTMLModel",
     "state": {
      "_dom_classes": [],
      "_model_module": "@jupyter-widgets/controls",
      "_model_module_version": "1.5.0",
      "_model_name": "HTMLModel",
      "_view_count": null,
      "_view_module": "@jupyter-widgets/controls",
      "_view_module_version": "1.5.0",
      "_view_name": "HTMLView",
      "description": "",
      "description_tooltip": null,
      "layout": "IPY_MODEL_c0dee939645140c197eade938c2e2106",
      "placeholder": "​",
      "style": "IPY_MODEL_5b5387596e1544058da905d35b9d8797",
      "value": "Map: 100%"
     }
    },
    "8b8a8b18e788468bad31edcb49b43494": {
     "model_module": "@jupyter-widgets/base",
     "model_module_version": "1.2.0",
     "model_name": "LayoutModel",
     "state": {
      "_model_module": "@jupyter-widgets/base",
      "_model_module_version": "1.2.0",
      "_model_name": "LayoutModel",
      "_view_count": null,
      "_view_module": "@jupyter-widgets/base",
      "_view_module_version": "1.2.0",
      "_view_name": "LayoutView",
      "align_content": null,
      "align_items": null,
      "align_self": null,
      "border": null,
      "bottom": null,
      "display": null,
      "flex": null,
      "flex_flow": null,
      "grid_area": null,
      "grid_auto_columns": null,
      "grid_auto_flow": null,
      "grid_auto_rows": null,
      "grid_column": null,
      "grid_gap": null,
      "grid_row": null,
      "grid_template_areas": null,
      "grid_template_columns": null,
      "grid_template_rows": null,
      "height": null,
      "justify_content": null,
      "justify_items": null,
      "left": null,
      "margin": null,
      "max_height": null,
      "max_width": null,
      "min_height": null,
      "min_width": null,
      "object_fit": null,
      "object_position": null,
      "order": null,
      "overflow": null,
      "overflow_x": null,
      "overflow_y": null,
      "padding": null,
      "right": null,
      "top": null,
      "visibility": null,
      "width": null
     }
    },
    "8db7e26742104b56be84bf31d0dcb666": {
     "model_module": "@jupyter-widgets/controls",
     "model_module_version": "1.5.0",
     "model_name": "FloatProgressModel",
     "state": {
      "_dom_classes": [],
      "_model_module": "@jupyter-widgets/controls",
      "_model_module_version": "1.5.0",
      "_model_name": "FloatProgressModel",
      "_view_count": null,
      "_view_module": "@jupyter-widgets/controls",
      "_view_module_version": "1.5.0",
      "_view_name": "ProgressView",
      "bar_style": "success",
      "description": "",
      "description_tooltip": null,
      "layout": "IPY_MODEL_d5e75770e38b4c1a99d94543f88d09d2",
      "max": 3478,
      "min": 0,
      "orientation": "horizontal",
      "style": "IPY_MODEL_48de21f6a88640f38f4a79f938f9b7f3",
      "value": 3478
     }
    },
    "8e05860b397f4a1299b4efa64aeea1cf": {
     "model_module": "@jupyter-widgets/controls",
     "model_module_version": "1.5.0",
     "model_name": "DescriptionStyleModel",
     "state": {
      "_model_module": "@jupyter-widgets/controls",
      "_model_module_version": "1.5.0",
      "_model_name": "DescriptionStyleModel",
      "_view_count": null,
      "_view_module": "@jupyter-widgets/base",
      "_view_module_version": "1.2.0",
      "_view_name": "StyleView",
      "description_width": ""
     }
    },
    "8f4184b188994155ab6210f5e303bfe3": {
     "model_module": "@jupyter-widgets/controls",
     "model_module_version": "1.5.0",
     "model_name": "DescriptionStyleModel",
     "state": {
      "_model_module": "@jupyter-widgets/controls",
      "_model_module_version": "1.5.0",
      "_model_name": "DescriptionStyleModel",
      "_view_count": null,
      "_view_module": "@jupyter-widgets/base",
      "_view_module_version": "1.2.0",
      "_view_name": "StyleView",
      "description_width": ""
     }
    },
    "8f8c14e0898747118d55ba3a3b2da545": {
     "model_module": "@jupyter-widgets/base",
     "model_module_version": "1.2.0",
     "model_name": "LayoutModel",
     "state": {
      "_model_module": "@jupyter-widgets/base",
      "_model_module_version": "1.2.0",
      "_model_name": "LayoutModel",
      "_view_count": null,
      "_view_module": "@jupyter-widgets/base",
      "_view_module_version": "1.2.0",
      "_view_name": "LayoutView",
      "align_content": null,
      "align_items": null,
      "align_self": null,
      "border": null,
      "bottom": null,
      "display": null,
      "flex": null,
      "flex_flow": null,
      "grid_area": null,
      "grid_auto_columns": null,
      "grid_auto_flow": null,
      "grid_auto_rows": null,
      "grid_column": null,
      "grid_gap": null,
      "grid_row": null,
      "grid_template_areas": null,
      "grid_template_columns": null,
      "grid_template_rows": null,
      "height": null,
      "justify_content": null,
      "justify_items": null,
      "left": null,
      "margin": null,
      "max_height": null,
      "max_width": null,
      "min_height": null,
      "min_width": null,
      "object_fit": null,
      "object_position": null,
      "order": null,
      "overflow": null,
      "overflow_x": null,
      "overflow_y": null,
      "padding": null,
      "right": null,
      "top": null,
      "visibility": null,
      "width": null
     }
    },
    "8fa59765defb447fb91c66ed5bbe3ddf": {
     "model_module": "@jupyter-widgets/controls",
     "model_module_version": "1.5.0",
     "model_name": "HTMLModel",
     "state": {
      "_dom_classes": [],
      "_model_module": "@jupyter-widgets/controls",
      "_model_module_version": "1.5.0",
      "_model_name": "HTMLModel",
      "_view_count": null,
      "_view_module": "@jupyter-widgets/controls",
      "_view_module_version": "1.5.0",
      "_view_name": "HTMLView",
      "description": "",
      "description_tooltip": null,
      "layout": "IPY_MODEL_7850b3f606074236a5e54bf783f766cf",
      "placeholder": "​",
      "style": "IPY_MODEL_8f4184b188994155ab6210f5e303bfe3",
      "value": " 1.27G/1.27G [00:05&lt;00:00, 255MB/s]"
     }
    },
    "8fb6b16f2ae0460e83dd3102491e7786": {
     "model_module": "@jupyter-widgets/controls",
     "model_module_version": "1.5.0",
     "model_name": "HTMLModel",
     "state": {
      "_dom_classes": [],
      "_model_module": "@jupyter-widgets/controls",
      "_model_module_version": "1.5.0",
      "_model_name": "HTMLModel",
      "_view_count": null,
      "_view_module": "@jupyter-widgets/controls",
      "_view_module_version": "1.5.0",
      "_view_name": "HTMLView",
      "description": "",
      "description_tooltip": null,
      "layout": "IPY_MODEL_0c675b0b6cc540668f2d42459250bf28",
      "placeholder": "​",
      "style": "IPY_MODEL_26c90805f82046a58bec996615c59567",
      "value": "Map: 100%"
     }
    },
    "9335c49308d8494189d5c1cfdc121f88": {
     "model_module": "@jupyter-widgets/controls",
     "model_module_version": "1.5.0",
     "model_name": "HTMLModel",
     "state": {
      "_dom_classes": [],
      "_model_module": "@jupyter-widgets/controls",
      "_model_module_version": "1.5.0",
      "_model_name": "HTMLModel",
      "_view_count": null,
      "_view_module": "@jupyter-widgets/controls",
      "_view_module_version": "1.5.0",
      "_view_name": "HTMLView",
      "description": "",
      "description_tooltip": null,
      "layout": "IPY_MODEL_b2d95e965fcb4c65a61d3d3b9d0c3e9d",
      "placeholder": "​",
      "style": "IPY_MODEL_2407f4308df64988988093720783f3bd",
      "value": "Map: 100%"
     }
    },
    "94a37fcd1fd34dbfadef25fceb5ee0fa": {
     "model_module": "@jupyter-widgets/controls",
     "model_module_version": "1.5.0",
     "model_name": "HTMLModel",
     "state": {
      "_dom_classes": [],
      "_model_module": "@jupyter-widgets/controls",
      "_model_module_version": "1.5.0",
      "_model_name": "HTMLModel",
      "_view_count": null,
      "_view_module": "@jupyter-widgets/controls",
      "_view_module_version": "1.5.0",
      "_view_name": "HTMLView",
      "description": "",
      "description_tooltip": null,
      "layout": "IPY_MODEL_563d8a10bf6b4ecca70a6ccf9c275f99",
      "placeholder": "​",
      "style": "IPY_MODEL_cd85839482e6435da17ded5d1efe757c",
      "value": " 4.48k/? [00:00&lt;00:00, 191kB/s]"
     }
    },
    "95b9c124f9594ee987833d2dd3f4c7d8": {
     "model_module": "@jupyter-widgets/base",
     "model_module_version": "1.2.0",
     "model_name": "LayoutModel",
     "state": {
      "_model_module": "@jupyter-widgets/base",
      "_model_module_version": "1.2.0",
      "_model_name": "LayoutModel",
      "_view_count": null,
      "_view_module": "@jupyter-widgets/base",
      "_view_module_version": "1.2.0",
      "_view_name": "LayoutView",
      "align_content": null,
      "align_items": null,
      "align_self": null,
      "border": null,
      "bottom": null,
      "display": null,
      "flex": null,
      "flex_flow": null,
      "grid_area": null,
      "grid_auto_columns": null,
      "grid_auto_flow": null,
      "grid_auto_rows": null,
      "grid_column": null,
      "grid_gap": null,
      "grid_row": null,
      "grid_template_areas": null,
      "grid_template_columns": null,
      "grid_template_rows": null,
      "height": null,
      "justify_content": null,
      "justify_items": null,
      "left": null,
      "margin": null,
      "max_height": null,
      "max_width": null,
      "min_height": null,
      "min_width": null,
      "object_fit": null,
      "object_position": null,
      "order": null,
      "overflow": null,
      "overflow_x": null,
      "overflow_y": null,
      "padding": null,
      "right": null,
      "top": null,
      "visibility": null,
      "width": null
     }
    },
    "95c47f7181eb40eea5b990287f4513a6": {
     "model_module": "@jupyter-widgets/base",
     "model_module_version": "1.2.0",
     "model_name": "LayoutModel",
     "state": {
      "_model_module": "@jupyter-widgets/base",
      "_model_module_version": "1.2.0",
      "_model_name": "LayoutModel",
      "_view_count": null,
      "_view_module": "@jupyter-widgets/base",
      "_view_module_version": "1.2.0",
      "_view_name": "LayoutView",
      "align_content": null,
      "align_items": null,
      "align_self": null,
      "border": null,
      "bottom": null,
      "display": null,
      "flex": null,
      "flex_flow": null,
      "grid_area": null,
      "grid_auto_columns": null,
      "grid_auto_flow": null,
      "grid_auto_rows": null,
      "grid_column": null,
      "grid_gap": null,
      "grid_row": null,
      "grid_template_areas": null,
      "grid_template_columns": null,
      "grid_template_rows": null,
      "height": null,
      "justify_content": null,
      "justify_items": null,
      "left": null,
      "margin": null,
      "max_height": null,
      "max_width": null,
      "min_height": null,
      "min_width": null,
      "object_fit": null,
      "object_position": null,
      "order": null,
      "overflow": null,
      "overflow_x": null,
      "overflow_y": null,
      "padding": null,
      "right": null,
      "top": null,
      "visibility": null,
      "width": null
     }
    },
    "977d293649574326a3103a7b4022d779": {
     "model_module": "@jupyter-widgets/controls",
     "model_module_version": "1.5.0",
     "model_name": "ProgressStyleModel",
     "state": {
      "_model_module": "@jupyter-widgets/controls",
      "_model_module_version": "1.5.0",
      "_model_name": "ProgressStyleModel",
      "_view_count": null,
      "_view_module": "@jupyter-widgets/base",
      "_view_module_version": "1.2.0",
      "_view_name": "StyleView",
      "bar_color": null,
      "description_width": ""
     }
    },
    "9bf89e83d22e40f789d567a384919973": {
     "model_module": "@jupyter-widgets/base",
     "model_module_version": "1.2.0",
     "model_name": "LayoutModel",
     "state": {
      "_model_module": "@jupyter-widgets/base",
      "_model_module_version": "1.2.0",
      "_model_name": "LayoutModel",
      "_view_count": null,
      "_view_module": "@jupyter-widgets/base",
      "_view_module_version": "1.2.0",
      "_view_name": "LayoutView",
      "align_content": null,
      "align_items": null,
      "align_self": null,
      "border": null,
      "bottom": null,
      "display": null,
      "flex": null,
      "flex_flow": null,
      "grid_area": null,
      "grid_auto_columns": null,
      "grid_auto_flow": null,
      "grid_auto_rows": null,
      "grid_column": null,
      "grid_gap": null,
      "grid_row": null,
      "grid_template_areas": null,
      "grid_template_columns": null,
      "grid_template_rows": null,
      "height": null,
      "justify_content": null,
      "justify_items": null,
      "left": null,
      "margin": null,
      "max_height": null,
      "max_width": null,
      "min_height": null,
      "min_width": null,
      "object_fit": null,
      "object_position": null,
      "order": null,
      "overflow": null,
      "overflow_x": null,
      "overflow_y": null,
      "padding": null,
      "right": null,
      "top": null,
      "visibility": null,
      "width": null
     }
    },
    "a1245de5a21c4ed28a38a522d2aa8ed5": {
     "model_module": "@jupyter-widgets/controls",
     "model_module_version": "1.5.0",
     "model_name": "HTMLModel",
     "state": {
      "_dom_classes": [],
      "_model_module": "@jupyter-widgets/controls",
      "_model_module_version": "1.5.0",
      "_model_name": "HTMLModel",
      "_view_count": null,
      "_view_module": "@jupyter-widgets/controls",
      "_view_module_version": "1.5.0",
      "_view_name": "HTMLView",
      "description": "",
      "description_tooltip": null,
      "layout": "IPY_MODEL_c3e44d2a09ce4b82b4432f49f3d72ac9",
      "placeholder": "​",
      "style": "IPY_MODEL_ac1499c69c514d3abf1aa2e4c7e720e8",
      "value": "Downloading pytorch_model.bin: 100%"
     }
    },
    "a150941f998c49f3a71ac211cfd71732": {
     "model_module": "@jupyter-widgets/base",
     "model_module_version": "1.2.0",
     "model_name": "LayoutModel",
     "state": {
      "_model_module": "@jupyter-widgets/base",
      "_model_module_version": "1.2.0",
      "_model_name": "LayoutModel",
      "_view_count": null,
      "_view_module": "@jupyter-widgets/base",
      "_view_module_version": "1.2.0",
      "_view_name": "LayoutView",
      "align_content": null,
      "align_items": null,
      "align_self": null,
      "border": null,
      "bottom": null,
      "display": null,
      "flex": null,
      "flex_flow": null,
      "grid_area": null,
      "grid_auto_columns": null,
      "grid_auto_flow": null,
      "grid_auto_rows": null,
      "grid_column": null,
      "grid_gap": null,
      "grid_row": null,
      "grid_template_areas": null,
      "grid_template_columns": null,
      "grid_template_rows": null,
      "height": null,
      "justify_content": null,
      "justify_items": null,
      "left": null,
      "margin": null,
      "max_height": null,
      "max_width": null,
      "min_height": null,
      "min_width": null,
      "object_fit": null,
      "object_position": null,
      "order": null,
      "overflow": null,
      "overflow_x": null,
      "overflow_y": null,
      "padding": null,
      "right": null,
      "top": null,
      "visibility": null,
      "width": null
     }
    },
    "a1d623f441d94105818e0b7b1ed85710": {
     "model_module": "@jupyter-widgets/base",
     "model_module_version": "1.2.0",
     "model_name": "LayoutModel",
     "state": {
      "_model_module": "@jupyter-widgets/base",
      "_model_module_version": "1.2.0",
      "_model_name": "LayoutModel",
      "_view_count": null,
      "_view_module": "@jupyter-widgets/base",
      "_view_module_version": "1.2.0",
      "_view_name": "LayoutView",
      "align_content": null,
      "align_items": null,
      "align_self": null,
      "border": null,
      "bottom": null,
      "display": null,
      "flex": null,
      "flex_flow": null,
      "grid_area": null,
      "grid_auto_columns": null,
      "grid_auto_flow": null,
      "grid_auto_rows": null,
      "grid_column": null,
      "grid_gap": null,
      "grid_row": null,
      "grid_template_areas": null,
      "grid_template_columns": null,
      "grid_template_rows": null,
      "height": null,
      "justify_content": null,
      "justify_items": null,
      "left": null,
      "margin": null,
      "max_height": null,
      "max_width": null,
      "min_height": null,
      "min_width": null,
      "object_fit": null,
      "object_position": null,
      "order": null,
      "overflow": null,
      "overflow_x": null,
      "overflow_y": null,
      "padding": null,
      "right": null,
      "top": null,
      "visibility": "hidden",
      "width": null
     }
    },
    "a28d3e82e04646b79c89f93cf40ee596": {
     "model_module": "@jupyter-widgets/controls",
     "model_module_version": "1.5.0",
     "model_name": "PasswordModel",
     "state": {
      "_dom_classes": [],
      "_model_module": "@jupyter-widgets/controls",
      "_model_module_version": "1.5.0",
      "_model_name": "PasswordModel",
      "_view_count": null,
      "_view_module": "@jupyter-widgets/controls",
      "_view_module_version": "1.5.0",
      "_view_name": "PasswordView",
      "continuous_update": true,
      "description": "Password:",
      "description_tooltip": null,
      "disabled": false,
      "layout": "IPY_MODEL_8541f8f949ea49b7a1335aaf31ca4f81",
      "placeholder": "​",
      "style": "IPY_MODEL_c237b5686d3e48aeb226c87aa703f63d",
      "value": ""
     }
    },
    "a484e861930d4d678277c628bbb10508": {
     "model_module": "@jupyter-widgets/controls",
     "model_module_version": "1.5.0",
     "model_name": "FloatProgressModel",
     "state": {
      "_dom_classes": [],
      "_model_module": "@jupyter-widgets/controls",
      "_model_module_version": "1.5.0",
      "_model_name": "FloatProgressModel",
      "_view_count": null,
      "_view_module": "@jupyter-widgets/controls",
      "_view_module_version": "1.5.0",
      "_view_name": "ProgressView",
      "bar_style": "success",
      "description": "",
      "description_tooltip": null,
      "layout": "IPY_MODEL_c9210945e50c47b984193c3633194721",
      "max": 1647,
      "min": 0,
      "orientation": "horizontal",
      "style": "IPY_MODEL_a6356bbd4ca0480eb2f05b88109f9f13",
      "value": 1647
     }
    },
    "a4fb8e9875954ac2b3d55832fc78aa62": {
     "model_module": "@jupyter-widgets/controls",
     "model_module_version": "1.5.0",
     "model_name": "DescriptionStyleModel",
     "state": {
      "_model_module": "@jupyter-widgets/controls",
      "_model_module_version": "1.5.0",
      "_model_name": "DescriptionStyleModel",
      "_view_count": null,
      "_view_module": "@jupyter-widgets/base",
      "_view_module_version": "1.2.0",
      "_view_name": "StyleView",
      "description_width": ""
     }
    },
    "a6356bbd4ca0480eb2f05b88109f9f13": {
     "model_module": "@jupyter-widgets/controls",
     "model_module_version": "1.5.0",
     "model_name": "ProgressStyleModel",
     "state": {
      "_model_module": "@jupyter-widgets/controls",
      "_model_module_version": "1.5.0",
      "_model_name": "ProgressStyleModel",
      "_view_count": null,
      "_view_module": "@jupyter-widgets/base",
      "_view_module_version": "1.2.0",
      "_view_name": "StyleView",
      "bar_color": null,
      "description_width": ""
     }
    },
    "a8a3649aed3c48db86671e89d4164569": {
     "model_module": "@jupyter-widgets/base",
     "model_module_version": "1.2.0",
     "model_name": "LayoutModel",
     "state": {
      "_model_module": "@jupyter-widgets/base",
      "_model_module_version": "1.2.0",
      "_model_name": "LayoutModel",
      "_view_count": null,
      "_view_module": "@jupyter-widgets/base",
      "_view_module_version": "1.2.0",
      "_view_name": "LayoutView",
      "align_content": null,
      "align_items": null,
      "align_self": null,
      "border": null,
      "bottom": null,
      "display": null,
      "flex": null,
      "flex_flow": null,
      "grid_area": null,
      "grid_auto_columns": null,
      "grid_auto_flow": null,
      "grid_auto_rows": null,
      "grid_column": null,
      "grid_gap": null,
      "grid_row": null,
      "grid_template_areas": null,
      "grid_template_columns": null,
      "grid_template_rows": null,
      "height": null,
      "justify_content": null,
      "justify_items": null,
      "left": null,
      "margin": null,
      "max_height": null,
      "max_width": null,
      "min_height": null,
      "min_width": null,
      "object_fit": null,
      "object_position": null,
      "order": null,
      "overflow": null,
      "overflow_x": null,
      "overflow_y": null,
      "padding": null,
      "right": null,
      "top": null,
      "visibility": null,
      "width": null
     }
    },
    "a967e53c5ff54254ba337f9c271080e0": {
     "model_module": "@jupyter-widgets/base",
     "model_module_version": "1.2.0",
     "model_name": "LayoutModel",
     "state": {
      "_model_module": "@jupyter-widgets/base",
      "_model_module_version": "1.2.0",
      "_model_name": "LayoutModel",
      "_view_count": null,
      "_view_module": "@jupyter-widgets/base",
      "_view_module_version": "1.2.0",
      "_view_name": "LayoutView",
      "align_content": null,
      "align_items": null,
      "align_self": null,
      "border": null,
      "bottom": null,
      "display": null,
      "flex": null,
      "flex_flow": null,
      "grid_area": null,
      "grid_auto_columns": null,
      "grid_auto_flow": null,
      "grid_auto_rows": null,
      "grid_column": null,
      "grid_gap": null,
      "grid_row": null,
      "grid_template_areas": null,
      "grid_template_columns": null,
      "grid_template_rows": null,
      "height": null,
      "justify_content": null,
      "justify_items": null,
      "left": null,
      "margin": null,
      "max_height": null,
      "max_width": null,
      "min_height": null,
      "min_width": null,
      "object_fit": null,
      "object_position": null,
      "order": null,
      "overflow": null,
      "overflow_x": null,
      "overflow_y": null,
      "padding": null,
      "right": null,
      "top": null,
      "visibility": null,
      "width": null
     }
    },
    "aa52c92efdac48b58a9850b1379a213c": {
     "model_module": "@jupyter-widgets/base",
     "model_module_version": "1.2.0",
     "model_name": "LayoutModel",
     "state": {
      "_model_module": "@jupyter-widgets/base",
      "_model_module_version": "1.2.0",
      "_model_name": "LayoutModel",
      "_view_count": null,
      "_view_module": "@jupyter-widgets/base",
      "_view_module_version": "1.2.0",
      "_view_name": "LayoutView",
      "align_content": null,
      "align_items": null,
      "align_self": null,
      "border": null,
      "bottom": null,
      "display": null,
      "flex": null,
      "flex_flow": null,
      "grid_area": null,
      "grid_auto_columns": null,
      "grid_auto_flow": null,
      "grid_auto_rows": null,
      "grid_column": null,
      "grid_gap": null,
      "grid_row": null,
      "grid_template_areas": null,
      "grid_template_columns": null,
      "grid_template_rows": null,
      "height": null,
      "justify_content": null,
      "justify_items": null,
      "left": null,
      "margin": null,
      "max_height": null,
      "max_width": null,
      "min_height": null,
      "min_width": null,
      "object_fit": null,
      "object_position": null,
      "order": null,
      "overflow": null,
      "overflow_x": null,
      "overflow_y": null,
      "padding": null,
      "right": null,
      "top": null,
      "visibility": null,
      "width": null
     }
    },
    "aa5c8b58bd954f2ba50b4f70bf1af27d": {
     "model_module": "@jupyter-widgets/controls",
     "model_module_version": "1.5.0",
     "model_name": "FloatProgressModel",
     "state": {
      "_dom_classes": [],
      "_model_module": "@jupyter-widgets/controls",
      "_model_module_version": "1.5.0",
      "_model_name": "FloatProgressModel",
      "_view_count": null,
      "_view_module": "@jupyter-widgets/controls",
      "_view_module_version": "1.5.0",
      "_view_name": "ProgressView",
      "bar_style": "info",
      "description": "",
      "description_tooltip": null,
      "layout": "IPY_MODEL_542cc8c9582645ee8401c9f825cc9f42",
      "max": 1,
      "min": 0,
      "orientation": "horizontal",
      "style": "IPY_MODEL_2925b97597af4ed4993fa430238c38d0",
      "value": 1
     }
    },
    "ac1499c69c514d3abf1aa2e4c7e720e8": {
     "model_module": "@jupyter-widgets/controls",
     "model_module_version": "1.5.0",
     "model_name": "DescriptionStyleModel",
     "state": {
      "_model_module": "@jupyter-widgets/controls",
      "_model_module_version": "1.5.0",
      "_model_name": "DescriptionStyleModel",
      "_view_count": null,
      "_view_module": "@jupyter-widgets/base",
      "_view_module_version": "1.2.0",
      "_view_name": "StyleView",
      "description_width": ""
     }
    },
    "ac18827da5144ccfb034f9f327bbf97d": {
     "model_module": "@jupyter-widgets/controls",
     "model_module_version": "1.5.0",
     "model_name": "FloatProgressModel",
     "state": {
      "_dom_classes": [],
      "_model_module": "@jupyter-widgets/controls",
      "_model_module_version": "1.5.0",
      "_model_name": "FloatProgressModel",
      "_view_count": null,
      "_view_module": "@jupyter-widgets/controls",
      "_view_module_version": "1.5.0",
      "_view_name": "ProgressView",
      "bar_style": "success",
      "description": "",
      "description_tooltip": null,
      "layout": "IPY_MODEL_b956c2695d9c4701bff08f3fb44f227b",
      "max": 1647,
      "min": 0,
      "orientation": "horizontal",
      "style": "IPY_MODEL_e9723153d40d497ebb962c64dfbb0baa",
      "value": 1647
     }
    },
    "acf5f4a43fee41409cbf0421de419d9a": {
     "model_module": "@jupyter-widgets/base",
     "model_module_version": "1.2.0",
     "model_name": "LayoutModel",
     "state": {
      "_model_module": "@jupyter-widgets/base",
      "_model_module_version": "1.2.0",
      "_model_name": "LayoutModel",
      "_view_count": null,
      "_view_module": "@jupyter-widgets/base",
      "_view_module_version": "1.2.0",
      "_view_name": "LayoutView",
      "align_content": null,
      "align_items": null,
      "align_self": null,
      "border": null,
      "bottom": null,
      "display": null,
      "flex": null,
      "flex_flow": null,
      "grid_area": null,
      "grid_auto_columns": null,
      "grid_auto_flow": null,
      "grid_auto_rows": null,
      "grid_column": null,
      "grid_gap": null,
      "grid_row": null,
      "grid_template_areas": null,
      "grid_template_columns": null,
      "grid_template_rows": null,
      "height": null,
      "justify_content": null,
      "justify_items": null,
      "left": null,
      "margin": null,
      "max_height": null,
      "max_width": null,
      "min_height": null,
      "min_width": null,
      "object_fit": null,
      "object_position": null,
      "order": null,
      "overflow": null,
      "overflow_x": null,
      "overflow_y": null,
      "padding": null,
      "right": null,
      "top": null,
      "visibility": null,
      "width": null
     }
    },
    "b07acb3a06144ceeb4f54e4e36aa9de4": {
     "model_module": "@jupyter-widgets/controls",
     "model_module_version": "1.5.0",
     "model_name": "DescriptionStyleModel",
     "state": {
      "_model_module": "@jupyter-widgets/controls",
      "_model_module_version": "1.5.0",
      "_model_name": "DescriptionStyleModel",
      "_view_count": null,
      "_view_module": "@jupyter-widgets/base",
      "_view_module_version": "1.2.0",
      "_view_name": "StyleView",
      "description_width": ""
     }
    },
    "b2d95e965fcb4c65a61d3d3b9d0c3e9d": {
     "model_module": "@jupyter-widgets/base",
     "model_module_version": "1.2.0",
     "model_name": "LayoutModel",
     "state": {
      "_model_module": "@jupyter-widgets/base",
      "_model_module_version": "1.2.0",
      "_model_name": "LayoutModel",
      "_view_count": null,
      "_view_module": "@jupyter-widgets/base",
      "_view_module_version": "1.2.0",
      "_view_name": "LayoutView",
      "align_content": null,
      "align_items": null,
      "align_self": null,
      "border": null,
      "bottom": null,
      "display": null,
      "flex": null,
      "flex_flow": null,
      "grid_area": null,
      "grid_auto_columns": null,
      "grid_auto_flow": null,
      "grid_auto_rows": null,
      "grid_column": null,
      "grid_gap": null,
      "grid_row": null,
      "grid_template_areas": null,
      "grid_template_columns": null,
      "grid_template_rows": null,
      "height": null,
      "justify_content": null,
      "justify_items": null,
      "left": null,
      "margin": null,
      "max_height": null,
      "max_width": null,
      "min_height": null,
      "min_width": null,
      "object_fit": null,
      "object_position": null,
      "order": null,
      "overflow": null,
      "overflow_x": null,
      "overflow_y": null,
      "padding": null,
      "right": null,
      "top": null,
      "visibility": null,
      "width": null
     }
    },
    "b35e65db47364befa435a9d009d77df8": {
     "model_module": "@jupyter-widgets/controls",
     "model_module_version": "1.5.0",
     "model_name": "HBoxModel",
     "state": {
      "_dom_classes": [],
      "_model_module": "@jupyter-widgets/controls",
      "_model_module_version": "1.5.0",
      "_model_name": "HBoxModel",
      "_view_count": null,
      "_view_module": "@jupyter-widgets/controls",
      "_view_module_version": "1.5.0",
      "_view_name": "HBoxView",
      "box_style": "",
      "children": [
       "IPY_MODEL_8fb6b16f2ae0460e83dd3102491e7786",
       "IPY_MODEL_665587c521a6472fab1be16d33684603",
       "IPY_MODEL_c3abe8321c164c26b2db5fd4e9157258"
      ],
      "layout": "IPY_MODEL_e967b05b270a4a37ad107207425855fa"
     }
    },
    "b37b68cf54d048b9a5c9e4f5bac1b0b2": {
     "model_module": "@jupyter-widgets/controls",
     "model_module_version": "1.5.0",
     "model_name": "HTMLModel",
     "state": {
      "_dom_classes": [],
      "_model_module": "@jupyter-widgets/controls",
      "_model_module_version": "1.5.0",
      "_model_name": "HTMLModel",
      "_view_count": null,
      "_view_module": "@jupyter-widgets/controls",
      "_view_module_version": "1.5.0",
      "_view_name": "HTMLView",
      "description": "",
      "description_tooltip": null,
      "layout": "IPY_MODEL_3948eb70c21a4a22808b512c6cf35f32",
      "placeholder": "​",
      "style": "IPY_MODEL_d6e33ac3f4694137a292f2e5f24e2554",
      "value": ""
     }
    },
    "b51b24b25e8343668b8a9d15d7d07c13": {
     "model_module": "@jupyter-widgets/controls",
     "model_module_version": "1.5.0",
     "model_name": "HBoxModel",
     "state": {
      "_dom_classes": [],
      "_model_module": "@jupyter-widgets/controls",
      "_model_module_version": "1.5.0",
      "_model_name": "HBoxModel",
      "_view_count": null,
      "_view_module": "@jupyter-widgets/controls",
      "_view_module_version": "1.5.0",
      "_view_name": "HBoxView",
      "box_style": "",
      "children": [
       "IPY_MODEL_9335c49308d8494189d5c1cfdc121f88",
       "IPY_MODEL_72aceb09e6194cb684620c6e2356646c",
       "IPY_MODEL_2208cf44c3d24f5aa3f0e2e2fb0997da"
      ],
      "layout": "IPY_MODEL_bbfe8ed06a3546e5a9aa4d7a2fdd7732"
     }
    },
    "b7c8c2bed9164508b3e3fc9c0dbb80cb": {
     "model_module": "@jupyter-widgets/controls",
     "model_module_version": "1.5.0",
     "model_name": "HBoxModel",
     "state": {
      "_dom_classes": [],
      "_model_module": "@jupyter-widgets/controls",
      "_model_module_version": "1.5.0",
      "_model_name": "HBoxModel",
      "_view_count": null,
      "_view_module": "@jupyter-widgets/controls",
      "_view_module_version": "1.5.0",
      "_view_name": "HBoxView",
      "box_style": "",
      "children": [
       "IPY_MODEL_fca0b3b5a4c441389b0f3e2a8eb8d7c0",
       "IPY_MODEL_552b1cc8924c4c65a4da9b229e42607d",
       "IPY_MODEL_daecd10ade80483d840d9eca3c1aa6fc"
      ],
      "layout": "IPY_MODEL_74bdb12240ad4bf48727f07da88be57e"
     }
    },
    "b896566369e3403091e357af18648740": {
     "model_module": "@jupyter-widgets/controls",
     "model_module_version": "1.5.0",
     "model_name": "VBoxModel",
     "state": {
      "_dom_classes": [],
      "_model_module": "@jupyter-widgets/controls",
      "_model_module_version": "1.5.0",
      "_model_name": "VBoxModel",
      "_view_count": null,
      "_view_module": "@jupyter-widgets/controls",
      "_view_module_version": "1.5.0",
      "_view_name": "VBoxView",
      "box_style": "",
      "children": [
       "IPY_MODEL_26bf8a70fe5449a99ca1b06430b2fc8f",
       "IPY_MODEL_dd5d9b3f70ee4a0dabe18e87ab38145c",
       "IPY_MODEL_2d4eb3e5acc348948299c506db83ca90"
      ],
      "layout": "IPY_MODEL_384228b409cb4bb0bbd77ef259b9a568"
     }
    },
    "b956c2695d9c4701bff08f3fb44f227b": {
     "model_module": "@jupyter-widgets/base",
     "model_module_version": "1.2.0",
     "model_name": "LayoutModel",
     "state": {
      "_model_module": "@jupyter-widgets/base",
      "_model_module_version": "1.2.0",
      "_model_name": "LayoutModel",
      "_view_count": null,
      "_view_module": "@jupyter-widgets/base",
      "_view_module_version": "1.2.0",
      "_view_name": "LayoutView",
      "align_content": null,
      "align_items": null,
      "align_self": null,
      "border": null,
      "bottom": null,
      "display": null,
      "flex": null,
      "flex_flow": null,
      "grid_area": null,
      "grid_auto_columns": null,
      "grid_auto_flow": null,
      "grid_auto_rows": null,
      "grid_column": null,
      "grid_gap": null,
      "grid_row": null,
      "grid_template_areas": null,
      "grid_template_columns": null,
      "grid_template_rows": null,
      "height": null,
      "justify_content": null,
      "justify_items": null,
      "left": null,
      "margin": null,
      "max_height": null,
      "max_width": null,
      "min_height": null,
      "min_width": null,
      "object_fit": null,
      "object_position": null,
      "order": null,
      "overflow": null,
      "overflow_x": null,
      "overflow_y": null,
      "padding": null,
      "right": null,
      "top": null,
      "visibility": null,
      "width": null
     }
    },
    "bae30bd49fcb47f1b022fb932a8d3361": {
     "model_module": "@jupyter-widgets/controls",
     "model_module_version": "1.5.0",
     "model_name": "DescriptionStyleModel",
     "state": {
      "_model_module": "@jupyter-widgets/controls",
      "_model_module_version": "1.5.0",
      "_model_name": "DescriptionStyleModel",
      "_view_count": null,
      "_view_module": "@jupyter-widgets/base",
      "_view_module_version": "1.2.0",
      "_view_name": "StyleView",
      "description_width": ""
     }
    },
    "bb3c47ffd87b455490d33718e6d25913": {
     "model_module": "@jupyter-widgets/controls",
     "model_module_version": "1.5.0",
     "model_name": "DescriptionStyleModel",
     "state": {
      "_model_module": "@jupyter-widgets/controls",
      "_model_module_version": "1.5.0",
      "_model_name": "DescriptionStyleModel",
      "_view_count": null,
      "_view_module": "@jupyter-widgets/base",
      "_view_module_version": "1.2.0",
      "_view_name": "StyleView",
      "description_width": ""
     }
    },
    "bb6b428abfaa41c0931a2d0d467aab26": {
     "model_module": "@jupyter-widgets/base",
     "model_module_version": "1.2.0",
     "model_name": "LayoutModel",
     "state": {
      "_model_module": "@jupyter-widgets/base",
      "_model_module_version": "1.2.0",
      "_model_name": "LayoutModel",
      "_view_count": null,
      "_view_module": "@jupyter-widgets/base",
      "_view_module_version": "1.2.0",
      "_view_name": "LayoutView",
      "align_content": null,
      "align_items": null,
      "align_self": null,
      "border": null,
      "bottom": null,
      "display": null,
      "flex": null,
      "flex_flow": null,
      "grid_area": null,
      "grid_auto_columns": null,
      "grid_auto_flow": null,
      "grid_auto_rows": null,
      "grid_column": null,
      "grid_gap": null,
      "grid_row": null,
      "grid_template_areas": null,
      "grid_template_columns": null,
      "grid_template_rows": null,
      "height": null,
      "justify_content": null,
      "justify_items": null,
      "left": null,
      "margin": null,
      "max_height": null,
      "max_width": null,
      "min_height": null,
      "min_width": null,
      "object_fit": null,
      "object_position": null,
      "order": null,
      "overflow": null,
      "overflow_x": null,
      "overflow_y": null,
      "padding": null,
      "right": null,
      "top": null,
      "visibility": null,
      "width": null
     }
    },
    "bbfe8ed06a3546e5a9aa4d7a2fdd7732": {
     "model_module": "@jupyter-widgets/base",
     "model_module_version": "1.2.0",
     "model_name": "LayoutModel",
     "state": {
      "_model_module": "@jupyter-widgets/base",
      "_model_module_version": "1.2.0",
      "_model_name": "LayoutModel",
      "_view_count": null,
      "_view_module": "@jupyter-widgets/base",
      "_view_module_version": "1.2.0",
      "_view_name": "LayoutView",
      "align_content": null,
      "align_items": null,
      "align_self": null,
      "border": null,
      "bottom": null,
      "display": null,
      "flex": null,
      "flex_flow": null,
      "grid_area": null,
      "grid_auto_columns": null,
      "grid_auto_flow": null,
      "grid_auto_rows": null,
      "grid_column": null,
      "grid_gap": null,
      "grid_row": null,
      "grid_template_areas": null,
      "grid_template_columns": null,
      "grid_template_rows": null,
      "height": null,
      "justify_content": null,
      "justify_items": null,
      "left": null,
      "margin": null,
      "max_height": null,
      "max_width": null,
      "min_height": null,
      "min_width": null,
      "object_fit": null,
      "object_position": null,
      "order": null,
      "overflow": null,
      "overflow_x": null,
      "overflow_y": null,
      "padding": null,
      "right": null,
      "top": null,
      "visibility": null,
      "width": null
     }
    },
    "bd61e4bd547b48a4b8c1a9a1a5b27774": {
     "model_module": "@jupyter-widgets/base",
     "model_module_version": "1.2.0",
     "model_name": "LayoutModel",
     "state": {
      "_model_module": "@jupyter-widgets/base",
      "_model_module_version": "1.2.0",
      "_model_name": "LayoutModel",
      "_view_count": null,
      "_view_module": "@jupyter-widgets/base",
      "_view_module_version": "1.2.0",
      "_view_name": "LayoutView",
      "align_content": null,
      "align_items": null,
      "align_self": null,
      "border": null,
      "bottom": null,
      "display": null,
      "flex": null,
      "flex_flow": null,
      "grid_area": null,
      "grid_auto_columns": null,
      "grid_auto_flow": null,
      "grid_auto_rows": null,
      "grid_column": null,
      "grid_gap": null,
      "grid_row": null,
      "grid_template_areas": null,
      "grid_template_columns": null,
      "grid_template_rows": null,
      "height": null,
      "justify_content": null,
      "justify_items": null,
      "left": null,
      "margin": null,
      "max_height": null,
      "max_width": null,
      "min_height": null,
      "min_width": null,
      "object_fit": null,
      "object_position": null,
      "order": null,
      "overflow": null,
      "overflow_x": null,
      "overflow_y": null,
      "padding": null,
      "right": null,
      "top": null,
      "visibility": "hidden",
      "width": null
     }
    },
    "beee813799a749d4bf8e8869d4a7a2e2": {
     "model_module": "@jupyter-widgets/controls",
     "model_module_version": "1.5.0",
     "model_name": "DescriptionStyleModel",
     "state": {
      "_model_module": "@jupyter-widgets/controls",
      "_model_module_version": "1.5.0",
      "_model_name": "DescriptionStyleModel",
      "_view_count": null,
      "_view_module": "@jupyter-widgets/base",
      "_view_module_version": "1.2.0",
      "_view_name": "StyleView",
      "description_width": ""
     }
    },
    "bfb6a1e47f6e4f74af4db7e71227ef3e": {
     "model_module": "@jupyter-widgets/controls",
     "model_module_version": "1.5.0",
     "model_name": "DescriptionStyleModel",
     "state": {
      "_model_module": "@jupyter-widgets/controls",
      "_model_module_version": "1.5.0",
      "_model_name": "DescriptionStyleModel",
      "_view_count": null,
      "_view_module": "@jupyter-widgets/base",
      "_view_module_version": "1.2.0",
      "_view_name": "StyleView",
      "description_width": ""
     }
    },
    "c0dee939645140c197eade938c2e2106": {
     "model_module": "@jupyter-widgets/base",
     "model_module_version": "1.2.0",
     "model_name": "LayoutModel",
     "state": {
      "_model_module": "@jupyter-widgets/base",
      "_model_module_version": "1.2.0",
      "_model_name": "LayoutModel",
      "_view_count": null,
      "_view_module": "@jupyter-widgets/base",
      "_view_module_version": "1.2.0",
      "_view_name": "LayoutView",
      "align_content": null,
      "align_items": null,
      "align_self": null,
      "border": null,
      "bottom": null,
      "display": null,
      "flex": null,
      "flex_flow": null,
      "grid_area": null,
      "grid_auto_columns": null,
      "grid_auto_flow": null,
      "grid_auto_rows": null,
      "grid_column": null,
      "grid_gap": null,
      "grid_row": null,
      "grid_template_areas": null,
      "grid_template_columns": null,
      "grid_template_rows": null,
      "height": null,
      "justify_content": null,
      "justify_items": null,
      "left": null,
      "margin": null,
      "max_height": null,
      "max_width": null,
      "min_height": null,
      "min_width": null,
      "object_fit": null,
      "object_position": null,
      "order": null,
      "overflow": null,
      "overflow_x": null,
      "overflow_y": null,
      "padding": null,
      "right": null,
      "top": null,
      "visibility": null,
      "width": null
     }
    },
    "c0e5b5cbff7a4497b4842a6a13cd7c22": {
     "model_module": "@jupyter-widgets/controls",
     "model_module_version": "1.5.0",
     "model_name": "FloatProgressModel",
     "state": {
      "_dom_classes": [],
      "_model_module": "@jupyter-widgets/controls",
      "_model_module_version": "1.5.0",
      "_model_name": "FloatProgressModel",
      "_view_count": null,
      "_view_module": "@jupyter-widgets/controls",
      "_view_module_version": "1.5.0",
      "_view_name": "ProgressView",
      "bar_style": "success",
      "description": "",
      "description_tooltip": null,
      "layout": "IPY_MODEL_0d986e27988d4e668d06bb2d3fe5cbc1",
      "max": 1269737156,
      "min": 0,
      "orientation": "horizontal",
      "style": "IPY_MODEL_cf1ca710e1994680b3b0895b67d6b878",
      "value": 1269737156
     }
    },
    "c237b5686d3e48aeb226c87aa703f63d": {
     "model_module": "@jupyter-widgets/controls",
     "model_module_version": "1.5.0",
     "model_name": "DescriptionStyleModel",
     "state": {
      "_model_module": "@jupyter-widgets/controls",
      "_model_module_version": "1.5.0",
      "_model_name": "DescriptionStyleModel",
      "_view_count": null,
      "_view_module": "@jupyter-widgets/base",
      "_view_module_version": "1.2.0",
      "_view_name": "StyleView",
      "description_width": ""
     }
    },
    "c3abe8321c164c26b2db5fd4e9157258": {
     "model_module": "@jupyter-widgets/controls",
     "model_module_version": "1.5.0",
     "model_name": "HTMLModel",
     "state": {
      "_dom_classes": [],
      "_model_module": "@jupyter-widgets/controls",
      "_model_module_version": "1.5.0",
      "_model_name": "HTMLModel",
      "_view_count": null,
      "_view_module": "@jupyter-widgets/controls",
      "_view_module_version": "1.5.0",
      "_view_name": "HTMLView",
      "description": "",
      "description_tooltip": null,
      "layout": "IPY_MODEL_4026f156ac514046a882dd98000781a9",
      "placeholder": "​",
      "style": "IPY_MODEL_1548e9653a4d443391aae6c9ab81b0e5",
      "value": " 1647/1647 [00:00&lt;00:00, 54227.75 examples/s]"
     }
    },
    "c3e44d2a09ce4b82b4432f49f3d72ac9": {
     "model_module": "@jupyter-widgets/base",
     "model_module_version": "1.2.0",
     "model_name": "LayoutModel",
     "state": {
      "_model_module": "@jupyter-widgets/base",
      "_model_module_version": "1.2.0",
      "_model_name": "LayoutModel",
      "_view_count": null,
      "_view_module": "@jupyter-widgets/base",
      "_view_module_version": "1.2.0",
      "_view_name": "LayoutView",
      "align_content": null,
      "align_items": null,
      "align_self": null,
      "border": null,
      "bottom": null,
      "display": null,
      "flex": null,
      "flex_flow": null,
      "grid_area": null,
      "grid_auto_columns": null,
      "grid_auto_flow": null,
      "grid_auto_rows": null,
      "grid_column": null,
      "grid_gap": null,
      "grid_row": null,
      "grid_template_areas": null,
      "grid_template_columns": null,
      "grid_template_rows": null,
      "height": null,
      "justify_content": null,
      "justify_items": null,
      "left": null,
      "margin": null,
      "max_height": null,
      "max_width": null,
      "min_height": null,
      "min_width": null,
      "object_fit": null,
      "object_position": null,
      "order": null,
      "overflow": null,
      "overflow_x": null,
      "overflow_y": null,
      "padding": null,
      "right": null,
      "top": null,
      "visibility": null,
      "width": null
     }
    },
    "c6e985332cf347b6869dbb31663675f4": {
     "model_module": "@jupyter-widgets/base",
     "model_module_version": "1.2.0",
     "model_name": "LayoutModel",
     "state": {
      "_model_module": "@jupyter-widgets/base",
      "_model_module_version": "1.2.0",
      "_model_name": "LayoutModel",
      "_view_count": null,
      "_view_module": "@jupyter-widgets/base",
      "_view_module_version": "1.2.0",
      "_view_name": "LayoutView",
      "align_content": null,
      "align_items": null,
      "align_self": null,
      "border": null,
      "bottom": null,
      "display": null,
      "flex": null,
      "flex_flow": null,
      "grid_area": null,
      "grid_auto_columns": null,
      "grid_auto_flow": null,
      "grid_auto_rows": null,
      "grid_column": null,
      "grid_gap": null,
      "grid_row": null,
      "grid_template_areas": null,
      "grid_template_columns": null,
      "grid_template_rows": null,
      "height": null,
      "justify_content": null,
      "justify_items": null,
      "left": null,
      "margin": null,
      "max_height": null,
      "max_width": null,
      "min_height": null,
      "min_width": null,
      "object_fit": null,
      "object_position": null,
      "order": null,
      "overflow": null,
      "overflow_x": null,
      "overflow_y": null,
      "padding": null,
      "right": null,
      "top": null,
      "visibility": null,
      "width": null
     }
    },
    "c884884b261342f49d66295d103788ff": {
     "model_module": "@jupyter-widgets/controls",
     "model_module_version": "1.5.0",
     "model_name": "DescriptionStyleModel",
     "state": {
      "_model_module": "@jupyter-widgets/controls",
      "_model_module_version": "1.5.0",
      "_model_name": "DescriptionStyleModel",
      "_view_count": null,
      "_view_module": "@jupyter-widgets/base",
      "_view_module_version": "1.2.0",
      "_view_name": "StyleView",
      "description_width": ""
     }
    },
    "c9210945e50c47b984193c3633194721": {
     "model_module": "@jupyter-widgets/base",
     "model_module_version": "1.2.0",
     "model_name": "LayoutModel",
     "state": {
      "_model_module": "@jupyter-widgets/base",
      "_model_module_version": "1.2.0",
      "_model_name": "LayoutModel",
      "_view_count": null,
      "_view_module": "@jupyter-widgets/base",
      "_view_module_version": "1.2.0",
      "_view_name": "LayoutView",
      "align_content": null,
      "align_items": null,
      "align_self": null,
      "border": null,
      "bottom": null,
      "display": null,
      "flex": null,
      "flex_flow": null,
      "grid_area": null,
      "grid_auto_columns": null,
      "grid_auto_flow": null,
      "grid_auto_rows": null,
      "grid_column": null,
      "grid_gap": null,
      "grid_row": null,
      "grid_template_areas": null,
      "grid_template_columns": null,
      "grid_template_rows": null,
      "height": null,
      "justify_content": null,
      "justify_items": null,
      "left": null,
      "margin": null,
      "max_height": null,
      "max_width": null,
      "min_height": null,
      "min_width": null,
      "object_fit": null,
      "object_position": null,
      "order": null,
      "overflow": null,
      "overflow_x": null,
      "overflow_y": null,
      "padding": null,
      "right": null,
      "top": null,
      "visibility": null,
      "width": null
     }
    },
    "cb1aac217bdd42f7a1d3399dbe86777e": {
     "model_module": "@jupyter-widgets/controls",
     "model_module_version": "1.5.0",
     "model_name": "HTMLModel",
     "state": {
      "_dom_classes": [],
      "_model_module": "@jupyter-widgets/controls",
      "_model_module_version": "1.5.0",
      "_model_name": "HTMLModel",
      "_view_count": null,
      "_view_module": "@jupyter-widgets/controls",
      "_view_module_version": "1.5.0",
      "_view_name": "HTMLView",
      "description": "",
      "description_tooltip": null,
      "layout": "IPY_MODEL_8b8a8b18e788468bad31edcb49b43494",
      "placeholder": "​",
      "style": "IPY_MODEL_bb3c47ffd87b455490d33718e6d25913",
      "value": " 3478/3478 [00:49&lt;00:00, 62.67 examples/s]"
     }
    },
    "ccbb17bd82dc42059685b09eae6f59e4": {
     "model_module": "@jupyter-widgets/controls",
     "model_module_version": "1.5.0",
     "model_name": "ProgressStyleModel",
     "state": {
      "_model_module": "@jupyter-widgets/controls",
      "_model_module_version": "1.5.0",
      "_model_name": "ProgressStyleModel",
      "_view_count": null,
      "_view_module": "@jupyter-widgets/base",
      "_view_module_version": "1.2.0",
      "_view_name": "StyleView",
      "bar_color": null,
      "description_width": ""
     }
    },
    "cd85839482e6435da17ded5d1efe757c": {
     "model_module": "@jupyter-widgets/controls",
     "model_module_version": "1.5.0",
     "model_name": "DescriptionStyleModel",
     "state": {
      "_model_module": "@jupyter-widgets/controls",
      "_model_module_version": "1.5.0",
      "_model_name": "DescriptionStyleModel",
      "_view_count": null,
      "_view_module": "@jupyter-widgets/base",
      "_view_module_version": "1.2.0",
      "_view_name": "StyleView",
      "description_width": ""
     }
    },
    "cef344a32778427d9841c6a680ba60b1": {
     "model_module": "@jupyter-widgets/base",
     "model_module_version": "1.2.0",
     "model_name": "LayoutModel",
     "state": {
      "_model_module": "@jupyter-widgets/base",
      "_model_module_version": "1.2.0",
      "_model_name": "LayoutModel",
      "_view_count": null,
      "_view_module": "@jupyter-widgets/base",
      "_view_module_version": "1.2.0",
      "_view_name": "LayoutView",
      "align_content": null,
      "align_items": null,
      "align_self": null,
      "border": null,
      "bottom": null,
      "display": null,
      "flex": null,
      "flex_flow": null,
      "grid_area": null,
      "grid_auto_columns": null,
      "grid_auto_flow": null,
      "grid_auto_rows": null,
      "grid_column": null,
      "grid_gap": null,
      "grid_row": null,
      "grid_template_areas": null,
      "grid_template_columns": null,
      "grid_template_rows": null,
      "height": null,
      "justify_content": null,
      "justify_items": null,
      "left": null,
      "margin": null,
      "max_height": null,
      "max_width": null,
      "min_height": null,
      "min_width": null,
      "object_fit": null,
      "object_position": null,
      "order": null,
      "overflow": null,
      "overflow_x": null,
      "overflow_y": null,
      "padding": null,
      "right": null,
      "top": null,
      "visibility": null,
      "width": null
     }
    },
    "cf1ca710e1994680b3b0895b67d6b878": {
     "model_module": "@jupyter-widgets/controls",
     "model_module_version": "1.5.0",
     "model_name": "ProgressStyleModel",
     "state": {
      "_model_module": "@jupyter-widgets/controls",
      "_model_module_version": "1.5.0",
      "_model_name": "ProgressStyleModel",
      "_view_count": null,
      "_view_module": "@jupyter-widgets/base",
      "_view_module_version": "1.2.0",
      "_view_name": "StyleView",
      "bar_color": null,
      "description_width": ""
     }
    },
    "d11d94912b26401a860c80eba767907a": {
     "model_module": "@jupyter-widgets/base",
     "model_module_version": "1.2.0",
     "model_name": "LayoutModel",
     "state": {
      "_model_module": "@jupyter-widgets/base",
      "_model_module_version": "1.2.0",
      "_model_name": "LayoutModel",
      "_view_count": null,
      "_view_module": "@jupyter-widgets/base",
      "_view_module_version": "1.2.0",
      "_view_name": "LayoutView",
      "align_content": null,
      "align_items": null,
      "align_self": null,
      "border": null,
      "bottom": null,
      "display": null,
      "flex": null,
      "flex_flow": null,
      "grid_area": null,
      "grid_auto_columns": null,
      "grid_auto_flow": null,
      "grid_auto_rows": null,
      "grid_column": null,
      "grid_gap": null,
      "grid_row": null,
      "grid_template_areas": null,
      "grid_template_columns": null,
      "grid_template_rows": null,
      "height": null,
      "justify_content": null,
      "justify_items": null,
      "left": null,
      "margin": null,
      "max_height": null,
      "max_width": null,
      "min_height": null,
      "min_width": null,
      "object_fit": null,
      "object_position": null,
      "order": null,
      "overflow": null,
      "overflow_x": null,
      "overflow_y": null,
      "padding": null,
      "right": null,
      "top": null,
      "visibility": null,
      "width": null
     }
    },
    "d131cebeddd34c759541e1890ecc041b": {
     "model_module": "@jupyter-widgets/controls",
     "model_module_version": "1.5.0",
     "model_name": "DescriptionStyleModel",
     "state": {
      "_model_module": "@jupyter-widgets/controls",
      "_model_module_version": "1.5.0",
      "_model_name": "DescriptionStyleModel",
      "_view_count": null,
      "_view_module": "@jupyter-widgets/base",
      "_view_module_version": "1.2.0",
      "_view_name": "StyleView",
      "description_width": ""
     }
    },
    "d5e75770e38b4c1a99d94543f88d09d2": {
     "model_module": "@jupyter-widgets/base",
     "model_module_version": "1.2.0",
     "model_name": "LayoutModel",
     "state": {
      "_model_module": "@jupyter-widgets/base",
      "_model_module_version": "1.2.0",
      "_model_name": "LayoutModel",
      "_view_count": null,
      "_view_module": "@jupyter-widgets/base",
      "_view_module_version": "1.2.0",
      "_view_name": "LayoutView",
      "align_content": null,
      "align_items": null,
      "align_self": null,
      "border": null,
      "bottom": null,
      "display": null,
      "flex": null,
      "flex_flow": null,
      "grid_area": null,
      "grid_auto_columns": null,
      "grid_auto_flow": null,
      "grid_auto_rows": null,
      "grid_column": null,
      "grid_gap": null,
      "grid_row": null,
      "grid_template_areas": null,
      "grid_template_columns": null,
      "grid_template_rows": null,
      "height": null,
      "justify_content": null,
      "justify_items": null,
      "left": null,
      "margin": null,
      "max_height": null,
      "max_width": null,
      "min_height": null,
      "min_width": null,
      "object_fit": null,
      "object_position": null,
      "order": null,
      "overflow": null,
      "overflow_x": null,
      "overflow_y": null,
      "padding": null,
      "right": null,
      "top": null,
      "visibility": null,
      "width": null
     }
    },
    "d6a273a58c3a4ea08f50dca7b25607e0": {
     "model_module": "@jupyter-widgets/base",
     "model_module_version": "1.2.0",
     "model_name": "LayoutModel",
     "state": {
      "_model_module": "@jupyter-widgets/base",
      "_model_module_version": "1.2.0",
      "_model_name": "LayoutModel",
      "_view_count": null,
      "_view_module": "@jupyter-widgets/base",
      "_view_module_version": "1.2.0",
      "_view_name": "LayoutView",
      "align_content": null,
      "align_items": null,
      "align_self": null,
      "border": null,
      "bottom": null,
      "display": null,
      "flex": null,
      "flex_flow": null,
      "grid_area": null,
      "grid_auto_columns": null,
      "grid_auto_flow": null,
      "grid_auto_rows": null,
      "grid_column": null,
      "grid_gap": null,
      "grid_row": null,
      "grid_template_areas": null,
      "grid_template_columns": null,
      "grid_template_rows": null,
      "height": null,
      "justify_content": null,
      "justify_items": null,
      "left": null,
      "margin": null,
      "max_height": null,
      "max_width": null,
      "min_height": null,
      "min_width": null,
      "object_fit": null,
      "object_position": null,
      "order": null,
      "overflow": null,
      "overflow_x": null,
      "overflow_y": null,
      "padding": null,
      "right": null,
      "top": null,
      "visibility": null,
      "width": null
     }
    },
    "d6e33ac3f4694137a292f2e5f24e2554": {
     "model_module": "@jupyter-widgets/controls",
     "model_module_version": "1.5.0",
     "model_name": "DescriptionStyleModel",
     "state": {
      "_model_module": "@jupyter-widgets/controls",
      "_model_module_version": "1.5.0",
      "_model_name": "DescriptionStyleModel",
      "_view_count": null,
      "_view_module": "@jupyter-widgets/base",
      "_view_module_version": "1.2.0",
      "_view_name": "StyleView",
      "description_width": ""
     }
    },
    "d7d441b251d04968af517da9204952ae": {
     "model_module": "@jupyter-widgets/base",
     "model_module_version": "1.2.0",
     "model_name": "LayoutModel",
     "state": {
      "_model_module": "@jupyter-widgets/base",
      "_model_module_version": "1.2.0",
      "_model_name": "LayoutModel",
      "_view_count": null,
      "_view_module": "@jupyter-widgets/base",
      "_view_module_version": "1.2.0",
      "_view_name": "LayoutView",
      "align_content": null,
      "align_items": null,
      "align_self": null,
      "border": null,
      "bottom": null,
      "display": null,
      "flex": null,
      "flex_flow": null,
      "grid_area": null,
      "grid_auto_columns": null,
      "grid_auto_flow": null,
      "grid_auto_rows": null,
      "grid_column": null,
      "grid_gap": null,
      "grid_row": null,
      "grid_template_areas": null,
      "grid_template_columns": null,
      "grid_template_rows": null,
      "height": null,
      "justify_content": null,
      "justify_items": null,
      "left": null,
      "margin": null,
      "max_height": null,
      "max_width": null,
      "min_height": null,
      "min_width": null,
      "object_fit": null,
      "object_position": null,
      "order": null,
      "overflow": null,
      "overflow_x": null,
      "overflow_y": null,
      "padding": null,
      "right": null,
      "top": null,
      "visibility": null,
      "width": null
     }
    },
    "daecd10ade80483d840d9eca3c1aa6fc": {
     "model_module": "@jupyter-widgets/controls",
     "model_module_version": "1.5.0",
     "model_name": "HTMLModel",
     "state": {
      "_dom_classes": [],
      "_model_module": "@jupyter-widgets/controls",
      "_model_module_version": "1.5.0",
      "_model_name": "HTMLModel",
      "_view_count": null,
      "_view_module": "@jupyter-widgets/controls",
      "_view_module_version": "1.5.0",
      "_view_name": "HTMLView",
      "description": "",
      "description_tooltip": null,
      "layout": "IPY_MODEL_eddfdd8852bb4469acfc6283b9a92a8f",
      "placeholder": "​",
      "style": "IPY_MODEL_ebf68b02362a4e35bb17fcee8557ca25",
      "value": " 3478/3478 [00:00&lt;00:00, 16170.65 examples/s]"
     }
    },
    "dca8411f30924ccf8490982dacb5606a": {
     "model_module": "@jupyter-widgets/base",
     "model_module_version": "1.2.0",
     "model_name": "LayoutModel",
     "state": {
      "_model_module": "@jupyter-widgets/base",
      "_model_module_version": "1.2.0",
      "_model_name": "LayoutModel",
      "_view_count": null,
      "_view_module": "@jupyter-widgets/base",
      "_view_module_version": "1.2.0",
      "_view_name": "LayoutView",
      "align_content": null,
      "align_items": null,
      "align_self": null,
      "border": null,
      "bottom": null,
      "display": null,
      "flex": null,
      "flex_flow": null,
      "grid_area": null,
      "grid_auto_columns": null,
      "grid_auto_flow": null,
      "grid_auto_rows": null,
      "grid_column": null,
      "grid_gap": null,
      "grid_row": null,
      "grid_template_areas": null,
      "grid_template_columns": null,
      "grid_template_rows": null,
      "height": null,
      "justify_content": null,
      "justify_items": null,
      "left": null,
      "margin": null,
      "max_height": null,
      "max_width": null,
      "min_height": null,
      "min_width": null,
      "object_fit": null,
      "object_position": null,
      "order": null,
      "overflow": null,
      "overflow_x": null,
      "overflow_y": null,
      "padding": null,
      "right": null,
      "top": null,
      "visibility": null,
      "width": null
     }
    },
    "dd5d9b3f70ee4a0dabe18e87ab38145c": {
     "model_module": "@jupyter-widgets/controls",
     "model_module_version": "1.5.0",
     "model_name": "HBoxModel",
     "state": {
      "_dom_classes": [],
      "_model_module": "@jupyter-widgets/controls",
      "_model_module_version": "1.5.0",
      "_model_name": "HBoxModel",
      "_view_count": null,
      "_view_module": "@jupyter-widgets/controls",
      "_view_module_version": "1.5.0",
      "_view_name": "HBoxView",
      "box_style": "",
      "children": [
       "IPY_MODEL_49f98244a8634be9b2305bb87731e765",
       "IPY_MODEL_a28d3e82e04646b79c89f93cf40ee596"
      ],
      "layout": "IPY_MODEL_4c3e043e600641538a479df6ad389784"
     }
    },
    "dea8cd6b514c4c769442d1e58f8d596c": {
     "model_module": "@jupyter-widgets/controls",
     "model_module_version": "1.5.0",
     "model_name": "FloatProgressModel",
     "state": {
      "_dom_classes": [],
      "_model_module": "@jupyter-widgets/controls",
      "_model_module_version": "1.5.0",
      "_model_name": "FloatProgressModel",
      "_view_count": null,
      "_view_module": "@jupyter-widgets/controls",
      "_view_module_version": "1.5.0",
      "_view_name": "ProgressView",
      "bar_style": "info",
      "description": "",
      "description_tooltip": null,
      "layout": "IPY_MODEL_febd992820694c3a86e291553116546f",
      "max": 1,
      "min": 0,
      "orientation": "horizontal",
      "style": "IPY_MODEL_977d293649574326a3103a7b4022d779",
      "value": 1
     }
    },
    "df0c46c6301341b39f1cfe17c606c562": {
     "model_module": "@jupyter-widgets/controls",
     "model_module_version": "1.5.0",
     "model_name": "DescriptionStyleModel",
     "state": {
      "_model_module": "@jupyter-widgets/controls",
      "_model_module_version": "1.5.0",
      "_model_name": "DescriptionStyleModel",
      "_view_count": null,
      "_view_module": "@jupyter-widgets/base",
      "_view_module_version": "1.2.0",
      "_view_name": "StyleView",
      "description_width": ""
     }
    },
    "e134cafb01ea4be19b86a0d43200d4e0": {
     "model_module": "@jupyter-widgets/controls",
     "model_module_version": "1.5.0",
     "model_name": "HTMLModel",
     "state": {
      "_dom_classes": [],
      "_model_module": "@jupyter-widgets/controls",
      "_model_module_version": "1.5.0",
      "_model_name": "HTMLModel",
      "_view_count": null,
      "_view_module": "@jupyter-widgets/controls",
      "_view_module_version": "1.5.0",
      "_view_name": "HTMLView",
      "description": "",
      "description_tooltip": null,
      "layout": "IPY_MODEL_e59d92e40fc44e0db3eec2ad03ca7d5a",
      "placeholder": "​",
      "style": "IPY_MODEL_06c35e99635b42c7af6fab22e8eda087",
      "value": " 1641/0 [00:05&lt;00:00, 276.43 examples/s]"
     }
    },
    "e198710830ed4e3595632d9243e38e87": {
     "model_module": "@jupyter-widgets/base",
     "model_module_version": "1.2.0",
     "model_name": "LayoutModel",
     "state": {
      "_model_module": "@jupyter-widgets/base",
      "_model_module_version": "1.2.0",
      "_model_name": "LayoutModel",
      "_view_count": null,
      "_view_module": "@jupyter-widgets/base",
      "_view_module_version": "1.2.0",
      "_view_name": "LayoutView",
      "align_content": null,
      "align_items": null,
      "align_self": null,
      "border": null,
      "bottom": null,
      "display": null,
      "flex": null,
      "flex_flow": null,
      "grid_area": null,
      "grid_auto_columns": null,
      "grid_auto_flow": null,
      "grid_auto_rows": null,
      "grid_column": null,
      "grid_gap": null,
      "grid_row": null,
      "grid_template_areas": null,
      "grid_template_columns": null,
      "grid_template_rows": null,
      "height": null,
      "justify_content": null,
      "justify_items": null,
      "left": null,
      "margin": null,
      "max_height": null,
      "max_width": null,
      "min_height": null,
      "min_width": null,
      "object_fit": null,
      "object_position": null,
      "order": null,
      "overflow": null,
      "overflow_x": null,
      "overflow_y": null,
      "padding": null,
      "right": null,
      "top": null,
      "visibility": null,
      "width": null
     }
    },
    "e3dde9a746fd4402ad606d80679698c7": {
     "model_module": "@jupyter-widgets/base",
     "model_module_version": "1.2.0",
     "model_name": "LayoutModel",
     "state": {
      "_model_module": "@jupyter-widgets/base",
      "_model_module_version": "1.2.0",
      "_model_name": "LayoutModel",
      "_view_count": null,
      "_view_module": "@jupyter-widgets/base",
      "_view_module_version": "1.2.0",
      "_view_name": "LayoutView",
      "align_content": null,
      "align_items": null,
      "align_self": null,
      "border": null,
      "bottom": null,
      "display": null,
      "flex": null,
      "flex_flow": null,
      "grid_area": null,
      "grid_auto_columns": null,
      "grid_auto_flow": null,
      "grid_auto_rows": null,
      "grid_column": null,
      "grid_gap": null,
      "grid_row": null,
      "grid_template_areas": null,
      "grid_template_columns": null,
      "grid_template_rows": null,
      "height": null,
      "justify_content": null,
      "justify_items": null,
      "left": null,
      "margin": null,
      "max_height": null,
      "max_width": null,
      "min_height": null,
      "min_width": null,
      "object_fit": null,
      "object_position": null,
      "order": null,
      "overflow": null,
      "overflow_x": null,
      "overflow_y": null,
      "padding": null,
      "right": null,
      "top": null,
      "visibility": null,
      "width": null
     }
    },
    "e3f4b39015ec4affbf1412b8cc8ad651": {
     "model_module": "@jupyter-widgets/controls",
     "model_module_version": "1.5.0",
     "model_name": "DescriptionStyleModel",
     "state": {
      "_model_module": "@jupyter-widgets/controls",
      "_model_module_version": "1.5.0",
      "_model_name": "DescriptionStyleModel",
      "_view_count": null,
      "_view_module": "@jupyter-widgets/base",
      "_view_module_version": "1.2.0",
      "_view_name": "StyleView",
      "description_width": ""
     }
    },
    "e59d92e40fc44e0db3eec2ad03ca7d5a": {
     "model_module": "@jupyter-widgets/base",
     "model_module_version": "1.2.0",
     "model_name": "LayoutModel",
     "state": {
      "_model_module": "@jupyter-widgets/base",
      "_model_module_version": "1.2.0",
      "_model_name": "LayoutModel",
      "_view_count": null,
      "_view_module": "@jupyter-widgets/base",
      "_view_module_version": "1.2.0",
      "_view_name": "LayoutView",
      "align_content": null,
      "align_items": null,
      "align_self": null,
      "border": null,
      "bottom": null,
      "display": null,
      "flex": null,
      "flex_flow": null,
      "grid_area": null,
      "grid_auto_columns": null,
      "grid_auto_flow": null,
      "grid_auto_rows": null,
      "grid_column": null,
      "grid_gap": null,
      "grid_row": null,
      "grid_template_areas": null,
      "grid_template_columns": null,
      "grid_template_rows": null,
      "height": null,
      "justify_content": null,
      "justify_items": null,
      "left": null,
      "margin": null,
      "max_height": null,
      "max_width": null,
      "min_height": null,
      "min_width": null,
      "object_fit": null,
      "object_position": null,
      "order": null,
      "overflow": null,
      "overflow_x": null,
      "overflow_y": null,
      "padding": null,
      "right": null,
      "top": null,
      "visibility": null,
      "width": null
     }
    },
    "e7e0b83befff4091a586ebf0937fc1c1": {
     "model_module": "@jupyter-widgets/base",
     "model_module_version": "1.2.0",
     "model_name": "LayoutModel",
     "state": {
      "_model_module": "@jupyter-widgets/base",
      "_model_module_version": "1.2.0",
      "_model_name": "LayoutModel",
      "_view_count": null,
      "_view_module": "@jupyter-widgets/base",
      "_view_module_version": "1.2.0",
      "_view_name": "LayoutView",
      "align_content": null,
      "align_items": null,
      "align_self": null,
      "border": null,
      "bottom": null,
      "display": null,
      "flex": null,
      "flex_flow": null,
      "grid_area": null,
      "grid_auto_columns": null,
      "grid_auto_flow": null,
      "grid_auto_rows": null,
      "grid_column": null,
      "grid_gap": null,
      "grid_row": null,
      "grid_template_areas": null,
      "grid_template_columns": null,
      "grid_template_rows": null,
      "height": null,
      "justify_content": null,
      "justify_items": null,
      "left": null,
      "margin": null,
      "max_height": null,
      "max_width": null,
      "min_height": null,
      "min_width": null,
      "object_fit": null,
      "object_position": null,
      "order": null,
      "overflow": null,
      "overflow_x": null,
      "overflow_y": null,
      "padding": null,
      "right": null,
      "top": null,
      "visibility": null,
      "width": null
     }
    },
    "e967b05b270a4a37ad107207425855fa": {
     "model_module": "@jupyter-widgets/base",
     "model_module_version": "1.2.0",
     "model_name": "LayoutModel",
     "state": {
      "_model_module": "@jupyter-widgets/base",
      "_model_module_version": "1.2.0",
      "_model_name": "LayoutModel",
      "_view_count": null,
      "_view_module": "@jupyter-widgets/base",
      "_view_module_version": "1.2.0",
      "_view_name": "LayoutView",
      "align_content": null,
      "align_items": null,
      "align_self": null,
      "border": null,
      "bottom": null,
      "display": null,
      "flex": null,
      "flex_flow": null,
      "grid_area": null,
      "grid_auto_columns": null,
      "grid_auto_flow": null,
      "grid_auto_rows": null,
      "grid_column": null,
      "grid_gap": null,
      "grid_row": null,
      "grid_template_areas": null,
      "grid_template_columns": null,
      "grid_template_rows": null,
      "height": null,
      "justify_content": null,
      "justify_items": null,
      "left": null,
      "margin": null,
      "max_height": null,
      "max_width": null,
      "min_height": null,
      "min_width": null,
      "object_fit": null,
      "object_position": null,
      "order": null,
      "overflow": null,
      "overflow_x": null,
      "overflow_y": null,
      "padding": null,
      "right": null,
      "top": null,
      "visibility": null,
      "width": null
     }
    },
    "e9723153d40d497ebb962c64dfbb0baa": {
     "model_module": "@jupyter-widgets/controls",
     "model_module_version": "1.5.0",
     "model_name": "ProgressStyleModel",
     "state": {
      "_model_module": "@jupyter-widgets/controls",
      "_model_module_version": "1.5.0",
      "_model_name": "ProgressStyleModel",
      "_view_count": null,
      "_view_module": "@jupyter-widgets/base",
      "_view_module_version": "1.2.0",
      "_view_name": "StyleView",
      "bar_color": null,
      "description_width": ""
     }
    },
    "e9c3ae3c94a54a0fb033bad9f6ddb033": {
     "model_module": "@jupyter-widgets/base",
     "model_module_version": "1.2.0",
     "model_name": "LayoutModel",
     "state": {
      "_model_module": "@jupyter-widgets/base",
      "_model_module_version": "1.2.0",
      "_model_name": "LayoutModel",
      "_view_count": null,
      "_view_module": "@jupyter-widgets/base",
      "_view_module_version": "1.2.0",
      "_view_name": "LayoutView",
      "align_content": null,
      "align_items": null,
      "align_self": null,
      "border": null,
      "bottom": null,
      "display": null,
      "flex": null,
      "flex_flow": null,
      "grid_area": null,
      "grid_auto_columns": null,
      "grid_auto_flow": null,
      "grid_auto_rows": null,
      "grid_column": null,
      "grid_gap": null,
      "grid_row": null,
      "grid_template_areas": null,
      "grid_template_columns": null,
      "grid_template_rows": null,
      "height": null,
      "justify_content": null,
      "justify_items": null,
      "left": null,
      "margin": null,
      "max_height": null,
      "max_width": null,
      "min_height": null,
      "min_width": null,
      "object_fit": null,
      "object_position": null,
      "order": null,
      "overflow": null,
      "overflow_x": null,
      "overflow_y": null,
      "padding": null,
      "right": null,
      "top": null,
      "visibility": null,
      "width": null
     }
    },
    "ea299eb076874ae39d53e72d13f0494d": {
     "model_module": "@jupyter-widgets/controls",
     "model_module_version": "1.5.0",
     "model_name": "ProgressStyleModel",
     "state": {
      "_model_module": "@jupyter-widgets/controls",
      "_model_module_version": "1.5.0",
      "_model_name": "ProgressStyleModel",
      "_view_count": null,
      "_view_module": "@jupyter-widgets/base",
      "_view_module_version": "1.2.0",
      "_view_name": "StyleView",
      "bar_color": null,
      "description_width": ""
     }
    },
    "eaf22d47b1f94ba6a1100d04f8430dc6": {
     "model_module": "@jupyter-widgets/controls",
     "model_module_version": "1.5.0",
     "model_name": "DescriptionStyleModel",
     "state": {
      "_model_module": "@jupyter-widgets/controls",
      "_model_module_version": "1.5.0",
      "_model_name": "DescriptionStyleModel",
      "_view_count": null,
      "_view_module": "@jupyter-widgets/base",
      "_view_module_version": "1.2.0",
      "_view_name": "StyleView",
      "description_width": ""
     }
    },
    "eafcbe9295cb4a5d91226f1d1dbbe351": {
     "model_module": "@jupyter-widgets/controls",
     "model_module_version": "1.5.0",
     "model_name": "HBoxModel",
     "state": {
      "_dom_classes": [],
      "_model_module": "@jupyter-widgets/controls",
      "_model_module_version": "1.5.0",
      "_model_name": "HBoxModel",
      "_view_count": null,
      "_view_module": "@jupyter-widgets/controls",
      "_view_module_version": "1.5.0",
      "_view_name": "HBoxView",
      "box_style": "",
      "children": [
       "IPY_MODEL_02230985126147419df0ceb9c58c9310",
       "IPY_MODEL_8db7e26742104b56be84bf31d0dcb666",
       "IPY_MODEL_45984760c47c4b6fae593182606cfd3d"
      ],
      "layout": "IPY_MODEL_593707ae5a5b4c25823bd85aa08ec6d8"
     }
    },
    "eb27099b8dd94d7a9fa528685ce3d741": {
     "model_module": "@jupyter-widgets/base",
     "model_module_version": "1.2.0",
     "model_name": "LayoutModel",
     "state": {
      "_model_module": "@jupyter-widgets/base",
      "_model_module_version": "1.2.0",
      "_model_name": "LayoutModel",
      "_view_count": null,
      "_view_module": "@jupyter-widgets/base",
      "_view_module_version": "1.2.0",
      "_view_name": "LayoutView",
      "align_content": null,
      "align_items": null,
      "align_self": null,
      "border": null,
      "bottom": null,
      "display": null,
      "flex": null,
      "flex_flow": null,
      "grid_area": null,
      "grid_auto_columns": null,
      "grid_auto_flow": null,
      "grid_auto_rows": null,
      "grid_column": null,
      "grid_gap": null,
      "grid_row": null,
      "grid_template_areas": null,
      "grid_template_columns": null,
      "grid_template_rows": null,
      "height": null,
      "justify_content": null,
      "justify_items": null,
      "left": null,
      "margin": null,
      "max_height": null,
      "max_width": null,
      "min_height": null,
      "min_width": null,
      "object_fit": null,
      "object_position": null,
      "order": null,
      "overflow": null,
      "overflow_x": null,
      "overflow_y": null,
      "padding": null,
      "right": null,
      "top": null,
      "visibility": null,
      "width": null
     }
    },
    "ebf68b02362a4e35bb17fcee8557ca25": {
     "model_module": "@jupyter-widgets/controls",
     "model_module_version": "1.5.0",
     "model_name": "DescriptionStyleModel",
     "state": {
      "_model_module": "@jupyter-widgets/controls",
      "_model_module_version": "1.5.0",
      "_model_name": "DescriptionStyleModel",
      "_view_count": null,
      "_view_module": "@jupyter-widgets/base",
      "_view_module_version": "1.2.0",
      "_view_name": "StyleView",
      "description_width": ""
     }
    },
    "ecbc5f692be943d19c4b18484c15593b": {
     "model_module": "@jupyter-widgets/controls",
     "model_module_version": "1.5.0",
     "model_name": "HBoxModel",
     "state": {
      "_dom_classes": [],
      "_model_module": "@jupyter-widgets/controls",
      "_model_module_version": "1.5.0",
      "_model_name": "HBoxModel",
      "_view_count": null,
      "_view_module": "@jupyter-widgets/controls",
      "_view_module_version": "1.5.0",
      "_view_name": "HBoxView",
      "box_style": "",
      "children": [
       "IPY_MODEL_325c9c73cd8b43bdb6f1d38ff79218a2",
       "IPY_MODEL_a484e861930d4d678277c628bbb10508",
       "IPY_MODEL_f65e476f9d004a5ab51095c791b10470"
      ],
      "layout": "IPY_MODEL_eb27099b8dd94d7a9fa528685ce3d741"
     }
    },
    "ed2cb21d107348c1aed4fb7535939b3d": {
     "model_module": "@jupyter-widgets/controls",
     "model_module_version": "1.5.0",
     "model_name": "ProgressStyleModel",
     "state": {
      "_model_module": "@jupyter-widgets/controls",
      "_model_module_version": "1.5.0",
      "_model_name": "ProgressStyleModel",
      "_view_count": null,
      "_view_module": "@jupyter-widgets/base",
      "_view_module_version": "1.2.0",
      "_view_name": "StyleView",
      "bar_color": null,
      "description_width": ""
     }
    },
    "eddfdd8852bb4469acfc6283b9a92a8f": {
     "model_module": "@jupyter-widgets/base",
     "model_module_version": "1.2.0",
     "model_name": "LayoutModel",
     "state": {
      "_model_module": "@jupyter-widgets/base",
      "_model_module_version": "1.2.0",
      "_model_name": "LayoutModel",
      "_view_count": null,
      "_view_module": "@jupyter-widgets/base",
      "_view_module_version": "1.2.0",
      "_view_name": "LayoutView",
      "align_content": null,
      "align_items": null,
      "align_self": null,
      "border": null,
      "bottom": null,
      "display": null,
      "flex": null,
      "flex_flow": null,
      "grid_area": null,
      "grid_auto_columns": null,
      "grid_auto_flow": null,
      "grid_auto_rows": null,
      "grid_column": null,
      "grid_gap": null,
      "grid_row": null,
      "grid_template_areas": null,
      "grid_template_columns": null,
      "grid_template_rows": null,
      "height": null,
      "justify_content": null,
      "justify_items": null,
      "left": null,
      "margin": null,
      "max_height": null,
      "max_width": null,
      "min_height": null,
      "min_width": null,
      "object_fit": null,
      "object_position": null,
      "order": null,
      "overflow": null,
      "overflow_x": null,
      "overflow_y": null,
      "padding": null,
      "right": null,
      "top": null,
      "visibility": null,
      "width": null
     }
    },
    "ee985c71ef514241a9432723242e79f0": {
     "model_module": "@jupyter-widgets/base",
     "model_module_version": "1.2.0",
     "model_name": "LayoutModel",
     "state": {
      "_model_module": "@jupyter-widgets/base",
      "_model_module_version": "1.2.0",
      "_model_name": "LayoutModel",
      "_view_count": null,
      "_view_module": "@jupyter-widgets/base",
      "_view_module_version": "1.2.0",
      "_view_name": "LayoutView",
      "align_content": null,
      "align_items": null,
      "align_self": null,
      "border": null,
      "bottom": null,
      "display": null,
      "flex": null,
      "flex_flow": null,
      "grid_area": null,
      "grid_auto_columns": null,
      "grid_auto_flow": null,
      "grid_auto_rows": null,
      "grid_column": null,
      "grid_gap": null,
      "grid_row": null,
      "grid_template_areas": null,
      "grid_template_columns": null,
      "grid_template_rows": null,
      "height": null,
      "justify_content": null,
      "justify_items": null,
      "left": null,
      "margin": null,
      "max_height": null,
      "max_width": null,
      "min_height": null,
      "min_width": null,
      "object_fit": null,
      "object_position": null,
      "order": null,
      "overflow": null,
      "overflow_x": null,
      "overflow_y": null,
      "padding": null,
      "right": null,
      "top": null,
      "visibility": null,
      "width": null
     }
    },
    "eeebb21cd7db41a9b1ecfc94e8a2d01f": {
     "model_module": "@jupyter-widgets/controls",
     "model_module_version": "1.5.0",
     "model_name": "HBoxModel",
     "state": {
      "_dom_classes": [],
      "_model_module": "@jupyter-widgets/controls",
      "_model_module_version": "1.5.0",
      "_model_name": "HBoxModel",
      "_view_count": null,
      "_view_module": "@jupyter-widgets/controls",
      "_view_module_version": "1.5.0",
      "_view_name": "HBoxView",
      "box_style": "",
      "children": [
       "IPY_MODEL_3a4e274569f0445695598fa1e1c9bf32",
       "IPY_MODEL_aa5c8b58bd954f2ba50b4f70bf1af27d",
       "IPY_MODEL_e134cafb01ea4be19b86a0d43200d4e0"
      ],
      "layout": "IPY_MODEL_a1d623f441d94105818e0b7b1ed85710"
     }
    },
    "f02924088bc14b0a8192ff16d9883521": {
     "model_module": "@jupyter-widgets/controls",
     "model_module_version": "1.5.0",
     "model_name": "ProgressStyleModel",
     "state": {
      "_model_module": "@jupyter-widgets/controls",
      "_model_module_version": "1.5.0",
      "_model_name": "ProgressStyleModel",
      "_view_count": null,
      "_view_module": "@jupyter-widgets/base",
      "_view_module_version": "1.2.0",
      "_view_name": "StyleView",
      "bar_color": null,
      "description_width": ""
     }
    },
    "f1b59daedaa249e3b29a6e19637b3dde": {
     "model_module": "@jupyter-widgets/controls",
     "model_module_version": "1.5.0",
     "model_name": "HTMLModel",
     "state": {
      "_dom_classes": [],
      "_model_module": "@jupyter-widgets/controls",
      "_model_module_version": "1.5.0",
      "_model_name": "HTMLModel",
      "_view_count": null,
      "_view_module": "@jupyter-widgets/controls",
      "_view_module_version": "1.5.0",
      "_view_name": "HTMLView",
      "description": "",
      "description_tooltip": null,
      "layout": "IPY_MODEL_c6e985332cf347b6869dbb31663675f4",
      "placeholder": "​",
      "style": "IPY_MODEL_8e05860b397f4a1299b4efa64aeea1cf",
      "value": " 3478/3478 [00:00&lt;00:00, 14999.42 examples/s]"
     }
    },
    "f1e7a0b8a9ac4868b79083ec7e46a357": {
     "model_module": "@jupyter-widgets/controls",
     "model_module_version": "1.5.0",
     "model_name": "DescriptionStyleModel",
     "state": {
      "_model_module": "@jupyter-widgets/controls",
      "_model_module_version": "1.5.0",
      "_model_name": "DescriptionStyleModel",
      "_view_count": null,
      "_view_module": "@jupyter-widgets/base",
      "_view_module_version": "1.2.0",
      "_view_name": "StyleView",
      "description_width": ""
     }
    },
    "f5b4bb2cbc014266b1e43e198fa5f6e9": {
     "model_module": "@jupyter-widgets/controls",
     "model_module_version": "1.5.0",
     "model_name": "HBoxModel",
     "state": {
      "_dom_classes": [],
      "_model_module": "@jupyter-widgets/controls",
      "_model_module_version": "1.5.0",
      "_model_name": "HBoxModel",
      "_view_count": null,
      "_view_module": "@jupyter-widgets/controls",
      "_view_module_version": "1.5.0",
      "_view_name": "HBoxView",
      "box_style": "",
      "children": [
       "IPY_MODEL_a1245de5a21c4ed28a38a522d2aa8ed5",
       "IPY_MODEL_c0e5b5cbff7a4497b4842a6a13cd7c22",
       "IPY_MODEL_8fa59765defb447fb91c66ed5bbe3ddf"
      ],
      "layout": "IPY_MODEL_9bf89e83d22e40f789d567a384919973"
     }
    },
    "f65e476f9d004a5ab51095c791b10470": {
     "model_module": "@jupyter-widgets/controls",
     "model_module_version": "1.5.0",
     "model_name": "HTMLModel",
     "state": {
      "_dom_classes": [],
      "_model_module": "@jupyter-widgets/controls",
      "_model_module_version": "1.5.0",
      "_model_name": "HTMLModel",
      "_view_count": null,
      "_view_module": "@jupyter-widgets/controls",
      "_view_module_version": "1.5.0",
      "_view_name": "HTMLView",
      "description": "",
      "description_tooltip": null,
      "layout": "IPY_MODEL_95b9c124f9594ee987833d2dd3f4c7d8",
      "placeholder": "​",
      "style": "IPY_MODEL_eaf22d47b1f94ba6a1100d04f8430dc6",
      "value": " 1647/1647 [00:15&lt;00:00, 121.67 examples/s]"
     }
    },
    "f77623a990f04603924ddb73533e27b7": {
     "model_module": "@jupyter-widgets/controls",
     "model_module_version": "1.5.0",
     "model_name": "DescriptionStyleModel",
     "state": {
      "_model_module": "@jupyter-widgets/controls",
      "_model_module_version": "1.5.0",
      "_model_name": "DescriptionStyleModel",
      "_view_count": null,
      "_view_module": "@jupyter-widgets/base",
      "_view_module_version": "1.2.0",
      "_view_name": "StyleView",
      "description_width": ""
     }
    },
    "f9b81bd342ca4aa0abfbd84c2b09390b": {
     "model_module": "@jupyter-widgets/controls",
     "model_module_version": "1.5.0",
     "model_name": "ProgressStyleModel",
     "state": {
      "_model_module": "@jupyter-widgets/controls",
      "_model_module_version": "1.5.0",
      "_model_name": "ProgressStyleModel",
      "_view_count": null,
      "_view_module": "@jupyter-widgets/base",
      "_view_module_version": "1.2.0",
      "_view_name": "StyleView",
      "bar_color": null,
      "description_width": ""
     }
    },
    "f9bf001f7ec14f1686187e1e1d9bc199": {
     "model_module": "@jupyter-widgets/controls",
     "model_module_version": "1.5.0",
     "model_name": "DescriptionStyleModel",
     "state": {
      "_model_module": "@jupyter-widgets/controls",
      "_model_module_version": "1.5.0",
      "_model_name": "DescriptionStyleModel",
      "_view_count": null,
      "_view_module": "@jupyter-widgets/base",
      "_view_module_version": "1.2.0",
      "_view_name": "StyleView",
      "description_width": ""
     }
    },
    "fc274d916bcb4f95b66997f12e134d3b": {
     "model_module": "@jupyter-widgets/controls",
     "model_module_version": "1.5.0",
     "model_name": "HTMLModel",
     "state": {
      "_dom_classes": [],
      "_model_module": "@jupyter-widgets/controls",
      "_model_module_version": "1.5.0",
      "_model_name": "HTMLModel",
      "_view_count": null,
      "_view_module": "@jupyter-widgets/controls",
      "_view_module_version": "1.5.0",
      "_view_name": "HTMLView",
      "description": "",
      "description_tooltip": null,
      "layout": "IPY_MODEL_ee985c71ef514241a9432723242e79f0",
      "placeholder": "​",
      "style": "IPY_MODEL_5c7f1ff0e5f942e3a20de56130180bff",
      "value": " 1.57k/1.57k [00:00&lt;00:00, 85.3kB/s]"
     }
    },
    "fca0b3b5a4c441389b0f3e2a8eb8d7c0": {
     "model_module": "@jupyter-widgets/controls",
     "model_module_version": "1.5.0",
     "model_name": "HTMLModel",
     "state": {
      "_dom_classes": [],
      "_model_module": "@jupyter-widgets/controls",
      "_model_module_version": "1.5.0",
      "_model_name": "HTMLModel",
      "_view_count": null,
      "_view_module": "@jupyter-widgets/controls",
      "_view_module_version": "1.5.0",
      "_view_name": "HTMLView",
      "description": "",
      "description_tooltip": null,
      "layout": "IPY_MODEL_8598e6d345e14908a7dc734744d0fdc9",
      "placeholder": "​",
      "style": "IPY_MODEL_69c4539ea53a41a2a244f248f8217508",
      "value": "Map: 100%"
     }
    },
    "fe66028f9ff842b58a185eac02401cf8": {
     "model_module": "@jupyter-widgets/base",
     "model_module_version": "1.2.0",
     "model_name": "LayoutModel",
     "state": {
      "_model_module": "@jupyter-widgets/base",
      "_model_module_version": "1.2.0",
      "_model_name": "LayoutModel",
      "_view_count": null,
      "_view_module": "@jupyter-widgets/base",
      "_view_module_version": "1.2.0",
      "_view_name": "LayoutView",
      "align_content": null,
      "align_items": null,
      "align_self": null,
      "border": null,
      "bottom": null,
      "display": null,
      "flex": null,
      "flex_flow": null,
      "grid_area": null,
      "grid_auto_columns": null,
      "grid_auto_flow": null,
      "grid_auto_rows": null,
      "grid_column": null,
      "grid_gap": null,
      "grid_row": null,
      "grid_template_areas": null,
      "grid_template_columns": null,
      "grid_template_rows": null,
      "height": null,
      "justify_content": null,
      "justify_items": null,
      "left": null,
      "margin": null,
      "max_height": null,
      "max_width": null,
      "min_height": null,
      "min_width": null,
      "object_fit": null,
      "object_position": null,
      "order": null,
      "overflow": null,
      "overflow_x": null,
      "overflow_y": null,
      "padding": null,
      "right": null,
      "top": null,
      "visibility": null,
      "width": null
     }
    },
    "febd992820694c3a86e291553116546f": {
     "model_module": "@jupyter-widgets/base",
     "model_module_version": "1.2.0",
     "model_name": "LayoutModel",
     "state": {
      "_model_module": "@jupyter-widgets/base",
      "_model_module_version": "1.2.0",
      "_model_name": "LayoutModel",
      "_view_count": null,
      "_view_module": "@jupyter-widgets/base",
      "_view_module_version": "1.2.0",
      "_view_name": "LayoutView",
      "align_content": null,
      "align_items": null,
      "align_self": null,
      "border": null,
      "bottom": null,
      "display": null,
      "flex": null,
      "flex_flow": null,
      "grid_area": null,
      "grid_auto_columns": null,
      "grid_auto_flow": null,
      "grid_auto_rows": null,
      "grid_column": null,
      "grid_gap": null,
      "grid_row": null,
      "grid_template_areas": null,
      "grid_template_columns": null,
      "grid_template_rows": null,
      "height": null,
      "justify_content": null,
      "justify_items": null,
      "left": null,
      "margin": null,
      "max_height": null,
      "max_width": null,
      "min_height": null,
      "min_width": null,
      "object_fit": null,
      "object_position": null,
      "order": null,
      "overflow": null,
      "overflow_x": null,
      "overflow_y": null,
      "padding": null,
      "right": null,
      "top": null,
      "visibility": null,
      "width": "20px"
     }
    }
   }
  }
 },
 "nbformat": 4,
 "nbformat_minor": 4
}
